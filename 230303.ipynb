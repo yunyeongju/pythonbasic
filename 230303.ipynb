{
 "cells": [
  {
   "cell_type": "code",
   "execution_count": 1,
   "id": "74043567-e0ee-4909-83dd-c451b99ec38e",
   "metadata": {},
   "outputs": [
    {
     "data": {
      "text/plain": [
       "3.42"
      ]
     },
     "execution_count": 1,
     "metadata": {},
     "output_type": "execute_result"
    }
   ],
   "source": [
    "import numpy as np\n",
    "\n",
    "np.random.seed(0)\n",
    "dice = np.random.randint(1, 7, 100)\n",
    "sum(dice) / len(dice)"
   ]
  },
  {
   "cell_type": "code",
   "execution_count": 2,
   "id": "714686f4-ae43-4d29-be69-48f9e4ab2d6e",
   "metadata": {},
   "outputs": [
    {
     "data": {
      "text/plain": [
       "array([[ 8, 10, 12],\n",
       "       [14, 16, 18]])"
      ]
     },
     "execution_count": 2,
     "metadata": {},
     "output_type": "execute_result"
    }
   ],
   "source": [
    "a = np.array([[1, 2, 3], [4, 5, 6]])\n",
    "b = np.array([[7, 8, 9], [10, 11, 12]])\n",
    "a + b"
   ]
  },
  {
   "cell_type": "code",
   "execution_count": 3,
   "id": "2ff3933c-de1d-4757-a447-e5b1ab30905e",
   "metadata": {},
   "outputs": [
    {
     "data": {
      "text/plain": [
       "array([ 3,  6,  9, 12, 15, 18, 21, 24, 27])"
      ]
     },
     "execution_count": 3,
     "metadata": {},
     "output_type": "execute_result"
    }
   ],
   "source": [
    "d1 = np.arange(1, 10)\n",
    "d1 * 3"
   ]
  },
  {
   "cell_type": "code",
   "execution_count": 4,
   "id": "5f9b7389-cba3-4d0f-bf63-965adcdacdd4",
   "metadata": {},
   "outputs": [
    {
     "name": "stdout",
     "output_type": "stream",
     "text": [
      "[0. 0. 0. 0. 1. 0. 0. 0. 0. 0. 0.]\n"
     ]
    }
   ],
   "source": [
    "zero = np.zeros(11)\n",
    "zero[4]=1\n",
    "print(zero)"
   ]
  },
  {
   "cell_type": "code",
   "execution_count": 5,
   "id": "4d8fc9ce-1383-4cdd-93c8-db241f9c1460",
   "metadata": {},
   "outputs": [
    {
     "data": {
      "text/plain": [
       "array([49, 48, 47, 46, 45, 44, 43, 42, 41, 40, 39, 38, 37, 36, 35, 34, 33,\n",
       "       32, 31, 30, 29, 28, 27, 26, 25, 24, 23, 22, 21, 20, 19, 18, 17, 16,\n",
       "       15, 14, 13, 12, 11, 10,  9,  8,  7,  6,  5,  4,  3,  2,  1,  0])"
      ]
     },
     "execution_count": 5,
     "metadata": {},
     "output_type": "execute_result"
    }
   ],
   "source": [
    "c = np.arange(50)\n",
    "c[::-1]"
   ]
  },
  {
   "cell_type": "code",
   "execution_count": 6,
   "id": "07fdf1af-9179-44e0-9430-df4c463604b3",
   "metadata": {},
   "outputs": [
    {
     "data": {
      "text/plain": [
       "array([[['', '', ''],\n",
       "        ['', '', ''],\n",
       "        ['', '', '']],\n",
       "\n",
       "       [['', '', ''],\n",
       "        ['', '', ''],\n",
       "        ['', '', '']],\n",
       "\n",
       "       [['', '', ''],\n",
       "        ['', '', ''],\n",
       "        ['', '', '']]], dtype='<U10')"
      ]
     },
     "execution_count": 6,
     "metadata": {},
     "output_type": "execute_result"
    }
   ],
   "source": [
    "d = np.zeros((3, 3, 3), dtype=\"U10\")\n",
    "d"
   ]
  },
  {
   "cell_type": "code",
   "execution_count": 7,
   "id": "2205d62e-5a23-4a2b-b0e8-b4b2a1704b58",
   "metadata": {},
   "outputs": [
    {
     "data": {
      "text/plain": [
       "array([[['playdata', 'playdata', 'playdata'],\n",
       "        ['playdata', 'playdata', 'playdata'],\n",
       "        ['playdata', 'playdata', 'playdata']],\n",
       "\n",
       "       [['playdata', 'playdata', 'playdata'],\n",
       "        ['playdata', 'playdata', 'playdata'],\n",
       "        ['playdata', 'playdata', 'playdata']],\n",
       "\n",
       "       [['playdata', 'playdata', 'playdata'],\n",
       "        ['playdata', 'playdata', 'playdata'],\n",
       "        ['playdata', 'playdata', 'playdata']]], dtype='<U8')"
      ]
     },
     "execution_count": 7,
     "metadata": {},
     "output_type": "execute_result"
    }
   ],
   "source": [
    "np.full((3, 3, 3), 'playdata', dtype=\"U8\")"
   ]
  },
  {
   "cell_type": "code",
   "execution_count": 8,
   "id": "abe691f1-501f-4ecb-a868-1978412fab74",
   "metadata": {},
   "outputs": [
    {
     "data": {
      "text/plain": [
       "array([[[ 2,  4,  6,  8, 10],\n",
       "        [12, 14, 16, 18, 20]],\n",
       "\n",
       "       [[22, 24, 26, 28, 30],\n",
       "        [32, 34, 36, 38, 40]]])"
      ]
     },
     "execution_count": 8,
     "metadata": {},
     "output_type": "execute_result"
    }
   ],
   "source": [
    "e = np.arange(2, 41, 2)\n",
    "e.reshape(2, 2, 5)"
   ]
  },
  {
   "cell_type": "code",
   "execution_count": 9,
   "id": "5c715c76-7345-459c-ae98-866f8ae7da04",
   "metadata": {},
   "outputs": [
    {
     "data": {
      "text/plain": [
       "array([[1., 0., 0., 0.],\n",
       "       [0., 1., 0., 0.],\n",
       "       [0., 0., 1., 0.],\n",
       "       [0., 0., 0., 1.]])"
      ]
     },
     "execution_count": 9,
     "metadata": {},
     "output_type": "execute_result"
    }
   ],
   "source": [
    "np.eye(4)"
   ]
  },
  {
   "cell_type": "code",
   "execution_count": 10,
   "id": "82d3eb09-ab42-4741-a8eb-8bee180d7d7f",
   "metadata": {},
   "outputs": [
    {
     "data": {
      "text/plain": [
       "array([[False,  True,  True],\n",
       "       [False,  True,  True],\n",
       "       [ True,  True,  True]])"
      ]
     },
     "execution_count": 10,
     "metadata": {},
     "output_type": "execute_result"
    }
   ],
   "source": [
    "np.random.seed(0)\n",
    "f = np.random.randint(0, 2, 9)\n",
    "f.astype(\"bool\").reshape(3, 3)"
   ]
  },
  {
   "cell_type": "code",
   "execution_count": 11,
   "id": "03a8ea42-7810-40d0-bb49-d59497fb8a33",
   "metadata": {},
   "outputs": [
    {
     "data": {
      "text/plain": [
       "array([[False,  True,  True],\n",
       "       [False,  True,  True],\n",
       "       [ True,  True,  True]])"
      ]
     },
     "execution_count": 11,
     "metadata": {},
     "output_type": "execute_result"
    }
   ],
   "source": [
    "np.random.seed(0)\n",
    "f = np.random.randint(0, 2, (3, 3))\n",
    "f.astype(\"?\")"
   ]
  },
  {
   "cell_type": "code",
   "execution_count": 12,
   "id": "7d867b5c-f418-49e1-9af8-bb1bf620e44f",
   "metadata": {},
   "outputs": [
    {
     "data": {
      "text/plain": [
       "array([5, 7, 6, 5, 4, 6, 4, 8, 9, 3])"
      ]
     },
     "execution_count": 12,
     "metadata": {},
     "output_type": "execute_result"
    }
   ],
   "source": [
    "np.random.seed(0)\n",
    "g = np.random.rand(10) * 10\n",
    "g.astype(\"int\")"
   ]
  },
  {
   "cell_type": "code",
   "execution_count": 13,
   "id": "82450615-f407-4092-b433-ec61f142b606",
   "metadata": {},
   "outputs": [
    {
     "data": {
      "text/plain": [
       "array([[0., 0., 0., 0., 0., 0., 0., 0., 0., 0.],\n",
       "       [0., 1., 1., 1., 1., 1., 1., 1., 1., 0.],\n",
       "       [0., 1., 1., 1., 1., 1., 1., 1., 1., 0.],\n",
       "       [0., 1., 1., 1., 1., 1., 1., 1., 1., 0.],\n",
       "       [0., 1., 1., 1., 1., 1., 1., 1., 1., 0.],\n",
       "       [0., 1., 1., 1., 1., 1., 1., 1., 1., 0.],\n",
       "       [0., 1., 1., 1., 1., 1., 1., 1., 1., 0.],\n",
       "       [0., 1., 1., 1., 1., 1., 1., 1., 1., 0.],\n",
       "       [0., 1., 1., 1., 1., 1., 1., 1., 1., 0.],\n",
       "       [0., 0., 0., 0., 0., 0., 0., 0., 0., 0.]])"
      ]
     },
     "execution_count": 13,
     "metadata": {},
     "output_type": "execute_result"
    }
   ],
   "source": [
    "h = np.ones((10, 10))\n",
    "h[1:-1, 1:-1] = 0\n",
    "i = h-1\n",
    "i[1:-1, 1:-1] = 1\n",
    "i"
   ]
  },
  {
   "cell_type": "code",
   "execution_count": 14,
   "id": "fe455c6d-e1db-43f3-8511-98765704450e",
   "metadata": {},
   "outputs": [
    {
     "data": {
      "text/plain": [
       "array([[0., 0., 0., 0., 0., 0., 0., 0., 0., 0.],\n",
       "       [0., 1., 1., 1., 1., 1., 1., 1., 1., 0.],\n",
       "       [0., 1., 1., 1., 1., 1., 1., 1., 1., 0.],\n",
       "       [0., 1., 1., 1., 1., 1., 1., 1., 1., 0.],\n",
       "       [0., 1., 1., 1., 1., 1., 1., 1., 1., 0.],\n",
       "       [0., 1., 1., 1., 1., 1., 1., 1., 1., 0.],\n",
       "       [0., 1., 1., 1., 1., 1., 1., 1., 1., 0.],\n",
       "       [0., 1., 1., 1., 1., 1., 1., 1., 1., 0.],\n",
       "       [0., 1., 1., 1., 1., 1., 1., 1., 1., 0.],\n",
       "       [0., 0., 0., 0., 0., 0., 0., 0., 0., 0.]])"
      ]
     },
     "execution_count": 14,
     "metadata": {},
     "output_type": "execute_result"
    }
   ],
   "source": [
    "h = np.ones((10, 10))\n",
    "h[0:, 0] = 0\n",
    "h[0:, -1] = 0\n",
    "h[0, 0:] = 0\n",
    "h[-1, 0:] = 0\n",
    "h"
   ]
  },
  {
   "cell_type": "code",
   "execution_count": 15,
   "id": "6147f8fd-ec78-4b0e-9896-96051f52cbec",
   "metadata": {},
   "outputs": [
    {
     "name": "stdout",
     "output_type": "stream",
     "text": [
      "[[0. 0. 0. 0. 0. 0. 0. 0. 0. 0.]\n",
      " [0. 1. 1. 1. 1. 1. 1. 1. 1. 0.]\n",
      " [0. 1. 1. 1. 1. 1. 1. 1. 1. 0.]\n",
      " [0. 1. 1. 1. 1. 1. 1. 1. 1. 0.]\n",
      " [0. 1. 1. 1. 1. 1. 1. 1. 1. 0.]\n",
      " [0. 1. 1. 1. 1. 1. 1. 1. 1. 0.]\n",
      " [0. 1. 1. 1. 1. 1. 1. 1. 1. 0.]\n",
      " [0. 1. 1. 1. 1. 1. 1. 1. 1. 0.]\n",
      " [0. 1. 1. 1. 1. 1. 1. 1. 1. 0.]\n",
      " [0. 0. 0. 0. 0. 0. 0. 0. 0. 0.]]\n"
     ]
    }
   ],
   "source": [
    "z = np.ones((10, 10))\n",
    "z[:, [0, -1]] = 0\n",
    "z[[0, -1], :] = 0\n",
    "print(z)"
   ]
  },
  {
   "cell_type": "code",
   "execution_count": 16,
   "id": "fa14aede-7c25-41e9-b7c4-705585ba72fa",
   "metadata": {},
   "outputs": [
    {
     "name": "stdout",
     "output_type": "stream",
     "text": [
      "[[1. 0. 1. 0. 1. 0. 1. 0.]\n",
      " [0. 1. 0. 1. 0. 1. 0. 1.]\n",
      " [1. 0. 1. 0. 1. 0. 1. 0.]\n",
      " [0. 1. 0. 1. 0. 1. 0. 1.]\n",
      " [1. 0. 1. 0. 1. 0. 1. 0.]\n",
      " [0. 1. 0. 1. 0. 1. 0. 1.]\n",
      " [1. 0. 1. 0. 1. 0. 1. 0.]\n",
      " [0. 1. 0. 1. 0. 1. 0. 1.]]\n"
     ]
    }
   ],
   "source": [
    "j = np.ones((8, 8))\n",
    "j[1::2, ::2] = 0\n",
    "j[::2, 1::2] = 0\n",
    "print(j)"
   ]
  },
  {
   "cell_type": "code",
   "execution_count": 17,
   "id": "028d29b8-7c16-41c3-b7be-89dbcd4212cd",
   "metadata": {},
   "outputs": [
    {
     "data": {
      "text/plain": [
       "array([[1., 0.],\n",
       "       [0., 1.]])"
      ]
     },
     "execution_count": 17,
     "metadata": {},
     "output_type": "execute_result"
    }
   ],
   "source": [
    "k = np.array([[1, 0], [0, 1]])\n",
    "np.eye(2)"
   ]
  },
  {
   "cell_type": "code",
   "execution_count": 18,
   "id": "262d6ae1-f406-4cf6-bf72-335d5ec95480",
   "metadata": {},
   "outputs": [
    {
     "data": {
      "text/plain": [
       "array([[1., 0., 1., 0., 1., 0., 1., 0.],\n",
       "       [0., 1., 0., 1., 0., 1., 0., 1.],\n",
       "       [1., 0., 1., 0., 1., 0., 1., 0.],\n",
       "       [0., 1., 0., 1., 0., 1., 0., 1.],\n",
       "       [1., 0., 1., 0., 1., 0., 1., 0.],\n",
       "       [0., 1., 0., 1., 0., 1., 0., 1.],\n",
       "       [1., 0., 1., 0., 1., 0., 1., 0.],\n",
       "       [0., 1., 0., 1., 0., 1., 0., 1.]])"
      ]
     },
     "execution_count": 18,
     "metadata": {},
     "output_type": "execute_result"
    }
   ],
   "source": [
    "np.tile(np.eye(2), (4, 4))"
   ]
  },
  {
   "cell_type": "code",
   "execution_count": 19,
   "id": "cfcc07c0-42a5-41fb-878c-8fff213a8f10",
   "metadata": {},
   "outputs": [
    {
     "name": "stdout",
     "output_type": "stream",
     "text": [
      "[ 0  1  2  3 -4 -5 -6  7  8  9 10]\n"
     ]
    }
   ],
   "source": [
    "l = np.arange(0, 11)\n",
    "num = np.array([True if 3 < l < 7 else False for l in range(0, 11)])\n",
    "m = l[num] * -1 \n",
    "l[4:7] = m\n",
    "print(l)"
   ]
  },
  {
   "cell_type": "code",
   "execution_count": 20,
   "id": "16a31071-deb6-4240-8e50-8406e505cb5b",
   "metadata": {},
   "outputs": [
    {
     "name": "stdout",
     "output_type": "stream",
     "text": [
      "[ 0  1  2  3 -4 -5 -6  7  8  9 10]\n"
     ]
    }
   ],
   "source": [
    "l = np.arange(11)\n",
    "l[(3 < l) & (7 > l)] *= -1\n",
    "print(l)"
   ]
  },
  {
   "cell_type": "code",
   "execution_count": 21,
   "id": "7fd367cd-e46e-4400-a694-39552d3126df",
   "metadata": {},
   "outputs": [
    {
     "data": {
      "text/plain": [
       "1683"
      ]
     },
     "execution_count": 21,
     "metadata": {},
     "output_type": "execute_result"
    }
   ],
   "source": [
    "n = np.arange(3, 100, 3)\n",
    "sum(n)"
   ]
  },
  {
   "cell_type": "code",
   "execution_count": 22,
   "id": "84609e6c-4f23-4218-878c-649bd9f651dc",
   "metadata": {},
   "outputs": [
    {
     "data": {
      "text/plain": [
       "array([0.1, 0.2, 0.3, 0.4, 0.5, 0.6, 0.7, 0.8, 0.9])"
      ]
     },
     "execution_count": 22,
     "metadata": {},
     "output_type": "execute_result"
    }
   ],
   "source": [
    "np.linspace(0.1, 0.9, 9)"
   ]
  },
  {
   "cell_type": "code",
   "execution_count": 23,
   "id": "8bbc3522-c58d-4312-9c43-a43c29cc4a91",
   "metadata": {},
   "outputs": [
    {
     "data": {
      "text/plain": [
       "[6, 29, 33, 34, 43, 45]"
      ]
     },
     "execution_count": 23,
     "metadata": {},
     "output_type": "execute_result"
    }
   ],
   "source": [
    "\n",
    "\n",
    "lotto = np.random.choice(46, 6, False)\n",
    "sorted(lotto)\n"
   ]
  },
  {
   "cell_type": "code",
   "execution_count": 24,
   "id": "2f96a6c4-fee1-403a-8043-d6a72a4c9c8f",
   "metadata": {},
   "outputs": [
    {
     "name": "stdin",
     "output_type": "stream",
     "text": [
      "로또 몇개 드릴까여? 1\n"
     ]
    },
    {
     "data": {
      "text/plain": [
       "[array([ 3, 18, 20, 24, 27, 37])]"
      ]
     },
     "metadata": {},
     "output_type": "display_data"
    }
   ],
   "source": [
    "while True:\n",
    "    try:\n",
    "        count = int(input(\"로또 몇개 드릴까여?\"))\n",
    "        if count <= 0 :\n",
    "            raise Error\n",
    "        numbers = np.arange(1, 46)\n",
    "        lottos = [np.sort(np.random.choice(numbers, 6, replace=False)) for _ in range(count)]\n",
    "        display(lottos)\n",
    "        break\n",
    "    except:\n",
    "        print(\"자연수만 입력해주세요.\")"
   ]
  },
  {
   "cell_type": "code",
   "execution_count": 25,
   "id": "572a805b-17c5-451b-b4a1-15885a6f5a51",
   "metadata": {},
   "outputs": [
    {
     "data": {
      "text/plain": [
       "8"
      ]
     },
     "execution_count": 25,
     "metadata": {},
     "output_type": "execute_result"
    }
   ],
   "source": [
    "resp_time = np. array([158,  85, 205,  24,  42, 175, 188, 149, 153, 171, 137,  55, 108,\n",
    "                       199, 177, 209, 218,  76, 103, 189, 110, 192, 136, 119,   4, 102,\n",
    "                       177, 212, 110,  37, 163,  32,  77,  22, 125, 184,  46, 139,  72,\n",
    "                       168, 133, 209, 148,  47, 102,  65, 160,  56,  11,  96, 169, 118,\n",
    "                        55, 135, 217,  49, 100,  85, 179,  15, 139, 199, 124, 142,  15,\n",
    "                        49, 168, 171, 168, 177, 147,  23, 199,  26,  51,  42,  90, 128,\n",
    "                       186, 169, 129,  70, 198, 111,  81, 150,  17, 177, 201,  10,  75,\n",
    "                       199,  55, 151, 183, 152, 119, 193, 110, 204])\n",
    "\n",
    "t = resp_time > 200\n",
    "len(resp_time[t])"
   ]
  },
  {
   "cell_type": "code",
   "execution_count": 26,
   "id": "8e9237d4-d426-4c72-af51-b586d1e15198",
   "metadata": {},
   "outputs": [
    {
     "data": {
      "text/plain": [
       "8"
      ]
     },
     "execution_count": 26,
     "metadata": {},
     "output_type": "execute_result"
    }
   ],
   "source": [
    "(resp_time > 200).sum()"
   ]
  },
  {
   "cell_type": "code",
   "execution_count": 27,
   "id": "300aa73d-a925-4e2f-a899-8693002c8498",
   "metadata": {},
   "outputs": [
    {
     "name": "stdout",
     "output_type": "stream",
     "text": [
      "4.0\n",
      "71.5\n",
      "131.0\n",
      "175.5\n",
      "218.0\n"
     ]
    }
   ],
   "source": [
    "print(np.percentile(resp_time, 0))\n",
    "print(np.percentile(resp_time, 25))\n",
    "print(np.percentile(resp_time, 50))\n",
    "print(np.percentile(resp_time, 75))\n",
    "print(np.percentile(resp_time, 100))"
   ]
  },
  {
   "cell_type": "code",
   "execution_count": 28,
   "id": "aa58f51f-66b9-4451-bb28-65257b89cc58",
   "metadata": {},
   "outputs": [
    {
     "name": "stdout",
     "output_type": "stream",
     "text": [
      "1분위 25%) 값: 71.5ms\n",
      "2분위 50%) 값: 131.0ms\n",
      "3분위 75%) 값: 175.5ms\n"
     ]
    }
   ],
   "source": [
    "for i, v in enumerate(range(25, 76, 25)):\n",
    "    print(f'{i + 1}분위 {v}%) 값: {np.percentile(resp_time, v)}ms')"
   ]
  },
  {
   "cell_type": "code",
   "execution_count": 29,
   "id": "b258704d-405b-4068-8104-5e33f4d3499f",
   "metadata": {},
   "outputs": [],
   "source": [
    "p = [\"뽀로로\", \"루피\", \"크롱\"]\n",
    "result = np.array([2, 1, 2, 2, 2, 2, 0, 2, 1, 1, 0, 0, 2, 0, 0, 1, 1, 2, 2, 2, 1, 1,\n",
    "                   1, 2, 0, 2, 2, 0, 1, 1, 0, 2, 1, 0, 1, 2, 0, 0, 1, 0, 1, 1, 1, 2,\n",
    "                   1, 1, 1, 0, 0, 0, 0, 1, 0, 0, 2, 0, 2, 2, 0, 0, 1, 1, 1, 0, 0, 2,\n",
    "                   2, 1, 0, 1, 2, 0, 2, 0, 0, 0, 2, 0, 0, 0, 0, 0, 1, 2, 1, 1, 2, 0,\n",
    "                   2, 0, 0, 0, 0, 2, 1, 2, 0, 2, 0, 0, 1, 0, 1, 2, 1, 2, 0, 2, 2, 1,\n",
    "                   2, 0, 0, 1, 1, 0, 1, 2, 1, 2, 0, 2, 2, 2, 2, 0, 2, 2, 0, 2, 0, 2,\n",
    "                   1, 1, 2, 1, 1, 0, 0, 1, 0, 0, 0, 2, 2, 0, 2, 0, 0, 0, 2, 0, 0, 0,\n",
    "                   2, 0, 1, 2, 1, 0, 2, 0, 0, 1, 2, 1, 1, 2, 2, 0, 0, 0, 0, 2, 2, 1,\n",
    "                   0, 1, 1, 2, 2, 1, 0, 0, 2, 0, 0, 0, 2, 0, 2, 2, 0, 2, 1, 0, 0, 2,\n",
    "                   0, 1])\n",
    "q = np.bincount(result, minlength = 3)"
   ]
  },
  {
   "cell_type": "code",
   "execution_count": 30,
   "id": "6e2168d7-6fad-48e4-aeed-6b84b64a4204",
   "metadata": {},
   "outputs": [
    {
     "name": "stdout",
     "output_type": "stream",
     "text": [
      "뽀로로가 81표로 반장으로 선출되었습니다.\n"
     ]
    }
   ],
   "source": [
    "import numpy as np\n",
    "p = [\"뽀로로\", \"루피\", \"크롱\"]\n",
    "result = np.array([2, 1, 2, 2, 2, 2, 0, 2, 1, 1, 0, 0, 2, 0, 0, 1, 1, 2, 2, 2, 1, 1,\n",
    "                   1, 2, 0, 2, 2, 0, 1, 1, 0, 2, 1, 0, 1, 2, 0, 0, 1, 0, 1, 1, 1, 2,\n",
    "                   1, 1, 1, 0, 0, 0, 0, 1, 0, 0, 2, 0, 2, 2, 0, 0, 1, 1, 1, 0, 0, 2,\n",
    "                   2, 1, 0, 1, 2, 0, 2, 0, 0, 0, 2, 0, 0, 0, 0, 0, 1, 2, 1, 1, 2, 0,\n",
    "                   2, 0, 0, 0, 0, 2, 1, 2, 0, 2, 0, 0, 1, 0, 1, 2, 1, 2, 0, 2, 2, 1,\n",
    "                   2, 0, 0, 1, 1, 0, 1, 2, 1, 2, 0, 2, 2, 2, 2, 0, 2, 2, 0, 2, 0, 2,\n",
    "                   1, 1, 2, 1, 1, 0, 0, 1, 0, 0, 0, 2, 2, 0, 2, 0, 0, 0, 2, 0, 0, 0,\n",
    "                   2, 0, 1, 2, 1, 0, 2, 0, 0, 1, 2, 1, 1, 2, 2, 0, 0, 0, 0, 2, 2, 1,\n",
    "                   0, 1, 1, 2, 2, 1, 0, 0, 2, 0, 0, 0, 2, 0, 2, 2, 0, 2, 1, 0, 0, 2,\n",
    "                   0, 1])\n",
    "count = np.bincount(result, minlength = 3)\n",
    "winner_index = count.argmax()\n",
    "print(f'{p[winner_index]}가 {count[winner_index]}표로 반장으로 선출되었습니다.')"
   ]
  },
  {
   "cell_type": "code",
   "execution_count": null,
   "id": "e1107b14-26ba-4ccc-9f9c-e41444fb9daf",
   "metadata": {},
   "outputs": [],
   "source": []
  }
 ],
 "metadata": {
  "kernelspec": {
   "display_name": "Python 3 (ipykernel)",
   "language": "python",
   "name": "python3"
  },
  "language_info": {
   "codemirror_mode": {
    "name": "ipython",
    "version": 3
   },
   "file_extension": ".py",
   "mimetype": "text/x-python",
   "name": "python",
   "nbconvert_exporter": "python",
   "pygments_lexer": "ipython3",
   "version": "3.9.13"
  }
 },
 "nbformat": 4,
 "nbformat_minor": 5
}
