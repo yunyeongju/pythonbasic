{
 "cells": [
  {
   "cell_type": "code",
   "execution_count": 3,
   "id": "09dfe263-ceb1-4ac9-8eaa-80e3854e070e",
   "metadata": {},
   "outputs": [
    {
     "name": "stdout",
     "output_type": "stream",
     "text": [
      "3.9.13 (main, Aug 25 2022, 23:51:50) [MSC v.1916 64 bit (AMD64)]\n"
     ]
    }
   ],
   "source": [
    "import sys\n",
    "print(sys.version)"
   ]
  },
  {
   "cell_type": "code",
   "execution_count": 4,
   "id": "f2e9ecb4-f01a-4c17-bca9-5ba0aafa4acb",
   "metadata": {},
   "outputs": [
    {
     "name": "stdout",
     "output_type": "stream",
     "text": [
      " C 드라이브의 볼륨에는 이름이 없습니다.\n",
      " 볼륨 일련 번호: D42D-DE20\n",
      "\n",
      " C:\\python 디렉터리\n",
      "\n",
      "2023-02-13  오전 10:33    <DIR>          .\n",
      "2023-02-13  오전 10:33    <DIR>          ..\n",
      "2023-02-13  오전 10:31    <DIR>          .ipynb_checkpoints\n",
      "2023-02-13  오전 10:33               992 01python.ipynb\n",
      "               1개 파일                 992 바이트\n",
      "               3개 디렉터리  144,445,362,176 바이트 남음\n"
     ]
    }
   ],
   "source": [
    "!dir"
   ]
  },
  {
   "cell_type": "code",
   "execution_count": 5,
   "id": "cebecbf8-6ecd-4e40-9469-2cce34a97eec",
   "metadata": {},
   "outputs": [
    {
     "name": "stdout",
     "output_type": "stream",
     "text": [
      "Hello world\n"
     ]
    }
   ],
   "source": [
    "print(\"Hello world\")"
   ]
  },
  {
   "cell_type": "code",
   "execution_count": null,
   "id": "1041c8ba-7511-4965-bde5-4267d532ac30",
   "metadata": {},
   "outputs": [],
   "source": []
  }
 ],
 "metadata": {
  "kernelspec": {
   "display_name": "Python 3 (ipykernel)",
   "language": "python",
   "name": "python3"
  },
  "language_info": {
   "codemirror_mode": {
    "name": "ipython",
    "version": 3
   },
   "file_extension": ".py",
   "mimetype": "text/x-python",
   "name": "python",
   "nbconvert_exporter": "python",
   "pygments_lexer": "ipython3",
   "version": "3.9.13"
  }
 },
 "nbformat": 4,
 "nbformat_minor": 5
}
