{
 "cells": [
  {
   "cell_type": "code",
   "execution_count": 1,
   "id": "36d385fc-ac52-41b6-9737-eae97cdb744b",
   "metadata": {},
   "outputs": [
    {
     "name": "stdout",
     "output_type": "stream",
     "text": [
      "{75, 45, 15, 90, 60, 30}\n"
     ]
    }
   ],
   "source": [
    "set_3 = {a for a in range(3, 101, 3)}\n",
    "set_5 = {b for b in range(5, 101, 5)}\n",
    "result_set = (set.intersection(set_3, set_5))\n",
    "print(result_set)"
   ]
  },
  {
   "cell_type": "code",
   "execution_count": 2,
   "id": "177a4f3e-d962-4ce5-bf95-e87be0f6e8fb",
   "metadata": {},
   "outputs": [
    {
     "name": "stdout",
     "output_type": "stream",
     "text": [
      "{75, 45, 15, 90, 60, 30}\n"
     ]
    }
   ],
   "source": [
    "set_3 = {_ for _ in range(1, 101) if _ % 3 == 0}\n",
    "set_5 = {_ for _ in range(1, 101) if _ % 5 == 0}\n",
    "result_set = (set.intersection(set_3, set_5))\n",
    "print(result_set)"
   ]
  },
  {
   "cell_type": "code",
   "execution_count": 3,
   "id": "19ca82ab-ad65-44c5-b578-00584478df0a",
   "metadata": {},
   "outputs": [
    {
     "name": "stdout",
     "output_type": "stream",
     "text": [
      "['시스템 관리', '회계 관리', '근태 관리', '인사 관리', '개인정보 조회', '구매 관리']\n"
     ]
    }
   ],
   "source": [
    "role_admin = (\"회계 관리\", \"인사 관리\", \"구매 관리\", \"시스템 관리\")\n",
    "role_hr = (\"인사 관리\", \"개인정보 조회\", \"회계 관리\", \"근태 관리\")\n",
    "role_user = (\"개인정보 조회\", \"근태 관리\")\n",
    "\n",
    "role_A = set(role_admin + role_hr + role_user)\n",
    "result = list(role_A)\n",
    "print(result)"
   ]
  },
  {
   "cell_type": "code",
   "execution_count": 4,
   "id": "ebf442fa-972d-463c-843b-c2326b0f3889",
   "metadata": {},
   "outputs": [
    {
     "name": "stdout",
     "output_type": "stream",
     "text": [
      "개인정보 조회, 구매 관리, 근태 관리, 시스템 관리, 인사 관리, 회계 관리, "
     ]
    }
   ],
   "source": [
    "menus = list(set(role_admin + role_hr + role_user))\n",
    "menus.sort()\n",
    "end_char = \", \"\n",
    "for menu in menus :\n",
    "    if menus[-1] == menus:\n",
    "        end_char = \"\"\n",
    "    print(menu, end = end_char)"
   ]
  },
  {
   "cell_type": "code",
   "execution_count": 5,
   "id": "32c393d9-2d45-4f04-91f0-320ecb2dd071",
   "metadata": {},
   "outputs": [
    {
     "name": "stdout",
     "output_type": "stream",
     "text": [
      "<class 'list'>\n"
     ]
    }
   ],
   "source": [
    "print(list)"
   ]
  },
  {
   "cell_type": "code",
   "execution_count": 6,
   "id": "146c02e1-e968-4660-89c0-7567d8a5d8da",
   "metadata": {},
   "outputs": [],
   "source": [
    "def print_ten():\n",
    "    \"\"\"print(\"hello\")를 열번 출력합니다.\"\"\"\n",
    "    for _ in range(10):\n",
    "        print(\"hello\")"
   ]
  },
  {
   "cell_type": "code",
   "execution_count": 4,
   "id": "d4f42c50-9bdf-464c-93f8-a7c4d7a421bd",
   "metadata": {},
   "outputs": [
    {
     "name": "stdout",
     "output_type": "stream",
     "text": [
      "hello\n",
      "hello\n",
      "hello\n",
      "hello\n",
      "hello\n",
      "hello\n",
      "hello\n",
      "hello\n",
      "hello\n",
      "hello\n"
     ]
    }
   ],
   "source": [
    "print_ten()"
   ]
  },
  {
   "cell_type": "code",
   "execution_count": 5,
   "id": "f24ecef3-815a-4857-88ad-de4f35673ea5",
   "metadata": {},
   "outputs": [
    {
     "name": "stdout",
     "output_type": "stream",
     "text": [
      "print(\"hello\")를 열번 출력합니다.\n"
     ]
    }
   ],
   "source": [
    "print(print_ten.__doc__)"
   ]
  },
  {
   "cell_type": "code",
   "execution_count": 7,
   "id": "8cb25cfe-57d0-4e2e-ac47-89986daae11c",
   "metadata": {},
   "outputs": [
    {
     "name": "stdout",
     "output_type": "stream",
     "text": [
      "print(value, ..., sep=' ', end='\\n', file=sys.stdout, flush=False)\n",
      "\n",
      "Prints the values to a stream, or to sys.stdout by default.\n",
      "Optional keyword arguments:\n",
      "file:  a file-like object (stream); defaults to the current sys.stdout.\n",
      "sep:   string inserted between values, default a space.\n",
      "end:   string appended after the last value, default a newline.\n",
      "flush: whether to forcibly flush the stream.\n"
     ]
    }
   ],
   "source": [
    "print(print.__doc__)"
   ]
  },
  {
   "cell_type": "code",
   "execution_count": 9,
   "id": "53afb039-3bdb-437b-8e4f-3320567beb08",
   "metadata": {},
   "outputs": [],
   "source": [
    "def posonly(posonly,/):\n",
    "    print(posonly) "
   ]
  },
  {
   "cell_type": "code",
   "execution_count": 10,
   "id": "449ebf3d-044e-4c85-a574-328531cde1ec",
   "metadata": {},
   "outputs": [
    {
     "name": "stdout",
     "output_type": "stream",
     "text": [
      "값만 입력해야 합니다.\n"
     ]
    }
   ],
   "source": [
    "posonly(\"값만 입력해야 합니다.\")"
   ]
  },
  {
   "cell_type": "code",
   "execution_count": 11,
   "id": "08816bd7-32d0-4351-a5bd-8b272428eee4",
   "metadata": {},
   "outputs": [],
   "source": [
    "def keyonly(*, keyonly = \"default\"):\n",
    "    print(keyonly)"
   ]
  },
  {
   "cell_type": "code",
   "execution_count": 12,
   "id": "68602afa-4639-4c5b-b25f-5c12a7bacbb2",
   "metadata": {},
   "outputs": [
    {
     "name": "stdout",
     "output_type": "stream",
     "text": [
      "default\n"
     ]
    }
   ],
   "source": [
    "keyonly()"
   ]
  },
  {
   "cell_type": "code",
   "execution_count": 13,
   "id": "4d35b970-35b8-4de4-9835-f47c918b3114",
   "metadata": {},
   "outputs": [
    {
     "name": "stdout",
     "output_type": "stream",
     "text": [
      "키워드로만 입력해야 합니다.\n"
     ]
    }
   ],
   "source": [
    "keyonly(keyonly=\"키워드로만 입력해야 합니다.\")"
   ]
  },
  {
   "cell_type": "code",
   "execution_count": 14,
   "id": "07a306ad-9254-4fd2-a1e3-6b7203c355b9",
   "metadata": {},
   "outputs": [],
   "source": [
    "def var_positional(*args):\n",
    "    print(type(args))\n",
    "    return sum([_ for _ in args])"
   ]
  },
  {
   "cell_type": "code",
   "execution_count": 15,
   "id": "a0bdbbd0-170a-473f-b99d-907e9d2c477a",
   "metadata": {},
   "outputs": [
    {
     "name": "stdout",
     "output_type": "stream",
     "text": [
      "<class 'tuple'>\n",
      "15\n"
     ]
    }
   ],
   "source": [
    "print(var_positional(1, 2, 3, 4, 5))"
   ]
  },
  {
   "cell_type": "code",
   "execution_count": 16,
   "id": "87d8b311-0636-4f7e-8d48-60d451fe43da",
   "metadata": {},
   "outputs": [],
   "source": [
    "def var_keyword(**kargs):\n",
    "    print(type(kargs))\n",
    "    return kargs"
   ]
  },
  {
   "cell_type": "code",
   "execution_count": 17,
   "id": "eae9e36d-0132-478d-ac87-b415df8463fa",
   "metadata": {},
   "outputs": [
    {
     "name": "stdout",
     "output_type": "stream",
     "text": [
      "<class 'dict'>\n",
      "{'key': 'value', 'key2': 'value2'}\n"
     ]
    }
   ],
   "source": [
    "print(var_keyword(key=\"value\", key2=\"value2\"))"
   ]
  },
  {
   "cell_type": "code",
   "execution_count": 38,
   "id": "6a0262ff-bb80-4858-b872-ea3f47944a59",
   "metadata": {},
   "outputs": [],
   "source": [
    "def plus_ten(num):\n",
    "    return(num+10)"
   ]
  },
  {
   "cell_type": "code",
   "execution_count": 40,
   "id": "4cb42929-fb72-40db-b3eb-887006bc02e2",
   "metadata": {},
   "outputs": [
    {
     "data": {
      "text/plain": [
       "80"
      ]
     },
     "execution_count": 40,
     "metadata": {},
     "output_type": "execute_result"
    }
   ],
   "source": [
    "plus_ten(70)"
   ]
  },
  {
   "cell_type": "code",
   "execution_count": 41,
   "id": "87bacdaf-7f77-472b-b921-99f3b72ffc73",
   "metadata": {},
   "outputs": [
    {
     "name": "stdout",
     "output_type": "stream",
     "text": [
      "80\n"
     ]
    }
   ],
   "source": [
    "def plus_ten(num):\n",
    "    return num + 10\n",
    "print(plus_ten(70))"
   ]
  },
  {
   "cell_type": "code",
   "execution_count": 44,
   "id": "449b00c3-1a01-4fde-9ea7-fc4493ea6709",
   "metadata": {},
   "outputs": [],
   "source": [
    "def to_celsius(fahrenheit):\n",
    "    return (fahrenheit - 32) * 5 / 9"
   ]
  },
  {
   "cell_type": "code",
   "execution_count": 48,
   "id": "4f38a2ab-080b-4020-a645-84bc9387ce35",
   "metadata": {},
   "outputs": [
    {
     "name": "stdout",
     "output_type": "stream",
     "text": [
      "21.11111111111111\n"
     ]
    }
   ],
   "source": [
    "print(to_celsius(70))"
   ]
  },
  {
   "cell_type": "code",
   "execution_count": 82,
   "id": "fdda3bca-1dc1-4a7e-afde-21528942c468",
   "metadata": {},
   "outputs": [],
   "source": [
    "def odd_even(even):\n",
    "    \"\"\"number가 짝수면 \"짝수\", 홀수면 \"홀수\" 반환\"\"\"\n",
    "    if type(even) != int:\n",
    "        return (\"None\")\n",
    "    if even % 2 == 0:\n",
    "        return (\"짝수\")\n",
    "    elif even % 2 != 0:\n",
    "        return (\"홀수\")\n",
    "    \n",
    "          "
   ]
  },
  {
   "cell_type": "code",
   "execution_count": 83,
   "id": "c63fc1d4-f138-4a67-a73a-046b86f9df21",
   "metadata": {},
   "outputs": [
    {
     "name": "stdout",
     "output_type": "stream",
     "text": [
      "number가 짝수면 \"짝수\", 홀수면 \"홀수\" 반환\n",
      "짝수\n",
      "홀수\n",
      "None\n"
     ]
    }
   ],
   "source": [
    "print(odd_even.__doc__)\n",
    "print(odd_even(10))\n",
    "print(odd_even(9))\n",
    "print(odd_even(\"가\"))"
   ]
  },
  {
   "cell_type": "code",
   "execution_count": 85,
   "id": "5249f372-576a-4a8f-adf4-d76943108659",
   "metadata": {},
   "outputs": [],
   "source": [
    "def odd_even(number):\n",
    "    \"\"\"number가 짝수면 \"짝수\", 홀수면 \"홀수\" 반환\"\"\"\n",
    "    if type(number) is int and number > 0:\n",
    "        return \"짝수\" * (number % 2 == 0) or \"홀수\" # True = 1\n",
    "    else:\n",
    "        return"
   ]
  },
  {
   "cell_type": "code",
   "execution_count": 86,
   "id": "fed6cafd-d845-4db5-9d75-276c82ee22ea",
   "metadata": {},
   "outputs": [
    {
     "name": "stdout",
     "output_type": "stream",
     "text": [
      "number가 짝수면 \"짝수\", 홀수면 \"홀수\" 반환\n",
      "짝수\n",
      "홀수\n",
      "None\n"
     ]
    }
   ],
   "source": [
    "print(odd_even.__doc__)\n",
    "print(odd_even(10))\n",
    "print(odd_even(9))\n",
    "print(odd_even(\"가\"))"
   ]
  },
  {
   "cell_type": "code",
   "execution_count": 138,
   "id": "827486ce-f33e-434e-ae40-bd44caa4afca",
   "metadata": {},
   "outputs": [
    {
     "name": "stdin",
     "output_type": "stream",
     "text": [
      "check_leap_year 1900\n"
     ]
    }
   ],
   "source": [
    "yyyy = input(\"check_leap_year\")\n",
    "\n",
    "def check_leap_year(yyyy):\n",
    "      \n",
    "    if yyyy % 100 == 0 and yyyy % 400 != 0 or yyyy % 4 == 0 :\n",
    "        return \"윤년\"\n",
    "    else:\n",
    "        return \"평년\"\n"
   ]
  },
  {
   "cell_type": "code",
   "execution_count": 139,
   "id": "f932f3b1-6a0d-40af-8a35-33e6b0918ab1",
   "metadata": {},
   "outputs": [
    {
     "data": {
      "text/plain": [
       "'윤년'"
      ]
     },
     "execution_count": 139,
     "metadata": {},
     "output_type": "execute_result"
    }
   ],
   "source": [
    "check_leap_year(1900)"
   ]
  },
  {
   "cell_type": "code",
   "execution_count": 140,
   "id": "450eb547-3e57-4623-ae45-09a0defc231e",
   "metadata": {},
   "outputs": [],
   "source": [
    "def check_leap_year(yyyy):\n",
    "      \n",
    "    if yyyy % 4 == 0 and (yyyy % 100 != 0 or yyyy % 400 == 0 ):\n",
    "        return \"윤년\"\n",
    "    else:\n",
    "        return \"평년\"\n"
   ]
  },
  {
   "cell_type": "code",
   "execution_count": 141,
   "id": "3116db07-e007-4b68-aa6b-60c64e9e87eb",
   "metadata": {},
   "outputs": [
    {
     "data": {
      "text/plain": [
       "'평년'"
      ]
     },
     "execution_count": 141,
     "metadata": {},
     "output_type": "execute_result"
    }
   ],
   "source": [
    "check_leap_year(1900)"
   ]
  },
  {
   "cell_type": "code",
   "execution_count": 152,
   "id": "f43002cc-82fd-4b0e-b9f1-12cdad195b47",
   "metadata": {},
   "outputs": [],
   "source": [
    "def days(dd):\n",
    "    if dd in (1, 3, 5, 7, 8, 10, 12):\n",
    "        return 31\n",
    "    if dd in (4, 6, 9, 11):\n",
    "        return 30\n",
    "    else:\n",
    "        return 28"
   ]
  },
  {
   "cell_type": "code",
   "execution_count": 156,
   "id": "dd7a84b5-f98b-4536-ac2a-efd228a9ddc5",
   "metadata": {},
   "outputs": [
    {
     "name": "stdout",
     "output_type": "stream",
     "text": [
      "30\n",
      "28\n",
      "31\n"
     ]
    }
   ],
   "source": [
    "print(days(11))\n",
    "print(days(2))\n",
    "print(days(1))"
   ]
  },
  {
   "cell_type": "code",
   "execution_count": 183,
   "id": "4afe8bc1-7b5b-44b2-ae9e-c17b8e0bf8fc",
   "metadata": {},
   "outputs": [],
   "source": [
    "def days(y, m):\n",
    "    if m in (1, 3, 5, 7, 8, 10, 12):\n",
    "        return 31\n",
    "    elif m in (4, 6, 9, 11):\n",
    "        return 30\n",
    "    elif m == 2:\n",
    "        if y % 4 == 0 and (y % 100 != 0 or y % 400 == 0 ):\n",
    "            return 29\n",
    "        else:\n",
    "            return 28\n",
    "        "
   ]
  },
  {
   "cell_type": "code",
   "execution_count": 187,
   "id": "e59a0200-e81c-4dfc-9571-53a6d18931b3",
   "metadata": {},
   "outputs": [
    {
     "name": "stdout",
     "output_type": "stream",
     "text": [
      "30\n",
      "31\n",
      "28\n",
      "29\n"
     ]
    }
   ],
   "source": [
    "print(days(1900, 11))\n",
    "print(days(2004, 10))\n",
    "print(days(1900, 2))\n",
    "print(days(2000, 2))"
   ]
  },
  {
   "cell_type": "code",
   "execution_count": 190,
   "id": "e881068e-72cb-44d0-9be6-964cf83ff067",
   "metadata": {},
   "outputs": [],
   "source": [
    "def days(y, m):\n",
    "    if m in (1, 3, 5, 7, 8, 10, 12):\n",
    "        return 31\n",
    "    elif m in (4, 6, 9, 11):\n",
    "        return 30\n",
    "    elif y % 4 == 0 and (y % 100 != 0 or y % 400 == 0 ):\n",
    "            return 29\n",
    "    else:\n",
    "        return 28"
   ]
  },
  {
   "cell_type": "code",
   "execution_count": 191,
   "id": "f281832b-8481-4f1b-9178-1c5717a33eca",
   "metadata": {},
   "outputs": [
    {
     "name": "stdout",
     "output_type": "stream",
     "text": [
      "30\n",
      "31\n",
      "28\n",
      "29\n"
     ]
    }
   ],
   "source": [
    "print(days(1900, 11))\n",
    "print(days(2004, 10))\n",
    "print(days(1900, 2))\n",
    "print(days(2000, 2))"
   ]
  },
  {
   "cell_type": "code",
   "execution_count": null,
   "id": "48fc9b8d-efd4-4ea5-984c-9f62da6e4f46",
   "metadata": {},
   "outputs": [],
   "source": []
  }
 ],
 "metadata": {
  "kernelspec": {
   "display_name": "Python 3 (ipykernel)",
   "language": "python",
   "name": "python3"
  },
  "language_info": {
   "codemirror_mode": {
    "name": "ipython",
    "version": 3
   },
   "file_extension": ".py",
   "mimetype": "text/x-python",
   "name": "python",
   "nbconvert_exporter": "python",
   "pygments_lexer": "ipython3",
   "version": "3.9.13"
  }
 },
 "nbformat": 4,
 "nbformat_minor": 5
}
