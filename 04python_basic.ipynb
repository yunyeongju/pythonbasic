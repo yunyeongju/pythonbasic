{
 "cells": [
  {
   "cell_type": "code",
   "execution_count": 1,
   "id": "9ac55e35-f9e4-47f7-a854-391dc901fe36",
   "metadata": {},
   "outputs": [],
   "source": [
    "# print 함수를 여러 인자 값으로 사용할 때\n",
    "# 맨 마지막에 sep=\"구분 기호\" ex) , : 등 을 사용해서 공백이 아닌 다른 문자로 변경 가능"
   ]
  },
  {
   "cell_type": "code",
   "execution_count": 4,
   "id": "2e9ecadc-9ced-45a9-a62a-541d9b6817a8",
   "metadata": {},
   "outputs": [
    {
     "name": "stdout",
     "output_type": "stream",
     "text": [
      "줄이 바뀌지 않습니다.그 이유는 end=\"\\n\"과 같이 기본 설정된 값을 빈 스트링으로 변경했기 때문입니다.\n",
      "sep, end는 맨 뒤에 써야하며 둘 간의 순서는 상관없습니다.어떻게 사용하는지\n",
      "이해가 되시나요?"
     ]
    }
   ],
   "source": [
    "# 맨 마지막에 end=문자열\n",
    "\n",
    "print(\"줄이 바뀌지 않습니다.\", end=\"\")\n",
    "print(\"그 이유는 end=\\\"\\\\n\\\"과 같이 기본 설정된 값을 빈 스트링으로 변경했기 때문입니다.\")\n",
    "print(\"sep\",\"end는 맨 뒤에 써야하며 둘 간의 순서는 상관없습니다.\", sep=\", \", end=\"\")\n",
    "print(\"어떻게 사용하는지\", \"이해가 되시나요\", sep=\"\\n\", end=\"?\")"
   ]
  },
  {
   "cell_type": "code",
   "execution_count": 12,
   "id": "f29e00ac-9e7f-473d-965f-96103dc16672",
   "metadata": {},
   "outputs": [
    {
     "name": "stdout",
     "output_type": "stream",
     "text": [
      "2021/02/03 18:33:23\n"
     ]
    }
   ],
   "source": [
    "year = '2021'\n",
    "month = '02'\n",
    "day = '03'\n",
    "hour = '18'\n",
    "minute = '33'\n",
    "second = '23'\n",
    "\n",
    "print(year, month, day, sep=\"/\", end=\" \")\n",
    "print(hour, minute, second, sep=\":\")"
   ]
  },
  {
   "cell_type": "code",
   "execution_count": 17,
   "id": "77e3bb44-3ea8-4978-95e1-a52ee26dfcec",
   "metadata": {},
   "outputs": [
    {
     "name": "stdin",
     "output_type": "stream",
     "text": [
      "사과와 귤을 몇개 드릴까요? 10,20\n"
     ]
    },
    {
     "name": "stdout",
     "output_type": "stream",
     "text": [
      "총 가격은 14000 원입니다."
     ]
    }
   ],
   "source": [
    "apple, mandarine = map(int,input(\"사과와 귤을 몇개 드릴까요?\").split(\",\"))\n",
    "value = (apple * 1000) + (mandarine * 200)\n",
    "print(\"총 가격은\", value, \"원입니다.\")"
   ]
  },
  {
   "cell_type": "code",
   "execution_count": 20,
   "id": "a030773f-8ca7-4e29-bf5e-f348d4f69113",
   "metadata": {},
   "outputs": [
    {
     "name": "stdin",
     "output_type": "stream",
     "text": [
      "사과와 귤을 몇개 드릴까요? 10,20\n"
     ]
    },
    {
     "name": "stdout",
     "output_type": "stream",
     "text": [
      "총 가격은 14000원입니다.\n"
     ]
    }
   ],
   "source": [
    "apple_price = 1000\n",
    "tangerine_price = 200\n",
    "apple, tangerine = map(int, input(\"사과와 귤을 몇개 드릴까요?\").split(\",\"))\n",
    "                                  \n",
    "total_price = apple_price * apple + tangerine_price * tangerine\n",
    "                                  \n",
    "print(\"총 가격은 \", total_price, \"원입니다.\", sep=\"\")"
   ]
  },
  {
   "cell_type": "code",
   "execution_count": 22,
   "id": "b3f9ea90-4380-4f85-bc14-d63525e582e1",
   "metadata": {},
   "outputs": [
    {
     "name": "stdout",
     "output_type": "stream",
     "text": [
      "오늘의 날짜를 알려드립니다!\n",
      "2023년 2월 15일입니다.\n"
     ]
    }
   ],
   "source": [
    "import time\n",
    "\n",
    "today = \"\"\"오늘의 날짜를 알려드립니다!\n",
    "{}년 {}월 {}일입니다.\\\n",
    "\"\"\".format(time.localtime().tm_year,\n",
    "           time.localtime().tm_mon,\n",
    "           time.localtime().tm_mday)\n",
    "\n",
    "print(today)"
   ]
  },
  {
   "cell_type": "code",
   "execution_count": 24,
   "id": "0c8bf1f0-a1e1-48c0-81aa-711dd32501bd",
   "metadata": {},
   "outputs": [
    {
     "name": "stdout",
     "output_type": "stream",
     "text": [
      "중괄호는 2개이고, 여기 인수는\n"
     ]
    }
   ],
   "source": [
    "# 중괄호 개수보다 format 메서드의 인수가 많으면\n",
    "# 초과되는 format 메서드의 인수는 버려집니다. 개수 맞춰서 쓰면 됨!\n",
    "some_str = \"중괄호는 2개이고, {} {}\".format(\"여기\",\"인수는\",\"3개 입니다.\") # 괄호 안은 argument라고 부름\n",
    "print(some_str)"
   ]
  },
  {
   "cell_type": "code",
   "execution_count": 25,
   "id": "4f3e2439-d4cf-4871-a76f-36bf17b5011d",
   "metadata": {},
   "outputs": [
    {
     "ename": "IndexError",
     "evalue": "Replacement index 3 out of range for positional args tuple",
     "output_type": "error",
     "traceback": [
      "\u001b[1;31m---------------------------------------------------------------------------\u001b[0m",
      "\u001b[1;31mIndexError\u001b[0m                                Traceback (most recent call last)",
      "\u001b[1;32m~\\AppData\\Local\\Temp\\ipykernel_9364\\4219479853.py\u001b[0m in \u001b[0;36m<module>\u001b[1;34m\u001b[0m\n\u001b[0;32m      1\u001b[0m \u001b[1;31m# 중괄호 개수보다 format 메서드의 인수가 적으면\u001b[0m\u001b[1;33m\u001b[0m\u001b[1;33m\u001b[0m\u001b[0m\n\u001b[0;32m      2\u001b[0m \u001b[1;31m# IndexError가 발생됩니다.\u001b[0m\u001b[1;33m\u001b[0m\u001b[1;33m\u001b[0m\u001b[0m\n\u001b[1;32m----> 3\u001b[1;33m \u001b[0msome_str\u001b[0m \u001b[1;33m=\u001b[0m \u001b[1;34m\"중괄호는 4개이고, {} {} {} {}\"\u001b[0m\u001b[1;33m.\u001b[0m\u001b[0mformat\u001b[0m\u001b[1;33m(\u001b[0m\u001b[1;34m\"여기\"\u001b[0m\u001b[1;33m,\u001b[0m \u001b[1;34m\"인수는\"\u001b[0m\u001b[1;33m,\u001b[0m \u001b[1;34m\"3개 입니다.\"\u001b[0m\u001b[1;33m)\u001b[0m\u001b[1;33m\u001b[0m\u001b[1;33m\u001b[0m\u001b[0m\n\u001b[0m\u001b[0;32m      4\u001b[0m \u001b[0mprint\u001b[0m\u001b[1;33m(\u001b[0m\u001b[0msome_str\u001b[0m\u001b[1;33m)\u001b[0m\u001b[1;33m\u001b[0m\u001b[1;33m\u001b[0m\u001b[0m\n",
      "\u001b[1;31mIndexError\u001b[0m: Replacement index 3 out of range for positional args tuple"
     ]
    }
   ],
   "source": [
    "# 중괄호 개수보다 format 메서드의 인수가 적으면\n",
    "# IndexError가 발생됩니다.\n",
    "some_str = \"중괄호는 4개이고, {} {} {} {}\".format(\"여기\", \"인수는\", \"3개 입니다.\")\n",
    "print(some_str)"
   ]
  },
  {
   "cell_type": "code",
   "execution_count": 27,
   "id": "8ab1af56-feb8-4862-9917-6b45d923e623",
   "metadata": {},
   "outputs": [
    {
     "name": "stdout",
     "output_type": "stream",
     "text": [
      "10\n",
      "10 20 30\n",
      "101 202 303 404 505\n"
     ]
    }
   ],
   "source": [
    "print(f\"{10}\")\n",
    "print(f\"{10} {20} {30}\")\n",
    "print(f\"{101} {202} {303} {404} {505}\")"
   ]
  },
  {
   "cell_type": "code",
   "execution_count": 28,
   "id": "89cdebf0-51ec-4382-bb18-6b3ca6f36e18",
   "metadata": {},
   "outputs": [
    {
     "name": "stdout",
     "output_type": "stream",
     "text": [
      "오늘의 날짜를 알려드립니다!\n",
      "2023년 2월 15일입니다.\n"
     ]
    }
   ],
   "source": [
    "import time\n",
    "\n",
    "today = f\"\"\"오늘의 날짜를 알려드립니다!\n",
    "{time.localtime().tm_year}년 {time.localtime().tm_mon}월 {time.localtime().tm_mday}일입니다.\\\n",
    "\"\"\"\n",
    "\n",
    "print(today)"
   ]
  },
  {
   "cell_type": "code",
   "execution_count": 29,
   "id": "3751d0b4-1a5b-423b-9c3c-23c53c70f9de",
   "metadata": {},
   "outputs": [],
   "source": [
    "# if문\n",
    "# main 흐름 -> if 조건:\n",
    "            # -> true면 if if문 블록 --> main 흐름\n",
    "            # -> false면 main 흐름\n",
    "        \n",
    "#만약 이 조건이 True면 아래 들여쓰기한 부분을 실행해:\n",
    "    # 들여쓰기 (제발 띄어쓰기 네칸)\n",
    "    # 들여쓰기 (제발 띄어쓰기 네칸)\n",
    "    # 들여쓰기 (제발 띄어쓰기 네칸)\n",
    "    # 들여쓰기 (제발 띄어쓰기 네칸)\n",
    "# 다시 주 흐름으로...\n",
    "\n",
    "#만약 이 조건이 False면 아래 들여쓰기한 부분은 패스해:\n",
    "    # 들여쓰기(제발 띄어쓰기 네칸)\n",
    "    # 들여쓰기(제발 띄어쓰기 네칸)\n",
    "    # 들여쓰기(제발 띄어쓰기 네칸)\n",
    "# 다시 주 흐름으로...\n",
    "    "
   ]
  },
  {
   "cell_type": "code",
   "execution_count": 32,
   "id": "a6516a5f-212a-4900-bb36-6c728b8a5715",
   "metadata": {},
   "outputs": [
    {
     "name": "stdout",
     "output_type": "stream",
     "text": [
      "<class 'int'>\n",
      "<class 'int'>\n"
     ]
    }
   ],
   "source": [
    "input_value4 = int()\n",
    "\n",
    "print(type(input_value4))\n",
    "print(int)"
   ]
  },
  {
   "cell_type": "code",
   "execution_count": 34,
   "id": "4b5b3a33-7319-4551-8a96-218356ec02a9",
   "metadata": {},
   "outputs": [
    {
     "data": {
      "text/plain": [
       "True"
      ]
     },
     "execution_count": 34,
     "metadata": {},
     "output_type": "execute_result"
    }
   ],
   "source": [
    "# 객체 타입 비교 - is 키워드\n",
    "# ex. 좌 is 우\n",
    "# 좌, 우 객체를 비교하여 동일한 종류의 객체라면 true / 다른 종류의 객체라면 false를 반환함\n",
    "\n",
    "type(input_value4) is int"
   ]
  },
  {
   "cell_type": "code",
   "execution_count": 35,
   "id": "1e82bdd5-f943-43c8-bd36-11976e15f209",
   "metadata": {},
   "outputs": [
    {
     "name": "stdout",
     "output_type": "stream",
     "text": [
      "input_value4는 정수입니다.\n"
     ]
    }
   ],
   "source": [
    "if type(input_value4) is int:\n",
    "    print(\"input_value4는 정수입니다.\")"
   ]
  },
  {
   "cell_type": "code",
   "execution_count": 38,
   "id": "6c17ef40-e4e5-464b-8bde-611e0e75c488",
   "metadata": {},
   "outputs": [],
   "source": [
    "# 논리 연산자\n",
    "    # and : 좌, 우 모두 true일 때 true 반환, 반대로 하나라도 false이면 false\n",
    "    # or : 좌, 우 중 하나라도 true일 때 true 반환, 반대로 모두 false일 때 false 반환\n",
    "    # not : true를 false로 false를 true로 변경해 반환\n",
    "    \n",
    "# if문과 elif문   ** elif문은 앞에 if문이 있어야 쓸 수 있음 (else if)\n",
    "    # 만약 if문이 true이면 들여쓰기 한 부분을 실행 -> 주흐름\n",
    "    # 만약 if문이 true이면 elif문 패스 -> 주흐름"
   ]
  },
  {
   "cell_type": "code",
   "execution_count": 39,
   "id": "47ec7b12-7379-4708-a78f-9840bae0ef4d",
   "metadata": {},
   "outputs": [
    {
     "ename": "IndentationError",
     "evalue": "expected an indented block (1300340243.py, line 2)",
     "output_type": "error",
     "traceback": [
      "\u001b[1;36m  File \u001b[1;32m\"C:\\Users\\user\\AppData\\Local\\Temp\\ipykernel_9364\\1300340243.py\"\u001b[1;36m, line \u001b[1;32m2\u001b[0m\n\u001b[1;33m    print(\"hello\")\u001b[0m\n\u001b[1;37m    ^\u001b[0m\n\u001b[1;31mIndentationError\u001b[0m\u001b[1;31m:\u001b[0m expected an indented block\n"
     ]
    }
   ],
   "source": [
    "if True:\n",
    "print(\"hello\")\n"
   ]
  },
  {
   "cell_type": "code",
   "execution_count": 40,
   "id": "ce4faee6-9b2d-4e40-9470-7989750261b0",
   "metadata": {},
   "outputs": [
    {
     "name": "stdout",
     "output_type": "stream",
     "text": [
      "a는 정수입니다\n"
     ]
    }
   ],
   "source": [
    "# if : 조건이 맞을 때만 실행하라.\n",
    "\n",
    "a = 100\n",
    "\n",
    "# a라는 변수의 타입이 int라면 True, 아니라면 False\n",
    "if type(a) is int:\n",
    "    print(\"a는 정수입니다\")"
   ]
  },
  {
   "cell_type": "code",
   "execution_count": 44,
   "id": "f5ef2ea9-c11d-465a-b16c-b56aa0a3e983",
   "metadata": {},
   "outputs": [
    {
     "name": "stdout",
     "output_type": "stream",
     "text": [
      "<class 'str'>\n",
      "문자열입니다.\n"
     ]
    }
   ],
   "source": [
    "b = \"10\"\n",
    "print(type(b))\n",
    "\n",
    "if type(b) is int:\n",
    "    print(\"정수입니다.\")\n",
    "\n",
    "# 앞의 조건이 전부 False일 때만 실행되는 부분입니다.\n",
    "elif type(b) is str:  # type(b) is not int\n",
    "    print(\"문자열입니다.\")\n",
    "    \n",
    "elif True: # type(b) is not int\n",
    "    print(\"문자열입니다.\")"
   ]
  },
  {
   "cell_type": "code",
   "execution_count": 45,
   "id": "8ad03ff1-c444-4dd1-b2ea-6a380a236c49",
   "metadata": {},
   "outputs": [],
   "source": [
    "c = 10\n",
    "\n",
    "if c > 10:\n",
    "    print(\"10보다 큽니다\")\n",
    "elif c < 5:\n",
    "    print(\"10보다 작고, 5보다도 작습니다.\")"
   ]
  },
  {
   "cell_type": "code",
   "execution_count": 48,
   "id": "52916910-9ff0-4443-9f38-f0b863051703",
   "metadata": {},
   "outputs": [
    {
     "name": "stdout",
     "output_type": "stream",
     "text": [
      "시작\n",
      "10보다 작고, 5보단 큽니다.\n",
      "끝\n"
     ]
    }
   ],
   "source": [
    "c = 6\n",
    "print(\"시작\")\n",
    "\n",
    "if c > 10:\n",
    "    print(\"10보다 큽니다\")\n",
    "elif c < 5:\n",
    "    print(\"10보다 작고, 5보다도 작습니다.\")\n",
    "elif True:\n",
    "    print(\"10보다 작고, 5보단 큽니다.\")\n",
    "    \n",
    "    \n",
    "print(\"끝\")"
   ]
  },
  {
   "cell_type": "code",
   "execution_count": 50,
   "id": "9e85fb8e-87dc-4626-b0da-0c50d9424bb1",
   "metadata": {},
   "outputs": [
    {
     "name": "stdout",
     "output_type": "stream",
     "text": [
      "시작\n",
      "우\n",
      "끝\n"
     ]
    }
   ],
   "source": [
    "c = 89 # 0~100 점수\n",
    "print(\"시작\")\n",
    "\n",
    "if c > 90:\n",
    "    print(\"수\")\n",
    "    \n",
    "elif 90 > c and c >= 80:\n",
    "    print(\"우\")\n",
    "\n",
    "elif 80 > c and c >= 70:\n",
    "    print(\"미\")\n",
    "    \n",
    "print(\"끝\")"
   ]
  },
  {
   "cell_type": "code",
   "execution_count": 52,
   "id": "6d5b1395-820a-412a-9a25-1949b834161e",
   "metadata": {},
   "outputs": [
    {
     "name": "stdout",
     "output_type": "stream",
     "text": [
      "30대 입니다.\n",
      "감사합니다.\n"
     ]
    }
   ],
   "source": [
    "age = 39\n",
    "\n",
    "if 20 <= age < 30:\n",
    "    print(\"20대 입니다.\")\n",
    "elif 30 <= age < 40:\n",
    "    print(\"30대 입니다.\")\n",
    "    \n",
    "print(\"감사합니다.\")"
   ]
  },
  {
   "cell_type": "code",
   "execution_count": 53,
   "id": "59ef1075-aa6f-403e-a7de-99b0dbdd0762",
   "metadata": {},
   "outputs": [
    {
     "name": "stdout",
     "output_type": "stream",
     "text": [
      "오우... 불혹을 넘기셨군요\n",
      "감사합니다.\n"
     ]
    }
   ],
   "source": [
    "# else문  ** if, elif 아니면 모두 else문\n",
    "\n",
    "age = 40\n",
    "\n",
    "if 20 <= age < 30:\n",
    "    print(\"20대 입니다.\")\n",
    "elif 30 <= age < 40:\n",
    "    print(\"30대 입니다.\")\n",
    "else:\n",
    "    print(\"오우... 불혹을 넘기셨군요\")\n",
    "    \n",
    "print(\"감사합니다.\")"
   ]
  },
  {
   "cell_type": "code",
   "execution_count": 102,
   "id": "82b5ee89-b4ab-4f10-bbba-432566dcc855",
   "metadata": {},
   "outputs": [
    {
     "name": "stdin",
     "output_type": "stream",
     "text": [
      "아이디를 입력하세요 : biana\n",
      "회원 등급을 입력해주세요: 3\n"
     ]
    },
    {
     "name": "stdout",
     "output_type": "stream",
     "text": [
      "\n",
      "제한적인 권한을 갖습니다.\n"
     ]
    }
   ],
   "source": [
    "id = input(\"아이디를 입력하세요 :\")\n",
    "\n",
    "if id == 'admin':\n",
    "    print(\"최고 관리자, 모든 권한을 갖습니다.\")\n",
    "elif id != 'admin':\n",
    "    level = int(input(\"회원 등급을 입력해주세요:\"))\n",
    "    if 0 < level < 4 :\n",
    "        print(\"\\n제한적인 권한을 갖습니다.\")\n",
    "    elif True :\n",
    "        print(\"\\n권한이 없습니다.\")\n",
    "    \n",
    "\n"
   ]
  },
  {
   "cell_type": "code",
   "execution_count": 104,
   "id": "f5ad78dd-b774-4135-a65f-646588151172",
   "metadata": {},
   "outputs": [
    {
     "name": "stdin",
     "output_type": "stream",
     "text": [
      "아이디를 입력하세요 : biana\n",
      "회원 등급을 입력해주세요 : 3\n"
     ]
    },
    {
     "name": "stdout",
     "output_type": "stream",
     "text": [
      "제한적인 권한을 갖습니다.\n"
     ]
    }
   ],
   "source": [
    "name = input('아이디를 입력하세요 :')\n",
    "\n",
    "if name == 'admin':\n",
    "    print('최고 관리자, 모든 권한을 갖습니다.')\n",
    "    \n",
    "else:\n",
    "    grade = int(input('회원 등급을 입력해주세요 :'))\n",
    "    \n",
    "    if 1 <= grade <= 3:\n",
    "        print('제한적인 권한을 갖습니다.')\n",
    "    else:\n",
    "        print('권한이 없습니다.')"
   ]
  },
  {
   "cell_type": "code",
   "execution_count": 105,
   "id": "00f7e3f2-0236-4886-b90c-31d7de7d3d4c",
   "metadata": {},
   "outputs": [
    {
     "ename": "NameError",
     "evalue": "name '조건식' is not defined",
     "output_type": "error",
     "traceback": [
      "\u001b[1;31m---------------------------------------------------------------------------\u001b[0m",
      "\u001b[1;31mNameError\u001b[0m                                 Traceback (most recent call last)",
      "\u001b[1;32m~\\AppData\\Local\\Temp\\ipykernel_9364\\3974975905.py\u001b[0m in \u001b[0;36m<module>\u001b[1;34m\u001b[0m\n\u001b[0;32m      1\u001b[0m \u001b[1;31m# if문 정리\u001b[0m\u001b[1;33m\u001b[0m\u001b[1;33m\u001b[0m\u001b[0m\n\u001b[0;32m      2\u001b[0m \u001b[1;33m\u001b[0m\u001b[0m\n\u001b[1;32m----> 3\u001b[1;33m \u001b[1;32mif\u001b[0m \u001b[0m조건식\u001b[0m\u001b[1;33m:\u001b[0m\u001b[1;33m\u001b[0m\u001b[1;33m\u001b[0m\u001b[0m\n\u001b[0m\u001b[0;32m      4\u001b[0m     \u001b[1;32mpass\u001b[0m \u001b[1;31m#TOBE\u001b[0m\u001b[1;33m\u001b[0m\u001b[1;33m\u001b[0m\u001b[0m\n",
      "\u001b[1;31mNameError\u001b[0m: name '조건식' is not defined"
     ]
    }
   ],
   "source": [
    "# if문 정리\n",
    "\n",
    "# if 조건식:\n",
    "    # pass #TOBE\n",
    "# : 생략 불가능\n",
    "# if문의 조건식이 True일 때 실행되는 범위 = 들여쓰기 끝날때까지\n",
    "# if문 중첩 가능\n"
   ]
  },
  {
   "cell_type": "code",
   "execution_count": 113,
   "id": "6e135054-17d8-46b6-b4cc-4f32cd0cbe79",
   "metadata": {},
   "outputs": [
    {
     "name": "stdin",
     "output_type": "stream",
     "text": [
      "자연수 하나 입력해주세요: 21\n"
     ]
    },
    {
     "name": "stdout",
     "output_type": "stream",
     "text": [
      "0\n"
     ]
    }
   ],
   "source": [
    "num = int(input(\"자연수 하나 입력해주세요:\"))\n",
    "\n",
    "if num - 50 < 0 :\n",
    "    print(0)\n",
    "    elif num - 50 > 0:\n",
    "        print(\n",
    "\n"
   ]
  },
  {
   "cell_type": "code",
   "execution_count": 114,
   "id": "616f335c-5dcf-4ed9-b1b9-ff23425a2264",
   "metadata": {},
   "outputs": [
    {
     "name": "stdin",
     "output_type": "stream",
     "text": [
      "자연수 하나 입력해주세요:  21\n"
     ]
    },
    {
     "name": "stdout",
     "output_type": "stream",
     "text": [
      "0\n"
     ]
    }
   ],
   "source": [
    "int_value = int(input(\"자연수 하나 입력해주세요: \"))\n",
    "result = int_value - 50\n",
    "\n",
    "if result < 0:\n",
    "    result = 0\n",
    "    \n",
    "print(result)"
   ]
  },
  {
   "cell_type": "code",
   "execution_count": 138,
   "id": "14370a84-38ef-43fc-a281-2fca21f1c6df",
   "metadata": {},
   "outputs": [
    {
     "name": "stdin",
     "output_type": "stream",
     "text": [
      "자연수 하나 입력해주세요:  20\n"
     ]
    },
    {
     "name": "stdout",
     "output_type": "stream",
     "text": [
      "짝수입니다.\n"
     ]
    }
   ],
   "source": [
    "even = int(input(\"자연수 하나 입력해주세요: \"))\n",
    "result = even % 2\n",
    "\n",
    "if result == 0 :\n",
    "    print(\"짝수입니다.\")\n",
    "else:\n",
    "    print(\"홀수입니다.\")\n"
   ]
  },
  {
   "cell_type": "code",
   "execution_count": 155,
   "id": "b754ab28-d7ff-4691-91b5-124941a128e1",
   "metadata": {},
   "outputs": [
    {
     "name": "stdin",
     "output_type": "stream",
     "text": [
      "소프트웨어 설계 점수를 입력하세요. -1\n",
      "소프트웨어 개발 점수를 입력하세요. 2\n",
      "데이터베이스 구축 점수를 입력하세요. 2\n",
      "프로그래밍 언어 활용 점수를 입력하세요. 2\n",
      "정보시스템 구축관리 점수를 입력하세요. 2\n"
     ]
    },
    {
     "name": "stdout",
     "output_type": "stream",
     "text": [
      "잘못된 점수입니다.\n"
     ]
    }
   ],
   "source": [
    "val_1 = int(input(\"소프트웨어 설계 점수를 입력하세요.\"))\n",
    "val_2 = int(input(\"소프트웨어 개발 점수를 입력하세요.\"))\n",
    "val_3 = int(input(\"데이터베이스 구축 점수를 입력하세요.\"))\n",
    "val_4 = int(input(\"프로그래밍 언어 활용 점수를 입력하세요.\"))\n",
    "val_5 = int(input(\"정보시스템 구축관리 점수를 입력하세요.\"))\n",
    "\n",
    "if (0 <= val_1 <=100 and 0 <= val_2 <=100 and 0 <= val_3 <=100 and 0 <= val_4 <=100 and 0 <= val_5 <=100):\n",
    "    result = (val_1 + val_2 + val_3 + val_4 + val_5)/5\n",
    "    if result >= 60:\n",
    "        print(\"합격\")\n",
    "    else:\n",
    "        print(\"불합격\")\n",
    "else:\n",
    "    print(\"잘못된 점수입니다.\")"
   ]
  },
  {
   "cell_type": "code",
   "execution_count": 165,
   "id": "484ffc7c-d826-4313-8951-6ec87622eef5",
   "metadata": {},
   "outputs": [
    {
     "name": "stdin",
     "output_type": "stream",
     "text": [
      "현재 물의 온도를 입력해주세요 -0.12\n"
     ]
    },
    {
     "name": "stdout",
     "output_type": "stream",
     "text": [
      "고체로 예상됩니다.\n"
     ]
    }
   ],
   "source": [
    "temp = float(input(\"현재 물의 온도를 입력해주세요\"))\n",
    "\n",
    "if temp >= 100:\n",
    "    print(\"기체로 예상됩니다.\")\n",
    "elif 0 <= temp < 100:\n",
    "    print(\"액체로 예상됩니다.\")\n",
    "else:\n",
    "    print(\"고체로 예상됩니다.\")"
   ]
  },
  {
   "cell_type": "code",
   "execution_count": 174,
   "id": "5871601a-6e78-43a2-ae03-d7b4106c9e52",
   "metadata": {},
   "outputs": [
    {
     "name": "stdin",
     "output_type": "stream",
     "text": [
      "자신의 나이를 입력하세요: 5\n"
     ]
    },
    {
     "name": "stdout",
     "output_type": "stream",
     "text": [
      "무료입니다.\n"
     ]
    }
   ],
   "source": [
    "age = int(input(\"자신의 나이를 입력하세요:\"))\n",
    "\n",
    "if age >= 19:\n",
    "    print(\"1500원\")\n",
    "elif 12 <= age <= 18:\n",
    "    print(\"1100원\")\n",
    "elif 6 <= age <= 11:\n",
    "    print(\"800원\")\n",
    "else:\n",
    "    print(\"무료입니다.\")"
   ]
  },
  {
   "cell_type": "code",
   "execution_count": 196,
   "id": "657fb554-6ad7-4f7a-ab69-607f39f8f1b9",
   "metadata": {},
   "outputs": [
    {
     "name": "stdin",
     "output_type": "stream",
     "text": [
      "발주 수량을 입력하세요: 2001\n"
     ]
    },
    {
     "name": "stdout",
     "output_type": "stream",
     "text": [
      "2001개를 주문하셨습니다. \n",
      "적용 할인율은 20%입니다. \n",
      "총 발주 금액은 $16008입니다.\n"
     ]
    }
   ],
   "source": [
    "prod = int(input(\"발주 수량을 입력하세요:\"))\n",
    "\n",
    "if prod < 1000:\n",
    "    print(prod, \"개를 주문하셨습니다. \\n적용 할인율은 0%입니다. \\n총 발주 금액은 $\", int(10 * prod * 1), \"입니다.\")\n",
    "elif 1500 >= prod >= 1000:\n",
    "    print(prod, \"개를 주문하셨습니다. \\n적용 할인율은 5%입니다. \\n총 발주 금액은 $\", int(10 * prod * .95), \"입니다.\")\n",
    "elif 2000 >= prod >= 1500:\n",
    "    print(prod, \"개를 주문하셨습니다. \\n적용 할인율은 10%입니다. \\n총 발주 금액은 $\", int(10 * prod * .9), \"입니다.\")\n",
    "elif 2000 < prod:\n",
    "    print(prod, \"개를 주문하셨습니다. \\n적용 할인율은 20%입니다. \\n총 발주 금액은 $\", int(10 * prod * .8), \"입니다.\", sep=\"\")\n",
    "\n"
   ]
  },
  {
   "cell_type": "code",
   "execution_count": 198,
   "id": "e659c4a0-217f-4af8-9391-11e4842eda20",
   "metadata": {},
   "outputs": [
    {
     "name": "stdin",
     "output_type": "stream",
     "text": [
      "발주 수량을 입력하세요: 2001\n"
     ]
    },
    {
     "name": "stdout",
     "output_type": "stream",
     "text": [
      "2001개를 주문하셨습니다.\n",
      "적용 할인율은 0%입니다.\n",
      "총 발주 금액은 $20010입니다.\n"
     ]
    }
   ],
   "source": [
    "quantity = int(input(\"발주 수량을 입력하세요:\"))\n",
    "print(quantity, \"개를 주문하셨습니다.\", sep=\"\")\n",
    "\n",
    "PRICE = 10 # $10/개\n",
    "rate = 0\n",
    "order_amount = 0\n",
    "\n",
    "if quantity > 2000:\n",
    "    rate = 0\n",
    "elif 2000 >= quantity > 1500:\n",
    "    rate = 10\n",
    "elif 1500 >= quantity >= 1000:\n",
    "    rate = 5\n",
    "    \n",
    "order_amount = int(PRICE * quantity * ((100 - rate) / 100))\n",
    "print(\"적용 할인율은 \", rate, \"%입니다.\", sep=\"\")\n",
    "print(\"총 발주 금액은 $\", order_amount,\"입니다.\", sep=\"\")"
   ]
  },
  {
   "cell_type": "code",
   "execution_count": 218,
   "id": "97bbd090-9164-4a9b-a5c6-fb1f72101765",
   "metadata": {},
   "outputs": [
    {
     "name": "stdin",
     "output_type": "stream",
     "text": [
      "주민번호 뒷자리를 입력하세요: 1111111\n"
     ]
    },
    {
     "name": "stdout",
     "output_type": "stream",
     "text": [
      "남자\n"
     ]
    }
   ],
   "source": [
    "idnum = input(\"주민번호 뒷자리를 입력하세요:\")\n",
    "\n",
    "if len(idnum) != 7:\n",
    "    print(\"자리수를 잘못 입력했습니다.\")\n",
    "else:\n",
    "    fst_num = int(idnum[0])\n",
    "    if fst_num in (1, 3):\n",
    "        print(\"남자\")\n",
    "    elif fst_num in (2, 4):\n",
    "        print(\"여자\")\n",
    "    else:\n",
    "        print(\"잘못된 입력입니다.\")"
   ]
  },
  {
   "cell_type": "code",
   "execution_count": 227,
   "id": "2e6496a8-007d-4efb-9993-6ddf3b5c652c",
   "metadata": {},
   "outputs": [
    {
     "name": "stdin",
     "output_type": "stream",
     "text": [
      "확인할 연도를 입력하세요: 1896\n"
     ]
    },
    {
     "name": "stdout",
     "output_type": "stream",
     "text": [
      "윤년입니다.\n"
     ]
    }
   ],
   "source": [
    "year = int(input(\"확인할 연도를 입력하세요:\"))\n",
    "           \n",
    "if year % 100 == 0 and year % 400 != 0:\n",
    "    print(\"평년입니다.\")\n",
    "elif year % 4 == 0:\n",
    "    print(\"윤년입니다.\")\n",
    "else:\n",
    "    print(\"평년입니다.\")"
   ]
  },
  {
   "cell_type": "code",
   "execution_count": 228,
   "id": "6fbcd563-550f-40ef-9fc2-86284a5d32b9",
   "metadata": {},
   "outputs": [
    {
     "name": "stdin",
     "output_type": "stream",
     "text": [
      "확인할 연도를 입력하세요: 1990\n"
     ]
    },
    {
     "name": "stdout",
     "output_type": "stream",
     "text": [
      "윤년입니다.\n"
     ]
    }
   ],
   "source": [
    "year = int(input(\"확인할 연도를 입력하세요:\"))\n",
    "\n",
    "if year % 400 == 0:\n",
    "    print(\"평년입니다.\")\n",
    "else:\n",
    "    if year % 400 == 0:\n",
    "        print(\"윤년입니다.\")\n",
    "    elif year % 100 == 0:\n",
    "        print(\"평년입니다.\")\n",
    "    else:\n",
    "        print(\"윤년입니다.\")"
   ]
  },
  {
   "cell_type": "code",
   "execution_count": 230,
   "id": "87cbd04f-821d-45ad-8034-111147ec4d97",
   "metadata": {},
   "outputs": [
    {
     "name": "stdin",
     "output_type": "stream",
     "text": [
      "확인할 연도를 입력하세요: 1397\n"
     ]
    },
    {
     "name": "stdout",
     "output_type": "stream",
     "text": [
      "평년입니다.\n"
     ]
    }
   ],
   "source": [
    "year = int(input(\"확인할 연도를 입력하세요:\"))\n",
    "\n",
    "if year % 4 == 0 and (year % 100 != 0 or year % 400 == 0):\n",
    "    print(\"윤년입니다.\")\n",
    "else:\n",
    "    print(\"평년입니다.\")"
   ]
  },
  {
   "cell_type": "code",
   "execution_count": 232,
   "id": "0c626d92-361d-49fa-8ac5-6e2a0a72310a",
   "metadata": {},
   "outputs": [],
   "source": [
    "#슬라이싱\n",
    "a = [0, 1, 2, 3, 4, 5, 6, 7]"
   ]
  },
  {
   "cell_type": "code",
   "execution_count": 233,
   "id": "c08a79c3-90d0-4cdc-bbf4-43059ade37a9",
   "metadata": {},
   "outputs": [
    {
     "data": {
      "text/plain": [
       "[0, 2, 4]"
      ]
     },
     "execution_count": 233,
     "metadata": {},
     "output_type": "execute_result"
    }
   ],
   "source": [
    "a[0: 5: 2]"
   ]
  },
  {
   "cell_type": "code",
   "execution_count": 241,
   "id": "7df41520-4b42-45db-b1dc-e6e8a057da92",
   "metadata": {},
   "outputs": [
    {
     "name": "stdout",
     "output_type": "stream",
     "text": [
      "range(0, 8)\n",
      "[0, 1, 2, 3, 4, 5, 6, 7]\n",
      "[0, 1, 2, 3, 4, 5, 6, 7]\n"
     ]
    }
   ],
   "source": [
    "# 함수를 호출할 때 소괄호를 사용한다.\n",
    "# 인수(arguments)가 여럿일 때 comma로 구분한다.\n",
    "# range(시작하는 숫자(포함)=0, 끝숫자(미포함), 증감=1) *0과 +1은 기본적으로 들어가있음\n",
    "# range는 규칙된 숫자를 만드는데 특화되어 있다.\n",
    "print(range(8))\n",
    "print(list(range(8))) #iterable\n",
    "print(list(range(0, 8, 1)))"
   ]
  },
  {
   "cell_type": "code",
   "execution_count": 242,
   "id": "da8e3476-74b5-4f33-97d8-10a01f753d39",
   "metadata": {},
   "outputs": [
    {
     "data": {
      "text/plain": [
       "range"
      ]
     },
     "execution_count": 242,
     "metadata": {},
     "output_type": "execute_result"
    }
   ],
   "source": [
    "type(range(1))"
   ]
  },
  {
   "cell_type": "code",
   "execution_count": 243,
   "id": "96c9b5d4-913a-485c-a90e-8c897f1e77d8",
   "metadata": {},
   "outputs": [],
   "source": [
    "# list vs range가 동작하는 큰 차이점\n",
    "# list는 메모리상에 미리 다 만들어 놓는다.\n",
    "# range는 필요할 때 메모리에 만든다."
   ]
  },
  {
   "cell_type": "code",
   "execution_count": 244,
   "id": "80f3b043-8087-4a81-9aab-05ff3bc6c3a3",
   "metadata": {},
   "outputs": [
    {
     "name": "stdout",
     "output_type": "stream",
     "text": [
      "hello\n",
      "hello\n",
      "hello\n",
      "hello\n",
      "hello\n",
      "hello\n",
      "hello\n",
      "hello\n",
      "hello\n",
      "hello\n"
     ]
    }
   ],
   "source": [
    "# 여기서의 range는 0부터 999까지의 숫자를 생성한다.\n",
    "for n in range(10):\n",
    "    print(\"hello\")"
   ]
  },
  {
   "cell_type": "code",
   "execution_count": null,
   "id": "3f7b5b97-c4e6-4e33-990a-f0c04296d17f",
   "metadata": {},
   "outputs": [],
   "source": []
  }
 ],
 "metadata": {
  "kernelspec": {
   "display_name": "Python 3 (ipykernel)",
   "language": "python",
   "name": "python3"
  },
  "language_info": {
   "codemirror_mode": {
    "name": "ipython",
    "version": 3
   },
   "file_extension": ".py",
   "mimetype": "text/x-python",
   "name": "python",
   "nbconvert_exporter": "python",
   "pygments_lexer": "ipython3",
   "version": "3.9.13"
  }
 },
 "nbformat": 4,
 "nbformat_minor": 5
}
