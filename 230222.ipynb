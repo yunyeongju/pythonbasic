{
 "cells": [
  {
   "cell_type": "code",
   "execution_count": 3,
   "id": "e098e3df-8d0f-4a66-9ed3-ca3920e8ca94",
   "metadata": {},
   "outputs": [
    {
     "name": "stdout",
     "output_type": "stream",
     "text": [
      "안녕하세요. 제 이름은 마리아입니다.\n",
      "이름: 마리아\n",
      "나이: 20\n",
      "주소: 서울시 서초구 반포동\n"
     ]
    }
   ],
   "source": [
    "class Person:\n",
    "    def __init__(self, name, age, address):\n",
    "        self.hello = \"안녕하세요.\"\n",
    "        self.name = name\n",
    "        self.age = age\n",
    "        self.address = address\n",
    "        \n",
    "    def greeting(self):\n",
    "        print(f\"{self.hello} 제 이름은 {self.name}입니다.\")\n",
    "        \n",
    "maria = Person(\"마리아\", 20, \"서울시 서초구 반포동\")\n",
    "maria.greeting()\n",
    "\n",
    "print(\"이름:\", maria.name)\n",
    "print(\"나이:\", maria.age)\n",
    "print(\"주소:\", maria.address)"
   ]
  },
  {
   "cell_type": "code",
   "execution_count": 6,
   "id": "14548a10-2cf1-4f53-b20d-8c5468503452",
   "metadata": {},
   "outputs": [
    {
     "name": "stdout",
     "output_type": "stream",
     "text": [
      "이름은 무엇인가요?: 마리아\n",
      "나이는 무엇인가요?: 20\n",
      "주소는 무엇인가요?: 서울시 강남구\n",
      "이름은 무엇인가요?: 제임스\n",
      "나이는 무엇인가요?: 21\n",
      "주소는 무엇인가요?: 서울시 구로구\n",
      "첫번째 이름: 마리아\n",
      "첫번째 나이: 20\n",
      "첫번째 주소: 서울시 강남구\n",
      "두번째 이름: 제임스\n",
      "두번째 나이: 21\n",
      "두번째 주소: 서울시 구로구\n"
     ]
    }
   ],
   "source": [
    "class Person:\n",
    "    def __init__(self, name, age, address):\n",
    "        self.name = name\n",
    "        self.age = age\n",
    "        self.address = address\n",
    "\n",
    "maria = Person(\"마리아\", 20, \"서울시 강남구\")\n",
    "james = Person(\"제임스\", 21, \"서울시 구로구\")\n",
    "\n",
    "print(\"이름은 무엇인가요?:\", maria.name)\n",
    "print(\"나이는 무엇인가요?:\", maria.age)\n",
    "print(\"주소는 무엇인가요?:\", maria.address)\n",
    "print(\"이름은 무엇인가요?:\", james.name)\n",
    "print(\"나이는 무엇인가요?:\", james.age)\n",
    "print(\"주소는 무엇인가요?:\", james.address)\n",
    "print(\"첫번째 이름:\", maria.name)\n",
    "print(\"첫번째 나이:\", maria.age)\n",
    "print(\"첫번째 주소:\", maria.address)\n",
    "print(\"두번째 이름:\", james.name)\n",
    "print(\"두번째 나이:\", james.age)\n",
    "print(\"두번째 주소:\", james.address)\n"
   ]
  },
  {
   "cell_type": "code",
   "execution_count": 27,
   "id": "24996ecc-2417-49b0-ae71-a67b433cf960",
   "metadata": {},
   "outputs": [
    {
     "name": "stdin",
     "output_type": "stream",
     "text": [
      "이름은 무엇인가요?: maria\n",
      "나이는 무엇인가요?: 20\n",
      "주소는 무엇인가요?: 서울시 강남구\n",
      "이름은 무엇인가요?: james\n",
      "나이는 무엇인가요?: 21\n",
      "주소는 무엇인가요?: 서울시 구로구\n"
     ]
    },
    {
     "name": "stdout",
     "output_type": "stream",
     "text": [
      "첫번째 이름: maria\n",
      "첫번째 나이: 20\n",
      "첫번째 주소: 서울시 강남구\n",
      "두번째 이름: james\n",
      "두번째 나이: 21\n",
      "두번째 주소: 서울시 구로구\n"
     ]
    }
   ],
   "source": [
    "class Person:\n",
    "    def __init__(self):\n",
    "        self.name = input(\"이름은 무엇인가요?:\") \n",
    "        self.age = input(\"나이는 무엇인가요?:\")\n",
    "        self.address = input(\"주소는 무엇인가요?:\")\n",
    "\n",
    "maria = Person()\n",
    "james = Person()\n",
    "              \n",
    "        \n",
    "print(\"첫번째 이름:\", maria.name)\n",
    "print(\"첫번째 나이:\", maria.age)\n",
    "print(\"첫번째 주소:\", maria.address)\n",
    "\n",
    "print(\"두번째 이름:\", james.name)\n",
    "print(\"두번째 나이:\", james.age)\n",
    "print(\"두번째 주소:\", james.address)\n",
    "\n"
   ]
  },
  {
   "cell_type": "code",
   "execution_count": 26,
   "id": "71069a03-e811-4da5-a1c6-5fe4697856ca",
   "metadata": {},
   "outputs": [],
   "source": [
    "class Person:\n",
    "    def __init__(self):\n",
    "        self.name = input(\"이름은 무엇인가요?:\")\n",
    "        self.age = input(\"나이는 무엇인가요?:\")\n",
    "        self.address = input(\"주소는 무엇인가요?:\")\n",
    "\n",
    "            \n",
    "    def introduce(self):\n",
    "        print(f\"첫번째 이름: {self.name} \\n첫번째 나이:{self.age} \\n첫번째 주소)\n",
    "    \n",
    "    def "
   ]
  },
  {
   "cell_type": "code",
   "execution_count": 28,
   "id": "1d65866a-0842-49f7-a352-6089719803f6",
   "metadata": {},
   "outputs": [
    {
     "ename": "TypeError",
     "evalue": "__init__() takes 4 positional arguments but 5 were given",
     "output_type": "error",
     "traceback": [
      "\u001b[1;31m---------------------------------------------------------------------------\u001b[0m",
      "\u001b[1;31mTypeError\u001b[0m                                 Traceback (most recent call last)",
      "\u001b[1;32m~\\AppData\\Local\\Temp\\ipykernel_2136\\213751527.py\u001b[0m in \u001b[0;36m<module>\u001b[1;34m\u001b[0m\n\u001b[0;32m      6\u001b[0m         \u001b[0mself\u001b[0m\u001b[1;33m.\u001b[0m\u001b[0m__wallet\u001b[0m \u001b[1;33m=\u001b[0m \u001b[0mwallet\u001b[0m \u001b[1;31m# 변수 앞에 __를 붙여서 비공개 속성으로 만듦\u001b[0m\u001b[1;33m\u001b[0m\u001b[1;33m\u001b[0m\u001b[0m\n\u001b[0;32m      7\u001b[0m \u001b[1;33m\u001b[0m\u001b[0m\n\u001b[1;32m----> 8\u001b[1;33m \u001b[0mmaria\u001b[0m \u001b[1;33m=\u001b[0m \u001b[0mPerson\u001b[0m\u001b[1;33m(\u001b[0m\u001b[1;34m\"마리아\"\u001b[0m\u001b[1;33m,\u001b[0m \u001b[1;36m20\u001b[0m\u001b[1;33m,\u001b[0m \u001b[1;34m\"서울시 서초구 반포동\"\u001b[0m\u001b[1;33m,\u001b[0m \u001b[1;36m10000\u001b[0m\u001b[1;33m)\u001b[0m\u001b[1;33m\u001b[0m\u001b[1;33m\u001b[0m\u001b[0m\n\u001b[0m\u001b[0;32m      9\u001b[0m \u001b[0mmaria\u001b[0m\u001b[1;33m.\u001b[0m\u001b[0m__wallet\u001b[0m \u001b[1;33m-=\u001b[0m \u001b[1;36m10000\u001b[0m \u001b[1;31m# 클래스 바깥에서 비공개 속성에 접근하면 에러가 발생\u001b[0m\u001b[1;33m\u001b[0m\u001b[1;33m\u001b[0m\u001b[0m\n",
      "\u001b[1;31mTypeError\u001b[0m: __init__() takes 4 positional arguments but 5 were given"
     ]
    }
   ],
   "source": [
    "class Person:\n",
    "    def __init__(self, name, age, address):\n",
    "        self.name = name\n",
    "        self.age = age\n",
    "        self.address = address\n",
    "        self.__wallet = wallet # 변수 앞에 __를 붙여서 비공개 속성으로 만듦\n",
    "        \n",
    "maria = Person(\"마리아\", 20, \"서울시 서초구 반포동\", 10000)\n",
    "maria.__wallet -= 10000 # 클래스 바깥에서 비공개 속성에 접근하면 에러가 발생\n"
   ]
  },
  {
   "cell_type": "code",
   "execution_count": 31,
   "id": "eaddce1c-9770-4b4d-b6c5-0b63a7a0f3a7",
   "metadata": {},
   "outputs": [
    {
     "name": "stdout",
     "output_type": "stream",
     "text": [
      "이제 7000원 남았네요.\n"
     ]
    }
   ],
   "source": [
    "class Person:\n",
    "    def __init__(self, name, age, address, wallet):\n",
    "        self.name = name\n",
    "        self.age = age\n",
    "        self.address = address\n",
    "        self.__wallet = wallet # 변수 앞에 __를 붙여서 비공개 속성으로 만듦\n",
    "    def pay(self, amount):\n",
    "        if self.__wallet < amount:\n",
    "            print(\"돈이 모자랍니다.\")\n",
    "            return\n",
    "        self.__wallet -= amount \n",
    "        print(\"이제 {0}원 남았네요.\".format(self.__wallet))\n",
    "        \n",
    "maria = Person(\"마리아\", 20, \"서울시 서초구 반포동\", 10000)\n",
    "maria.pay(3000)"
   ]
  },
  {
   "cell_type": "code",
   "execution_count": 52,
   "id": "57fdb21b-80b9-48c3-a492-8294ee673a72",
   "metadata": {},
   "outputs": [
    {
     "name": "stdin",
     "output_type": "stream",
     "text": [
      "체력, 마나, AP를 입력하세요. 1,2,\n"
     ]
    },
    {
     "ename": "TypeError",
     "evalue": "__init__() missing 3 required positional arguments: 'hp', 'mp', and 'ap'",
     "output_type": "error",
     "traceback": [
      "\u001b[1;31m---------------------------------------------------------------------------\u001b[0m",
      "\u001b[1;31mTypeError\u001b[0m                                 Traceback (most recent call last)",
      "\u001b[1;32m~\\AppData\\Local\\Temp\\ipykernel_2136\\1891332293.py\u001b[0m in \u001b[0;36m<module>\u001b[1;34m\u001b[0m\n\u001b[0;32m     10\u001b[0m \u001b[0mhp\u001b[0m\u001b[1;33m,\u001b[0m \u001b[0mmp\u001b[0m\u001b[1;33m,\u001b[0m \u001b[0map\u001b[0m \u001b[1;33m=\u001b[0m \u001b[0minput\u001b[0m\u001b[1;33m(\u001b[0m\u001b[1;34m\"체력, 마나, AP를 입력하세요.\"\u001b[0m\u001b[1;33m)\u001b[0m\u001b[1;33m.\u001b[0m\u001b[0msplit\u001b[0m\u001b[1;33m(\u001b[0m\u001b[1;34m\",\"\u001b[0m\u001b[1;33m)\u001b[0m\u001b[1;33m\u001b[0m\u001b[1;33m\u001b[0m\u001b[0m\n\u001b[0;32m     11\u001b[0m \u001b[1;33m\u001b[0m\u001b[0m\n\u001b[1;32m---> 12\u001b[1;33m \u001b[0muser\u001b[0m \u001b[1;33m=\u001b[0m \u001b[0mAnnie\u001b[0m\u001b[1;33m(\u001b[0m\u001b[1;33m)\u001b[0m\u001b[1;33m\u001b[0m\u001b[1;33m\u001b[0m\u001b[0m\n\u001b[0m\u001b[0;32m     13\u001b[0m \u001b[1;33m\u001b[0m\u001b[0m\n\u001b[0;32m     14\u001b[0m \u001b[0mprint\u001b[0m\u001b[1;33m(\u001b[0m\u001b[1;34m\"티버: 피해량\"\u001b[0m\u001b[1;33m,\u001b[0m \u001b[0mdamage\u001b[0m\u001b[1;33m)\u001b[0m\u001b[1;33m\u001b[0m\u001b[1;33m\u001b[0m\u001b[0m\n",
      "\u001b[1;31mTypeError\u001b[0m: __init__() missing 3 required positional arguments: 'hp', 'mp', and 'ap'"
     ]
    }
   ],
   "source": [
    "class Annie:\n",
    "    def __init__(self, hp, mp, ap):\n",
    "        self.hp = hp\n",
    "        self.mp = mp\n",
    "        self.ap = ap\n",
    "    def tibbers(self, damage):\n",
    "        self.damage = self.ap * 0.65 + 400 \n",
    "\n",
    "        \n",
    "hp, mp, ap = input(\"체력, 마나, AP를 입력하세요.\").split(\",\")\n",
    "\n",
    "user = Annie()   \n",
    "\n",
    "print(\"티버: 피해량\", damage)"
   ]
  },
  {
   "cell_type": "code",
   "execution_count": 54,
   "id": "4f2ee084-c316-4ae2-9527-0d430611ff73",
   "metadata": {},
   "outputs": [],
   "source": [
    "class Annie:\n",
    "    def __init__(self, hp=0, mp=0, ap=0):\n",
    "        self.hp = hp\n",
    "        self.mp = mp\n",
    "        self.ap = ap\n",
    "    def tibbers(self):\n",
    "        return self.ap * 0.65 +400\n",
    "        "
   ]
  },
  {
   "cell_type": "code",
   "execution_count": 56,
   "id": "fb83fa53-dd3b-4002-a73c-ff2dd33c2cfa",
   "metadata": {},
   "outputs": [
    {
     "name": "stdout",
     "output_type": "stream",
     "text": [
      "0 0 0\n"
     ]
    }
   ],
   "source": [
    "a1 = Annie()\n",
    "\n",
    "print(a1.hp, a1.mp, a1.ap)"
   ]
  },
  {
   "cell_type": "code",
   "execution_count": 57,
   "id": "3aa18109-fa7f-4a8b-a38f-4d6e0fb6c4a6",
   "metadata": {},
   "outputs": [
    {
     "name": "stdin",
     "output_type": "stream",
     "text": [
      "애니 511.69 334.0 298\n"
     ]
    }
   ],
   "source": [
    "hp, mp, ap = map(float, input(\"애니\").split())"
   ]
  },
  {
   "cell_type": "code",
   "execution_count": 59,
   "id": "866d23b7-de10-4724-add7-893bcc578599",
   "metadata": {},
   "outputs": [
    {
     "name": "stdout",
     "output_type": "stream",
     "text": [
      "511.69 334.0 298.0\n"
     ]
    }
   ],
   "source": [
    "a2 = Annie(hp, mp, ap)\n",
    "print(a2.hp, a2.mp, a2.ap)"
   ]
  },
  {
   "cell_type": "code",
   "execution_count": 62,
   "id": "a627fdf9-5e32-4d46-b82b-a79a687c95db",
   "metadata": {},
   "outputs": [
    {
     "data": {
      "text/plain": [
       "593.7"
      ]
     },
     "execution_count": 62,
     "metadata": {},
     "output_type": "execute_result"
    }
   ],
   "source": [
    "a2.tibbers()"
   ]
  },
  {
   "cell_type": "code",
   "execution_count": null,
   "id": "35c016dc-1c50-40a3-bafb-7d483d8b3ee4",
   "metadata": {},
   "outputs": [],
   "source": []
  }
 ],
 "metadata": {
  "kernelspec": {
   "display_name": "Python 3 (ipykernel)",
   "language": "python",
   "name": "python3"
  },
  "language_info": {
   "codemirror_mode": {
    "name": "ipython",
    "version": 3
   },
   "file_extension": ".py",
   "mimetype": "text/x-python",
   "name": "python",
   "nbconvert_exporter": "python",
   "pygments_lexer": "ipython3",
   "version": "3.9.13"
  }
 },
 "nbformat": 4,
 "nbformat_minor": 5
}
