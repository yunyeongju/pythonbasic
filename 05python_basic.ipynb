{
 "cells": [
  {
   "cell_type": "code",
   "execution_count": 3,
   "id": "2c8e3855-d99f-4fe1-ae5e-d0b56191bac3",
   "metadata": {},
   "outputs": [
    {
     "name": "stdout",
     "output_type": "stream",
     "text": [
      "[0, 1, 2, 3, 4, 5, 6, 7]\n",
      "[0, 1, 2, 3, 4, 5, 6, 7]\n"
     ]
    }
   ],
   "source": [
    "# range 함수 (내장함수 built-in)\n",
    "# range 변수 = range(시작(=0). 끝(반드시 써줘야 함). 증감크기(=1))\n",
    "# 시퀀스자료형변수[시작:끝:증감크기]\n",
    "\n",
    "print(list(range(8)))\n",
    "print(list(range(0, 8, 1))) # 0과 1이 생략된 것을 볼 수 있음"
   ]
  },
  {
   "cell_type": "code",
   "execution_count": 4,
   "id": "5c62afc6-8a60-444b-a173-280c25ebcc1e",
   "metadata": {},
   "outputs": [
    {
     "name": "stdout",
     "output_type": "stream",
     "text": [
      "[2, 4, 6, 8, 10, 12, 14, 16, 18, 20, 22, 24, 26, 28, 30, 32, 34, 36, 38, 40, 42, 44, 46, 48, 50, 52, 54, 56, 58, 60, 62, 64, 66, 68, 70, 72, 74, 76, 78, 80, 82, 84, 86, 88, 90, 92, 94, 96, 98]\n"
     ]
    }
   ],
   "source": [
    "even_numbers = list(range(2, 100, 2))\n",
    "print(even_numbers)"
   ]
  },
  {
   "cell_type": "code",
   "execution_count": 5,
   "id": "1f13be6c-a538-42b7-8156-b7272649ac29",
   "metadata": {},
   "outputs": [],
   "source": [
    "# for문\n",
    "# 빈복되는 부분을 만들 때 활용하면 좋다\n",
    "# 순서대로 꺼낸다\n",
    "# 반복 횟수가 정해져 있을 때 주로 사용한다 무한x, 유한o\n",
    "\n",
    "# \"iterable\" : 반복 가능한 (사전적)\n",
    "    # 여러개의 요소들로 구성 돼 있으면서 요소를 한번에 하나씩 돌려줄 수 있는 객체\n",
    "    # list, str, tuple, range 같은 시퀀스 자료형\n",
    "# 객체 : 메모리에 할당되어 존재하고 있는 데이터\n",
    "\n",
    "\n",
    "# PYTHON VS. JAVA (FOR문)\n",
    "\n",
    "# PYTHON (동적)\n",
    "# for i in range(len(문자열)): \n",
    "    # 명령어 \n",
    "    \n",
    "# JAVA (정적)\n",
    "# for(int i = 0; i<문자열.length(); i++){\n",
    "    #명령어;\n",
    "# }"
   ]
  },
  {
   "cell_type": "code",
   "execution_count": 6,
   "id": "dfa84119-f0b9-403c-b33f-e63401f11d17",
   "metadata": {},
   "outputs": [
    {
     "name": "stdout",
     "output_type": "stream",
     "text": [
      "hello world0\n",
      "hello world1\n",
      "hello world2\n",
      "hello world3\n",
      "hello world4\n",
      "hello world5\n",
      "hello world6\n",
      "hello world7\n",
      "hello world8\n",
      "hello world9\n"
     ]
    }
   ],
   "source": [
    "for i in range(10):\n",
    "    print(f\"hello world{i}\")"
   ]
  },
  {
   "cell_type": "code",
   "execution_count": 9,
   "id": "fd417a1f-1e22-49e6-83ea-841b4f221588",
   "metadata": {},
   "outputs": [
    {
     "name": "stdout",
     "output_type": "stream",
     "text": [
      "hello world0\n",
      "hello world1\n",
      "hello world2\n",
      "끝\n"
     ]
    }
   ],
   "source": [
    "for i in range(3):\n",
    "    print(f\"hello world{i}\")\n",
    "print(\"끝\")"
   ]
  },
  {
   "cell_type": "code",
   "execution_count": 13,
   "id": "31f91124-e984-4b46-9eed-bdc81656fd3f",
   "metadata": {},
   "outputs": [
    {
     "name": "stdout",
     "output_type": "stream",
     "text": [
      "Hello world 1\n",
      "Hello world 2\n",
      "Hello world 3\n",
      "Hello world 4\n",
      "Hello world 5\n",
      "Hello world 6\n",
      "Hello world 7\n",
      "Hello world 8\n",
      "Hello world 9\n",
      "Hello world 10\n",
      "Hello world 11\n",
      "Hello world 12\n",
      "Hello world 13\n",
      "Hello world 14\n",
      "Hello world 15\n",
      "Hello world 16\n",
      "Hello world 17\n",
      "Hello world 18\n",
      "Hello world 19\n",
      "Hello world 20\n",
      "Hello world 21\n",
      "Hello world 22\n",
      "Hello world 23\n",
      "Hello world 24\n",
      "Hello world 25\n",
      "Hello world 26\n",
      "Hello world 27\n",
      "Hello world 28\n",
      "Hello world 29\n",
      "Hello world 30\n",
      "Hello world 31\n",
      "Hello world 32\n",
      "Hello world 33\n",
      "Hello world 34\n",
      "Hello world 35\n",
      "Hello world 36\n",
      "Hello world 37\n",
      "Hello world 38\n",
      "Hello world 39\n",
      "Hello world 40\n",
      "Hello world 41\n",
      "Hello world 42\n",
      "Hello world 43\n",
      "Hello world 44\n",
      "Hello world 45\n",
      "Hello world 46\n",
      "Hello world 47\n",
      "Hello world 48\n",
      "Hello world 49\n",
      "Hello world 50\n",
      "Hello world 51\n",
      "Hello world 52\n",
      "Hello world 53\n",
      "Hello world 54\n",
      "Hello world 55\n",
      "Hello world 56\n",
      "Hello world 57\n",
      "Hello world 58\n",
      "Hello world 59\n",
      "Hello world 60\n",
      "Hello world 61\n",
      "Hello world 62\n",
      "Hello world 63\n",
      "Hello world 64\n",
      "Hello world 65\n",
      "Hello world 66\n",
      "Hello world 67\n",
      "Hello world 68\n",
      "Hello world 69\n",
      "Hello world 70\n",
      "Hello world 71\n",
      "Hello world 72\n",
      "Hello world 73\n",
      "Hello world 74\n",
      "Hello world 75\n",
      "Hello world 76\n",
      "Hello world 77\n",
      "Hello world 78\n",
      "Hello world 79\n",
      "Hello world 80\n",
      "Hello world 81\n",
      "Hello world 82\n",
      "Hello world 83\n",
      "Hello world 84\n",
      "Hello world 85\n",
      "Hello world 86\n",
      "Hello world 87\n",
      "Hello world 88\n",
      "Hello world 89\n",
      "Hello world 90\n",
      "Hello world 91\n",
      "Hello world 92\n",
      "Hello world 93\n",
      "Hello world 94\n",
      "Hello world 95\n",
      "Hello world 96\n",
      "Hello world 97\n",
      "Hello world 98\n",
      "Hello world 99\n",
      "Hello world 100\n"
     ]
    }
   ],
   "source": [
    "for i in range(1,101,1): # 뒤에 1 생략 가능\n",
    "    print(f\"Hello world {i}\")\n",
    "    "
   ]
  },
  {
   "cell_type": "code",
   "execution_count": 18,
   "id": "36beabf1-e420-4f14-ac10-4ffc16fcfb96",
   "metadata": {},
   "outputs": [
    {
     "name": "stdin",
     "output_type": "stream",
     "text": [
      "인사 몇 번 해드릴까요? 3\n"
     ]
    },
    {
     "name": "stdout",
     "output_type": "stream",
     "text": [
      "Hello world\n",
      "Hello world\n",
      "Hello world\n"
     ]
    }
   ],
   "source": [
    "hello = int(input(\"인사 몇 번 해드릴까요?\"))\n",
    "for i in range(hello):\n",
    "    print(\"Hello world\")"
   ]
  },
  {
   "cell_type": "code",
   "execution_count": 19,
   "id": "9cf4340d-a59f-4a50-9a3d-7ce5f05f4f76",
   "metadata": {},
   "outputs": [
    {
     "name": "stdin",
     "output_type": "stream",
     "text": [
      "인사 몇 번 해드릴까요? 3\n"
     ]
    },
    {
     "name": "stdout",
     "output_type": "stream",
     "text": [
      "Hello world  1\n",
      "Hello world  2\n",
      "Hello world  3\n"
     ]
    }
   ],
   "source": [
    "count = int(input(\"인사 몇 번 해드릴까요?\"))\n",
    "for _ in range(1, count + 1):\n",
    "    print(\"Hello world \", _)"
   ]
  },
  {
   "cell_type": "code",
   "execution_count": 20,
   "id": "a0a3f20a-ef0c-4827-9952-9c88096d6be5",
   "metadata": {},
   "outputs": [
    {
     "name": "stdout",
     "output_type": "stream",
     "text": [
      "[5, 6, 7, 8, 9]\n",
      "[0, 3, 6, 9]\n",
      "[-10, -40, -70]\n"
     ]
    }
   ],
   "source": [
    "print(list(range(5,10,1)))\n",
    "print(list(range(0,10,3))) # 10~12사이의 숫자면 결과는 같다\n",
    "print(list(range(-10,-80,-30))) # -100~-71 "
   ]
  },
  {
   "cell_type": "code",
   "execution_count": 63,
   "id": "216d5363-29ed-419c-a828-8ef723a3c576",
   "metadata": {},
   "outputs": [
    {
     "name": "stdin",
     "output_type": "stream",
     "text": [
      "자연수 하나 입력해주세요: 3\n"
     ]
    },
    {
     "name": "stdout",
     "output_type": "stream",
     "text": [
      "3\t3\t3\t\n",
      "2\t2\t\n",
      "1\t\n"
     ]
    }
   ],
   "source": [
    "num = int(input(\"자연수 하나 입력해주세요:\"))\n",
    "for n in range(num, 0, -1):\n",
    "    print(f\"{n}\\t\" * n)"
   ]
  },
  {
   "cell_type": "code",
   "execution_count": 67,
   "id": "192e193e-6866-4213-8fd8-a20b3c077d1f",
   "metadata": {},
   "outputs": [
    {
     "name": "stdin",
     "output_type": "stream",
     "text": [
      "자연수 하나 입력해주세요: 6\n"
     ]
    },
    {
     "name": "stdout",
     "output_type": "stream",
     "text": [
      "6\t6\t6\t6\t6\t6\t\n",
      "5\t5\t5\t5\t5\t\n",
      "4\t4\t4\t4\t\n",
      "3\t3\t3\t\n",
      "2\t2\t\n",
      "1\t\n"
     ]
    }
   ],
   "source": [
    "num2 = int(input(\"자연수 하나 입력해주세요:\"))\n",
    "for i in range(num2, 0, -1):\n",
    "    for j in range(i):\n",
    "        print(i, end='\\t')\n",
    "    print()"
   ]
  },
  {
   "cell_type": "code",
   "execution_count": 88,
   "id": "6fe4df6a-a41c-4186-aa3f-dd23d3b8ad7c",
   "metadata": {},
   "outputs": [
    {
     "name": "stdout",
     "output_type": "stream",
     "text": [
      "* * * * * * * * * * \n",
      "*                 *\n",
      "*                 *\n",
      "*                 *\n",
      "*                 *\n",
      "*                 *\n",
      "*                 *\n",
      "*                 *\n",
      "*                 *\n",
      "* * * * * * * * * * \n"
     ]
    }
   ],
   "source": [
    "for s in range(1):\n",
    "    print(\"* \" * 10)\n",
    "for s in range(8):    \n",
    "    print(\"*                 *\")\n",
    "for s in range(1):\n",
    "    print(\"* \" * 10)"
   ]
  },
  {
   "cell_type": "code",
   "execution_count": 90,
   "id": "c6eb5ee0-f27a-4312-9533-09c71ca35f57",
   "metadata": {},
   "outputs": [
    {
     "name": "stdout",
     "output_type": "stream",
     "text": [
      "* * * * * * * * * * \n",
      "*                 *\n",
      "*                 *\n",
      "*                 *\n",
      "*                 *\n",
      "*                 *\n",
      "*                 *\n",
      "*                 *\n",
      "*                 *\n",
      "* * * * * * * * * * \n"
     ]
    }
   ],
   "source": [
    "for i in range(10):\n",
    "    if i == 0 or i == 9:\n",
    "        print(\"* \" * 10)\n",
    "    else:\n",
    "        print(\"*\" + \" \"*17 + \"*\")"
   ]
  },
  {
   "cell_type": "code",
   "execution_count": 126,
   "id": "046e874b-fd6a-440b-bf9a-8e267288f207",
   "metadata": {},
   "outputs": [
    {
     "name": "stdin",
     "output_type": "stream",
     "text": [
      "1부터 입력한 자연수까지의 모든 홀수의 합을 구합니다 100\n"
     ]
    },
    {
     "name": "stdout",
     "output_type": "stream",
     "text": [
      "1 + 3 + 5 + 7 + 9 + 11 + 13 + 15 + 17 + 19 + 21 + 23 + 25 + 27 + 29 + 31 + 33 + 35 + 37 + 39 + 41 + 43 + 45 + 47 + 49 + 51 + 53 + 55 + 57 + 59 + 61 + 63 + 65 + 67 + 69 + 71 + 73 + 75 + 77 + 79 + 81 + 83 + 85 + 87 + 89 + 91 + 93 + 95 + 97 + 99 + = "
     ]
    }
   ],
   "source": [
    "input_val = int(input(\"1부터 입력한 자연수까지의 모든 홀수의 합을 구합니다\"))\n",
    "\n",
    "for i in range(1, input_val):\n",
    "    if i % 2 != 0:\n",
    "        print(i, \"+\", end=\" \")\n",
    "        if((input_val%2==1) and (i==input_val)) or ((input_val-1)%2==1) and (i==(input_val-1)):\n",
    "            print(\"=\", end=\" \")\n",
    "        \n",
    "        \n",
    "          \n",
    "        "
   ]
  },
  {
   "cell_type": "code",
   "execution_count": 128,
   "id": "2c942c8a-7a05-4596-b06c-a271f9799fa5",
   "metadata": {},
   "outputs": [],
   "source": [
    "result = 0 \n",
    "\n",
    "# range --> 홀수\n",
    "for i in range(1, 101, 2):\n",
    "    result = result + i"
   ]
  },
  {
   "cell_type": "code",
   "execution_count": 142,
   "id": "bb2a2f97-1112-46b6-989b-2c568cc62d0a",
   "metadata": {},
   "outputs": [
    {
     "name": "stdin",
     "output_type": "stream",
     "text": [
      "1부터 입력한 자연수까지의 모든 홀수의 합을 구합니다 100\n"
     ]
    },
    {
     "name": "stdout",
     "output_type": "stream",
     "text": [
      "1 + 3 + 5 + 7 + 9 + 11 + 13 + 15 + 17 + 19 + 21 + 23 + 25 + 27 + 29 + 31 + 33 + 35 + 37 + 39 + 41 + 43 + 45 + 47 + 49 + 51 + 53 + 55 + 57 + 59 + 61 + 63 + 65 + 67 + 69 + 71 + 73 + 75 + 77 + 79 + 81 + 83 + 85 + 87 + 89 + 91 + 93 + 95 + 97 + 99 = 2500\n"
     ]
    }
   ],
   "source": [
    "input_value = int(input(\"1부터 입력한 자연수까지의 모든 홀수의 합을 구합니다\"))\n",
    "result = 0\n",
    "for i in range(1, input_value + 1):\n",
    "    if i % 2 == 1:\n",
    "        if(input_value - 1) == i or input_value == i:\n",
    "            print(i, end=' = ')\n",
    "        else:\n",
    "            print(i, end=' + ')\n",
    "        result += i\n",
    "print(result)"
   ]
  },
  {
   "cell_type": "code",
   "execution_count": 144,
   "id": "c45fb296-a6ad-405a-90e7-dca012c2509b",
   "metadata": {},
   "outputs": [
    {
     "name": "stdin",
     "output_type": "stream",
     "text": [
      "자연수 하나 입력하세요: 10\n"
     ]
    },
    {
     "name": "stdout",
     "output_type": "stream",
     "text": [
      "1+3+5+7+9 = 25\n"
     ]
    }
   ],
   "source": [
    "i_v = int(input(\"자연수 하나 입력하세요:\"))\n",
    "print(\"1\", end=\"\")\n",
    "\n",
    "result = 1\n",
    "\n",
    "for i in range(3, i_v +1):\n",
    "    if i % 2 == 1: # 홀수\n",
    "        print( f\"+{i}\", end=\"\")\n",
    "        result += i\n",
    "\n",
    "print(f\" = {result}\")"
   ]
  },
  {
   "cell_type": "code",
   "execution_count": 145,
   "id": "a32cc1dd-cd32-4f36-a81b-ee5f473a1c10",
   "metadata": {},
   "outputs": [
    {
     "name": "stdin",
     "output_type": "stream",
     "text": [
      "자연수 하나 입력하세요: 10\n"
     ]
    },
    {
     "name": "stdout",
     "output_type": "stream",
     "text": [
      "1 + 3 + 5 + 7 + 9 = 25\n"
     ]
    }
   ],
   "source": [
    "# 자연수 전체를 체크하는 경우\n",
    "input_value = int(input(\"자연수 하나 입력하세요:\"))\n",
    "print(\"1\", end=\"\")\n",
    "result = 1\n",
    "for i in range(3, input_value + 1):\n",
    "    if i % 2 == 1: # 홀수\n",
    "        print(f\" + {i}\", end=\"\")\n",
    "        result += i\n",
    "print(f\" = {result}\") "
   ]
  },
  {
   "cell_type": "code",
   "execution_count": 146,
   "id": "a3ea1b94-c982-48d6-9fe8-2e7e87a7b814",
   "metadata": {},
   "outputs": [
    {
     "name": "stdin",
     "output_type": "stream",
     "text": [
      "자연수 하나 입력하세요: 10\n"
     ]
    },
    {
     "name": "stdout",
     "output_type": "stream",
     "text": [
      "1 + 3 + 5 + 7 + 9 = 25\n"
     ]
    }
   ],
   "source": [
    "# 홀수만 만들어서 해결한 경우\n",
    "input_value = int(input(\"자연수 하나 입력하세요:\"))\n",
    "print(\"1\", end=\"\")\n",
    "result = 1\n",
    "for i in range(3, input_value + 1, 2):\n",
    "    print(f\" + {i}\", end=\"\")\n",
    "    result += i\n",
    "print(f\" = {result}\") "
   ]
  },
  {
   "cell_type": "code",
   "execution_count": 165,
   "id": "1a5b4c00-6df1-4518-90b5-35246a84a8a5",
   "metadata": {},
   "outputs": [
    {
     "name": "stdin",
     "output_type": "stream",
     "text": [
      "계승을 구할 숫자를 입력하세요. 7\n"
     ]
    },
    {
     "name": "stdout",
     "output_type": "stream",
     "text": [
      "5040\n"
     ]
    }
   ],
   "source": [
    "n = int(input(\"계승을 구할 숫자를 입력하세요.\"))\n",
    "result = 1\n",
    "for i in range(1, n+1):\n",
    "    result *= i\n",
    "print(result)"
   ]
  },
  {
   "cell_type": "code",
   "execution_count": 170,
   "id": "e987f100-1e84-4fd7-a4f4-0ec5107b71e0",
   "metadata": {},
   "outputs": [
    {
     "name": "stdout",
     "output_type": "stream",
     "text": [
      "시\n",
      "미\n",
      "라\n",
      "레\n",
      "솔\n",
      "도\n",
      "파\n"
     ]
    }
   ],
   "source": [
    "# 시퀀스 객체로 반복하기\n",
    "\n",
    "for _ in [\"시\", \"미\", \"라\", \"레\", \"솔\", \"도\", \"파\"]:\n",
    "    print(_)"
   ]
  },
  {
   "cell_type": "code",
   "execution_count": 171,
   "id": "56816cff-461f-4cb6-bdc3-1a7f6accec20",
   "metadata": {},
   "outputs": [
    {
     "name": "stdout",
     "output_type": "stream",
     "text": [
      "파 도 솔 레 라 미 시 "
     ]
    }
   ],
   "source": [
    "for _ in (\"파\", \"도\", \"솔\", \"레\", \"라\", \"미\", \"시\"):\n",
    "    print(_, end=\" \")"
   ]
  },
  {
   "cell_type": "code",
   "execution_count": 172,
   "id": "df7e6489-22c9-45ca-bc46-187f7964bf38",
   "metadata": {},
   "outputs": [
    {
     "name": "stdout",
     "output_type": "stream",
     "text": [
      "일 이 삼 사 오 육 칠 팔 구 십 "
     ]
    }
   ],
   "source": [
    "for _ in \"일이삼사오육칠팔구십\":\n",
    "    print(_, end=\" \")"
   ]
  },
  {
   "cell_type": "code",
   "execution_count": 173,
   "id": "6f0f5357-4c48-4a50-8744-37c91dc0a5e3",
   "metadata": {},
   "outputs": [
    {
     "name": "stdout",
     "output_type": "stream",
     "text": [
      "십 구 팔 칠 육 오 사 삼 이 일 "
     ]
    }
   ],
   "source": [
    "for _ in reversed(\"일이삼사오육칠팔구십\"):\n",
    "    print(_, end=\" \")"
   ]
  },
  {
   "cell_type": "code",
   "execution_count": 182,
   "id": "6f787d72-d9cc-4995-96da-46432a9e63d4",
   "metadata": {},
   "outputs": [
    {
     "name": "stdout",
     "output_type": "stream",
     "text": [
      "100 -420 250 1030 210 770 240 "
     ]
    }
   ],
   "source": [
    "for x in (10, -42, 25, 103, 21, 77, 24):\n",
    "    print((x * 10), end=\" \")"
   ]
  },
  {
   "cell_type": "code",
   "execution_count": 202,
   "id": "c21cfd8e-3cc8-49c8-b74e-104fcf8bb669",
   "metadata": {},
   "outputs": [
    {
     "name": "stdin",
     "output_type": "stream",
     "text": [
      "구구단을 알려드립니다. 숫자를 입력하세요 9\n"
     ]
    },
    {
     "name": "stdout",
     "output_type": "stream",
     "text": [
      "9 * 1 = 9\n",
      "9 * 2 = 18\n",
      "9 * 3 = 27\n",
      "9 * 4 = 36\n",
      "9 * 5 = 45\n",
      "9 * 6 = 54\n",
      "9 * 7 = 63\n",
      "9 * 8 = 72\n",
      "9 * 9 = 81\n"
     ]
    }
   ],
   "source": [
    "val = int(input(\"구구단을 알려드립니다. 숫자를 입력하세요\"))\n",
    "for i in range(1, 10):\n",
    "    print(val, \"*\", i, \"=\", val * i)\n"
   ]
  },
  {
   "cell_type": "code",
   "execution_count": 206,
   "id": "ca56c54b-fd78-4dda-beb1-8f2f02cf093e",
   "metadata": {},
   "outputs": [
    {
     "name": "stdin",
     "output_type": "stream",
     "text": [
      "자연수를 입력해주세요: 100\n"
     ]
    },
    {
     "name": "stdout",
     "output_type": "stream",
     "text": [
      "5050\n"
     ]
    }
   ],
   "source": [
    "num = int(input(\"자연수를 입력해주세요:\"))\n",
    "result = 0\n",
    "for x in range(1, num+1):\n",
    "    result += x\n",
    "print(result)"
   ]
  },
  {
   "cell_type": "code",
   "execution_count": 253,
   "id": "0dcd7872-4d4c-4f7c-97e2-f6f12e526b51",
   "metadata": {},
   "outputs": [
    {
     "name": "stdout",
     "output_type": "stream",
     "text": [
      "\n",
      "*****\n",
      "*****\n",
      "*****\n",
      "*****\n",
      "*****"
     ]
    }
   ],
   "source": [
    "for s in range(5):\n",
    "    print(end=\"\\n\")\n",
    "    for t in range(1):\n",
    "        print(\"*****\", end=\"\")"
   ]
  },
  {
   "cell_type": "code",
   "execution_count": 257,
   "id": "0a142f7e-d3ae-43b6-9854-a1e3e74617e5",
   "metadata": {},
   "outputs": [
    {
     "name": "stdout",
     "output_type": "stream",
     "text": [
      "*****\n",
      "*****\n",
      "*****\n",
      "*****\n",
      "*****\n"
     ]
    }
   ],
   "source": [
    "for j in range(5):\n",
    "    for i in range(5):\n",
    "        print('*', end = \"\")\n",
    "    print()"
   ]
  },
  {
   "cell_type": "code",
   "execution_count": 259,
   "id": "b2bb06eb-c7be-4584-8e2e-0fabc0295e44",
   "metadata": {},
   "outputs": [
    {
     "name": "stdout",
     "output_type": "stream",
     "text": [
      "Hello world!\n",
      "Hello world!\n",
      "Hello world!\n",
      "Hello world!\n",
      "Hello world!\n",
      "Hello world!\n",
      "Hello world!\n",
      "Hello world!\n",
      "Hello world!\n",
      "Hello world!\n"
     ]
    }
   ],
   "source": [
    "# while문\n",
    "    # 조건식으로 동장\n",
    "\n",
    "i = 0                            # 초기식\n",
    "while i < 10:                   # while 조건식\n",
    "    print(\"Hello world!\")        # 반복할 코드\n",
    "    i += 1                       # 변화식"
   ]
  },
  {
   "cell_type": "code",
   "execution_count": 260,
   "id": "726b7d99-9429-4dc4-b7cb-34581773d6c0",
   "metadata": {},
   "outputs": [
    {
     "name": "stdin",
     "output_type": "stream",
     "text": [
      "반복할 횟수를 입력하세요:  3\n"
     ]
    },
    {
     "name": "stdout",
     "output_type": "stream",
     "text": [
      "Hello world 3\n",
      "Hello world 2\n",
      "Hello world 1\n"
     ]
    }
   ],
   "source": [
    "count = int(input(\"반복할 횟수를 입력하세요: \"))\n",
    "\n",
    "while count > 0:\n",
    "    print(\"Hello world\", count)\n",
    "    count -= 1\n",
    "\n"
   ]
  },
  {
   "cell_type": "code",
   "execution_count": 278,
   "id": "4760b88b-7efd-46a6-89e5-c3670a09d52e",
   "metadata": {},
   "outputs": [
    {
     "name": "stdout",
     "output_type": "stream",
     "text": [
      "2\t4\t6\t8\t10\t12\t14\t16\t18\t20\t22\t24\t26\t28\t30\t32\t34\t36\t38\t40\t42\t44\t46\t48\t50\t52\t54\t56\t58\t60\t62\t64\t66\t68\t70\t72\t74\t76\t78\t80\t82\t84\t86\t88\t90\t92\t94\t96\t98\t100\t"
     ]
    }
   ],
   "source": [
    "i = 1\n",
    "while i <= 50:\n",
    "    print(i * 2, end=\"\\t\")\n",
    "    i += 1"
   ]
  },
  {
   "cell_type": "code",
   "execution_count": 4,
   "id": "7a44c60b-4eb0-4ec5-bd9a-6b97f1e3aa79",
   "metadata": {},
   "outputs": [
    {
     "name": "stdin",
     "output_type": "stream",
     "text": [
      "구구단을 알려드립니다. 숫자를 입력하세요 9\n"
     ]
    },
    {
     "name": "stdout",
     "output_type": "stream",
     "text": [
      "9 * 1 = 9\n",
      "9 * 2 = 18\n",
      "9 * 3 = 27\n",
      "9 * 4 = 36\n",
      "9 * 5 = 45\n",
      "9 * 6 = 54\n",
      "9 * 7 = 63\n",
      "9 * 8 = 72\n",
      "9 * 9 = 81\n"
     ]
    }
   ],
   "source": [
    "val = int(input(\"구구단을 알려드립니다. 숫자를 입력하세요\"))\n",
    "m = 1\n",
    "while m <= 9:\n",
    "    print(val, \"*\", m, \"=\", (val*m))\n",
    "    m += 1"
   ]
  },
  {
   "cell_type": "code",
   "execution_count": 5,
   "id": "09d3db12-f110-4e8e-b8c2-e9302207388d",
   "metadata": {},
   "outputs": [
    {
     "name": "stdout",
     "output_type": "stream",
     "text": [
      "97\n",
      "100\n",
      "77\n"
     ]
    }
   ],
   "source": [
    "scores = (97, 100, 77)\n",
    "for _ in range(len(scores)):\n",
    "    print(scores[_])"
   ]
  },
  {
   "cell_type": "code",
   "execution_count": 6,
   "id": "d1fe3fce-641c-40b5-a110-bb034fb3f3a9",
   "metadata": {},
   "outputs": [
    {
     "name": "stdout",
     "output_type": "stream",
     "text": [
      "97\n",
      "100\n",
      "77\n"
     ]
    }
   ],
   "source": [
    "scores = (97, 100, 77)\n",
    "i = 0\n",
    "while i < len(scores):\n",
    "    print(scores[i])\n",
    "    i += 1"
   ]
  },
  {
   "cell_type": "code",
   "execution_count": 8,
   "id": "b20f9e66-2e99-4973-a2b8-f88d36932d8b",
   "metadata": {},
   "outputs": [
    {
     "name": "stdout",
     "output_type": "stream",
     "text": [
      "len(a): 4\n",
      "87\n",
      "22\n",
      "31\n",
      "98\n"
     ]
    }
   ],
   "source": [
    "#     0,  1,  2,  3\n",
    "a = [87, 22, 31, 98]\n",
    "\n",
    "print(f\"len(a): {len(a)}\")  #4 --> 인덱스의 제일 큰 값보다 1이 큼.\n",
    "\n",
    "# 인덱스를 순서대로 접근할 수 있도록 제어할 변수\n",
    "# 0~3까지 1씩 증가\n",
    "i = 0\n",
    "\n",
    "# 인덱싱을 할 때는 정확한 범윙의 인덱스에 접근해야한다.\n",
    "while i < len(a):\n",
    "    print(a[i])\n",
    "    i += 1"
   ]
  },
  {
   "cell_type": "code",
   "execution_count": null,
   "id": "f98cda1f-3773-4060-8da9-c7779cb78a64",
   "metadata": {},
   "outputs": [],
   "source": []
  }
 ],
 "metadata": {
  "kernelspec": {
   "display_name": "Python 3 (ipykernel)",
   "language": "python",
   "name": "python3"
  },
  "language_info": {
   "codemirror_mode": {
    "name": "ipython",
    "version": 3
   },
   "file_extension": ".py",
   "mimetype": "text/x-python",
   "name": "python",
   "nbconvert_exporter": "python",
   "pygments_lexer": "ipython3",
   "version": "3.9.13"
  }
 },
 "nbformat": 4,
 "nbformat_minor": 5
}
