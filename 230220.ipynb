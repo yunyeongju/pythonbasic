{
 "cells": [
  {
   "cell_type": "code",
   "execution_count": 1,
   "id": "c3dec916-971e-444b-8fad-25e1bc134a17",
   "metadata": {},
   "outputs": [
    {
     "data": {
      "text/plain": [
       "[[0], [0], [0]]"
      ]
     },
     "execution_count": 1,
     "metadata": {},
     "output_type": "execute_result"
    }
   ],
   "source": [
    "a = [[0]] * 3\n",
    "a"
   ]
  },
  {
   "cell_type": "code",
   "execution_count": 3,
   "id": "3ba0cd21-53ed-414d-9f19-5528005d5275",
   "metadata": {},
   "outputs": [
    {
     "name": "stdout",
     "output_type": "stream",
     "text": [
      "2160298584336\n",
      "2160298584336\n",
      "2160298584336\n"
     ]
    }
   ],
   "source": [
    "print(id(a[0][0]))\n",
    "print(id(a[1][0]))\n",
    "print(id(a[2][0]))"
   ]
  },
  {
   "cell_type": "code",
   "execution_count": 4,
   "id": "c3d594d9-100b-47f8-afb9-094d240f6998",
   "metadata": {},
   "outputs": [],
   "source": [
    "row = [0]\n",
    "a = []\n",
    "for i in range(3) :\n",
    "    a.append(row)"
   ]
  },
  {
   "cell_type": "code",
   "execution_count": 7,
   "id": "382b46d0-62d2-4925-9c01-3bd8f0de1c59",
   "metadata": {},
   "outputs": [
    {
     "name": "stdout",
     "output_type": "stream",
     "text": [
      "2158233131776\n",
      "2158233131776\n",
      "2158233131776\n"
     ]
    }
   ],
   "source": [
    "print(id(a[0]))\n",
    "print(id(a[1]))\n",
    "print(id(a[2]))"
   ]
  },
  {
   "cell_type": "code",
   "execution_count": 6,
   "id": "5e217f8d-302e-4e3a-9d8c-227900f1f0b4",
   "metadata": {},
   "outputs": [],
   "source": [
    "b = []\n",
    "for i in range(3):\n",
    "    row = [0] # for문이 반복될 때마다 새롭게 생성되는 변수\n",
    "    b.append(row)\n"
   ]
  },
  {
   "cell_type": "code",
   "execution_count": 8,
   "id": "341ea9f9-f3b3-4427-9b62-6412a1243693",
   "metadata": {},
   "outputs": [
    {
     "name": "stdout",
     "output_type": "stream",
     "text": [
      "2158233127424\n",
      "2158233865152\n",
      "2158233878976\n"
     ]
    }
   ],
   "source": [
    "print(id(b[0]))\n",
    "print(id(b[1]))\n",
    "print(id(b[2]))"
   ]
  },
  {
   "cell_type": "code",
   "execution_count": 9,
   "id": "818bb59a-7eb1-40f7-a301-e64d83a6baa4",
   "metadata": {},
   "outputs": [
    {
     "data": {
      "text/plain": [
       "True"
      ]
     },
     "execution_count": 9,
     "metadata": {},
     "output_type": "execute_result"
    }
   ],
   "source": [
    "e = 256\n",
    "f = 256\n",
    "e is f"
   ]
  },
  {
   "cell_type": "code",
   "execution_count": 11,
   "id": "e7d541e8-cb2e-46be-875c-36711cccaba0",
   "metadata": {},
   "outputs": [
    {
     "data": {
      "text/plain": [
       "False"
      ]
     },
     "execution_count": 11,
     "metadata": {},
     "output_type": "execute_result"
    }
   ],
   "source": [
    "g = 257\n",
    "h = 257\n",
    "g is h"
   ]
  },
  {
   "cell_type": "code",
   "execution_count": 12,
   "id": "44cc93b2-63c2-48f3-953d-1992e662d75d",
   "metadata": {},
   "outputs": [
    {
     "data": {
      "text/plain": [
       "False"
      ]
     },
     "execution_count": 12,
     "metadata": {},
     "output_type": "execute_result"
    }
   ],
   "source": [
    "l1 = [1, 2,  [3, 4]]\n",
    "l2 = l1. copy()\n",
    "\n",
    "l1 is l2"
   ]
  },
  {
   "cell_type": "code",
   "execution_count": 14,
   "id": "6e79c6fb-17fb-4d7d-8f06-0faf6adb417d",
   "metadata": {},
   "outputs": [
    {
     "data": {
      "text/plain": [
       "False"
      ]
     },
     "execution_count": 14,
     "metadata": {},
     "output_type": "execute_result"
    }
   ],
   "source": [
    "l3 = [5,6]\n",
    "l4 = l3[:]\n",
    "\n",
    "l3 is l4"
   ]
  },
  {
   "cell_type": "code",
   "execution_count": 15,
   "id": "976c6a80-f0bc-4f2f-92bb-88d32b06cceb",
   "metadata": {},
   "outputs": [
    {
     "data": {
      "text/plain": [
       "True"
      ]
     },
     "execution_count": 15,
     "metadata": {},
     "output_type": "execute_result"
    }
   ],
   "source": [
    "l1[-1] is l2[-1]"
   ]
  },
  {
   "cell_type": "code",
   "execution_count": 16,
   "id": "9cedc7df-a50a-4846-9f33-5f137d64f836",
   "metadata": {},
   "outputs": [
    {
     "data": {
      "text/plain": [
       "False"
      ]
     },
     "execution_count": 16,
     "metadata": {},
     "output_type": "execute_result"
    }
   ],
   "source": [
    "l5 = [7, 8, (9, 10)]\n",
    "l6 = l5.copy()\n",
    "\n",
    "l5 is l6"
   ]
  },
  {
   "cell_type": "code",
   "execution_count": 17,
   "id": "3e4dc7c0-fd3b-448a-9d7f-1514d5292f8f",
   "metadata": {},
   "outputs": [
    {
     "data": {
      "text/plain": [
       "True"
      ]
     },
     "execution_count": 17,
     "metadata": {},
     "output_type": "execute_result"
    }
   ],
   "source": [
    "l5[-1] is l6[-1]"
   ]
  },
  {
   "cell_type": "code",
   "execution_count": 22,
   "id": "91e5676d-02bb-4bab-a168-9a750bb02f6f",
   "metadata": {},
   "outputs": [
    {
     "name": "stdout",
     "output_type": "stream",
     "text": [
      "[0, 3, 6, 9]\n"
     ]
    }
   ],
   "source": [
    "list_p = [i for i in range(10) if i % 3 == 0]\n",
    "print(list_p)"
   ]
  },
  {
   "cell_type": "code",
   "execution_count": 23,
   "id": "510e53c6-446e-40d0-bdeb-8f3fbe29a4c6",
   "metadata": {},
   "outputs": [
    {
     "name": "stdout",
     "output_type": "stream",
     "text": [
      "1\n",
      "2\n",
      "3\n",
      "4\n",
      "5\n",
      "3\n",
      "4\n"
     ]
    }
   ],
   "source": [
    "easy_list = [[1,2,3,4,5],[3,4]]\n",
    "for item in easy_list:\n",
    "    for i in item:\n",
    "        print(i)"
   ]
  },
  {
   "cell_type": "code",
   "execution_count": 24,
   "id": "a090ab1e-74c7-4133-b71f-e3798847e782",
   "metadata": {},
   "outputs": [
    {
     "name": "stdout",
     "output_type": "stream",
     "text": [
      "[1, 2, 3, 4, 5]\n",
      "[3, 4]\n"
     ]
    }
   ],
   "source": [
    "easy_list = [[1,2,3,4,5],[3,4]]\n",
    "for item in easy_list:\n",
    "    print(item)"
   ]
  },
  {
   "cell_type": "code",
   "execution_count": 25,
   "id": "84ebc634-04c4-4cc6-801d-a086223a2453",
   "metadata": {},
   "outputs": [
    {
     "name": "stdout",
     "output_type": "stream",
     "text": [
      "1\n",
      "2\n",
      "3\n",
      "4\n",
      "5\n",
      "3\n",
      "4\n"
     ]
    }
   ],
   "source": [
    "easy_list = [[1, 2, 3, 4, 5], [3, 4]]\n",
    "i = 0 # easy_list 인덱스용\n",
    "\n",
    "while i < len(easy_list):\n",
    "    j = 0 # easy_list[0], easy_list[1] 인덱스용\n",
    "    while j < len(easy_list[i]):\n",
    "        print(easy_list[i][j])\n",
    "        j += 1\n",
    "    i += 1"
   ]
  },
  {
   "cell_type": "code",
   "execution_count": 59,
   "id": "c9d02b51-8a6f-4d35-92d4-d90ca0edaac2",
   "metadata": {},
   "outputs": [
    {
     "name": "stdout",
     "output_type": "stream",
     "text": [
      "['alpha', 'bravo', 'delta', 'hotel', 'india']\n"
     ]
    }
   ],
   "source": [
    "a = ['alpha', 'bravo', 'charlie', 'delta', 'echo', 'foxtrot', 'golf', 'hotel', 'india']\n",
    "b = [i for i in a if len(i)== 5]\n",
    "print(b)"
   ]
  },
  {
   "cell_type": "code",
   "execution_count": 82,
   "id": "dbe9a551-b5f9-4b8f-92c5-f126ba7f22c2",
   "metadata": {},
   "outputs": [
    {
     "name": "stdin",
     "output_type": "stream",
     "text": [
      "정수 두 개 입력하세요: 1 10\n"
     ]
    },
    {
     "name": "stdout",
     "output_type": "stream",
     "text": [
      "[2, 4, 8, 16, 32, 64, 128, 256, 512, 1024]\n"
     ]
    }
   ],
   "source": [
    "int1, int2 = map(int, input(\"정수 두 개 입력하세요:\").split( ))\n",
    "\n",
    "while True:\n",
    "    if 0 < int1 < 21:\n",
    "        if 10 <= int2 <= 30:\n",
    "            if int1 < int2:\n",
    "                print([2**i for i in range(int1, int2+1)])\n",
    "                break\n",
    "            else:\n",
    "                print(\"첫 번째 입력 값은 두 번째 입력 값보다 작게 입력하세요.\")\n",
    "                break   \n",
    "        else:\n",
    "            print(\"두번째 값의 범위는 10 ~ 30입니다.\")\n",
    "            break\n",
    "    else:\n",
    "        print (\"첫번째 값의 범위는 1 ~ 20입니다.\")\n",
    "        break"
   ]
  },
  {
   "cell_type": "code",
   "execution_count": 86,
   "id": "b1cce4b9-ae26-4466-b9a9-769308742bc3",
   "metadata": {},
   "outputs": [
    {
     "name": "stdin",
     "output_type": "stream",
     "text": [
      "정수 두 개를 입력하세요:  1 10\n"
     ]
    },
    {
     "name": "stdout",
     "output_type": "stream",
     "text": [
      "[2, 8, 16, 32, 64, 128, 256, 1024]\n"
     ]
    }
   ],
   "source": [
    "while True:\n",
    "    num_1st, num_2nd = map(int, input(\"정수 두 개를 입력하세요: \").split( ))\n",
    "    \n",
    "    if num_1st < 1 or num_1st > 20: # not 1 <= num or 20 >= 20\n",
    "        print(\"첫번째 값의 범위는 1 ~ 20입니다.\")\n",
    "    elif num_2nd < 10 or num_2nd > 30:\n",
    "        print(\"두번째 값의 범위는 10 ~ 30입니다.\")\n",
    "    elif num_1st >= num_2nd:\n",
    "        print(\"첫 번째 입력 값은 두 번째 입력 값보다 작게 입력하세요.\")\n",
    "    else:\n",
    "        square = [2**i for i in range (num_1st, num_2nd+1)]\n",
    "        del square [1]\n",
    "        del square [len(square) -2]\n",
    "        print(square)\n",
    "        break\n",
    "    continue"
   ]
  },
  {
   "cell_type": "code",
   "execution_count": 122,
   "id": "a73b94fe-09dd-4876-8eb9-0b4b720ce8e1",
   "metadata": {},
   "outputs": [
    {
     "name": "stdout",
     "output_type": "stream",
     "text": [
      "2부터 입력하신 수까지의 모든 소수를 찾는 프로그램입니다.\n"
     ]
    },
    {
     "name": "stdin",
     "output_type": "stream",
     "text": [
      "찾는 범위를 입력하세요 : 100\n"
     ]
    },
    {
     "name": "stdout",
     "output_type": "stream",
     "text": [
      "11\n",
      "13\n",
      "17\n",
      "19\n",
      "23\n",
      "29\n",
      "31\n",
      "37\n",
      "41\n",
      "43\n",
      "47\n",
      "53\n",
      "59\n",
      "61\n",
      "67\n",
      "71\n",
      "73\n",
      "79\n",
      "83\n",
      "89\n",
      "97\n"
     ]
    }
   ],
   "source": [
    "print(\"2부터 입력하신 수까지의 모든 소수를 찾는 프로그램입니다.\")\n",
    "num = int(input(\"찾는 범위를 입력하세요 :\"))\n",
    "\n",
    "for i in range(2, num+1):\n",
    "    if i% 2 != 0 and i % 3 != 0 and i % 5 != 0 and i % 7 != 0:\n",
    "        print(i)\n",
    "    "
   ]
  },
  {
   "cell_type": "code",
   "execution_count": 131,
   "id": "e8d428ea-bc1c-4756-8154-edf82df6d63b",
   "metadata": {},
   "outputs": [
    {
     "name": "stdout",
     "output_type": "stream",
     "text": [
      "2부터 입력하신 수까지의 모든 소수를 찾는 프로그램입니다.\n"
     ]
    },
    {
     "name": "stdin",
     "output_type": "stream",
     "text": [
      "찾는 범위를 입력하세요 : 100\n"
     ]
    },
    {
     "name": "stdout",
     "output_type": "stream",
     "text": [
      "2 3 5 7 11 13 17 \n",
      "19 23 29 31 37 41 43 \n",
      "47 53 59 61 67 71 73 \n",
      "79 83 89 97 "
     ]
    }
   ],
   "source": [
    "print(\"2부터 입력하신 수까지의 모든 소수를 찾는 프로그램입니다.\")\n",
    "inData = int(input(\"찾는 범위를 입력하세요 :\"))\n",
    "i = 2\n",
    "line = 0\n",
    "while i <= inData:\n",
    "    j = 2\n",
    "    while j <= i :\n",
    "        if i % j == 0:\n",
    "            break\n",
    "        j += 1\n",
    "    if i == j :\n",
    "        print(i, end = ' ')\n",
    "        line = line + 1 \n",
    "        if line == 7:\n",
    "            line = 0\n",
    "            print()\n",
    "    i+=1"
   ]
  },
  {
   "cell_type": "code",
   "execution_count": 135,
   "id": "7b8988ba-0c7f-46e4-a82d-757b23439a09",
   "metadata": {},
   "outputs": [
    {
     "name": "stdout",
     "output_type": "stream",
     "text": [
      "[9, 7, 8, 7, 9, 8, 8, 9, 7, 9]\n"
     ]
    }
   ],
   "source": [
    "import random\n",
    "random_list = [random.randint(7,9) for _ in range(10)]\n",
    "print(random_list)"
   ]
  },
  {
   "cell_type": "code",
   "execution_count": 149,
   "id": "acf0fb41-3e3e-4dc1-b4c1-4cc3227c3f3b",
   "metadata": {},
   "outputs": [
    {
     "name": "stdin",
     "output_type": "stream",
     "text": [
      "숫자를 입력하세요. : 50\n"
     ]
    },
    {
     "name": "stdout",
     "output_type": "stream",
     "text": [
      "그보다 작습니다.\n"
     ]
    },
    {
     "name": "stdin",
     "output_type": "stream",
     "text": [
      "숫자를 입력하세요. : 30\n"
     ]
    },
    {
     "name": "stdout",
     "output_type": "stream",
     "text": [
      "그보다 큽니다.\n"
     ]
    },
    {
     "name": "stdin",
     "output_type": "stream",
     "text": [
      "숫자를 입력하세요. : 40\n"
     ]
    },
    {
     "name": "stdout",
     "output_type": "stream",
     "text": [
      "그보다 큽니다.\n"
     ]
    },
    {
     "name": "stdin",
     "output_type": "stream",
     "text": [
      "숫자를 입력하세요. : 45\n"
     ]
    },
    {
     "name": "stdout",
     "output_type": "stream",
     "text": [
      "그보다 큽니다.\n"
     ]
    },
    {
     "name": "stdin",
     "output_type": "stream",
     "text": [
      "숫자를 입력하세요. : 47\n"
     ]
    },
    {
     "name": "stdout",
     "output_type": "stream",
     "text": [
      "그보다 큽니다.\n"
     ]
    },
    {
     "name": "stdin",
     "output_type": "stream",
     "text": [
      "숫자를 입력하세요. : 49\n"
     ]
    },
    {
     "name": "stdout",
     "output_type": "stream",
     "text": [
      "그보다 작습니다.\n"
     ]
    },
    {
     "name": "stdin",
     "output_type": "stream",
     "text": [
      "숫자를 입력하세요. : 48\n"
     ]
    },
    {
     "name": "stdout",
     "output_type": "stream",
     "text": [
      "맞췄습니다!\n",
      "8번만에 맞췄네요\n"
     ]
    }
   ],
   "source": [
    "import random\n",
    "random_num = [random.randint(1,100) for _ in range(1)]\n",
    "\n",
    "\n",
    "i = 1\n",
    "while True:\n",
    "    input_num = int(input(\"숫자를 입력하세요. :\"))\n",
    "    i += 1\n",
    "    if input_num > random_num[0] :\n",
    "        print(\"그보다 작습니다.\")\n",
    "    elif input_num < random_num[0] :\n",
    "        print(\"그보다 큽니다.\")\n",
    "    elif input_num > 100 or input_num < 1 :\n",
    "        print(\"1~100 사이의 숫자를 입력하세요.\")\n",
    "    else:\n",
    "        print(\"맞췄습니다!\")\n",
    "        print(f\"{i}번만에 맞췄네요\")\n",
    "        break\n",
    "    \n",
    "        \n",
    "                "
   ]
  },
  {
   "cell_type": "code",
   "execution_count": 153,
   "id": "a05ee68c-4442-49e7-9442-a1dbfec12711",
   "metadata": {},
   "outputs": [],
   "source": [
    "a = list('안녕하세요')"
   ]
  },
  {
   "cell_type": "code",
   "execution_count": 155,
   "id": "a9e9db64-5775-4bb7-8c1f-00595e6e1351",
   "metadata": {},
   "outputs": [
    {
     "data": {
      "text/plain": [
       "'안~녕~하~세~요'"
      ]
     },
     "execution_count": 155,
     "metadata": {},
     "output_type": "execute_result"
    }
   ],
   "source": [
    "\"~\".join(a)"
   ]
  },
  {
   "cell_type": "code",
   "execution_count": 159,
   "id": "24b0240a-1913-47db-9a0e-4cbfc3e23fbc",
   "metadata": {},
   "outputs": [
    {
     "name": "stdout",
     "output_type": "stream",
     "text": [
      "A: {1, 2, 3, 4} \n",
      "B: {2, 4, 5}\n",
      "set.union(A,B): {1, 2, 3, 4, 5}\n",
      "A | B: {1, 2, 3, 4, 5}\n"
     ]
    }
   ],
   "source": [
    "A = {_ for _ in range(1,5)}\n",
    "B = {_ for _ in range(2,6) if _ !=3}\n",
    "print(\"A:\", A, \"\\nB:\", B)\n",
    "print(\"set.union(A,B):\", set.union(A,B))\n",
    "print(\"A | B:\", A | B)"
   ]
  },
  {
   "cell_type": "code",
   "execution_count": 163,
   "id": "05fa8a25-e623-401d-8de2-f6f8c188ea8f",
   "metadata": {},
   "outputs": [
    {
     "name": "stdout",
     "output_type": "stream",
     "text": [
      "A: {1, 2, 3, 4} \n",
      "B: {2, 4, 5}\n",
      "set.intersection(A,B): {2, 4}\n",
      "A & B: {2, 4}\n"
     ]
    }
   ],
   "source": [
    "A = {_ for _ in range(1,5)}\n",
    "B = {_ for _ in range(2,6) if _ !=3}\n",
    "print(\"A:\", A, \"\\nB:\", B)\n",
    "print(\"set.intersection(A,B):\", set.intersection(A,B))\n",
    "print(\"A & B:\", A & B)"
   ]
  },
  {
   "cell_type": "code",
   "execution_count": 164,
   "id": "6957f7c8-614e-473c-bdb8-b9d3bbd618b1",
   "metadata": {},
   "outputs": [
    {
     "name": "stdout",
     "output_type": "stream",
     "text": [
      "A: {1, 2, 3, 4} \n",
      "B: {2, 4, 5}\n",
      "set.difference(A,B): {1, 3}\n",
      "A - B: {1, 3}\n"
     ]
    }
   ],
   "source": [
    "A = {_ for _ in range(1,5)}\n",
    "B = {_ for _ in range(2,6) if _ !=3}\n",
    "print(\"A:\", A, \"\\nB:\", B)\n",
    "print(\"set.difference(A,B):\", set.difference(A,B))\n",
    "print(\"A - B:\", A - B)"
   ]
  },
  {
   "cell_type": "code",
   "execution_count": 165,
   "id": "527ea019-5ebd-4d07-977e-11e319d72b9b",
   "metadata": {},
   "outputs": [
    {
     "name": "stdout",
     "output_type": "stream",
     "text": [
      "A: {1, 2, 3, 4} \n",
      "B: {2, 4, 5}\n",
      "set.symmetric_difference(A,B): {1, 3, 5}\n",
      "A ^ B: {1, 3, 5}\n"
     ]
    }
   ],
   "source": [
    "A = {_ for _ in range(1,5)}\n",
    "B = {_ for _ in range(2,6) if _ !=3}\n",
    "print(\"A:\", A, \"\\nB:\", B)\n",
    "print(\"set.symmetric_difference(A,B):\", set.symmetric_difference(A,B))\n",
    "print(\"A ^ B:\", A ^ B)"
   ]
  },
  {
   "cell_type": "code",
   "execution_count": 166,
   "id": "90cc3756-e125-4db5-a752-70beb3775043",
   "metadata": {},
   "outputs": [
    {
     "name": "stdout",
     "output_type": "stream",
     "text": [
      "A: {1, 2, 3, 4} \n",
      "B: {2, 4, 5}\n",
      "A.update(B): {1, 2, 3, 4, 5}\n"
     ]
    }
   ],
   "source": [
    "A = {_ for _ in range(1,5)}\n",
    "B = {_ for _ in range(2,6) if _ !=3}\n",
    "print(\"A:\", A, \"\\nB:\", B)\n",
    "A.update(B) # A |= B 와 같습니다.\n",
    "print(\"A.update(B):\", A)"
   ]
  },
  {
   "cell_type": "code",
   "execution_count": 167,
   "id": "24984b6e-5357-45dc-b91b-c1b74ec3af50",
   "metadata": {},
   "outputs": [
    {
     "name": "stdout",
     "output_type": "stream",
     "text": [
      "A: {1, 2, 3, 4} \n",
      "B: {2, 4, 5}\n",
      "A.update(B): {2, 4}\n"
     ]
    }
   ],
   "source": [
    "A = {_ for _ in range(1,5)}\n",
    "B = {_ for _ in range(2,6) if _ !=3}\n",
    "print(\"A:\", A, \"\\nB:\", B)\n",
    "A.intersection_update(B) # A &= B 와 같습니다.\n",
    "print(\"A.update(B):\", A)"
   ]
  },
  {
   "cell_type": "code",
   "execution_count": 168,
   "id": "1741b2ad-3681-4e08-b3e2-85ffd209f851",
   "metadata": {},
   "outputs": [
    {
     "name": "stdout",
     "output_type": "stream",
     "text": [
      "A: {1, 2, 3, 4} \n",
      "B: {2, 4, 5}\n",
      "A.update(B): {1, 3}\n"
     ]
    }
   ],
   "source": [
    "A = {_ for _ in range(1,5)}\n",
    "B = {_ for _ in range(2,6) if _ !=3}\n",
    "print(\"A:\", A, \"\\nB:\", B)\n",
    "A.difference_update(B) # A &= B 와 같습니다.\n",
    "print(\"A.update(B):\", A)"
   ]
  },
  {
   "cell_type": "code",
   "execution_count": 170,
   "id": "4661a2f1-55ab-4487-915f-a24bfe8ee934",
   "metadata": {},
   "outputs": [
    {
     "name": "stdout",
     "output_type": "stream",
     "text": [
      "A: {1, 2, 3, 4} \n",
      "B: {2, 4, 5}\n",
      "A.update(B): {1, 3, 5}\n"
     ]
    }
   ],
   "source": [
    "A = {_ for _ in range(1,5)}\n",
    "B = {_ for _ in range(2,6) if _ !=3}\n",
    "print(\"A:\", A, \"\\nB:\", B)\n",
    "A.symmetric_difference_update(B) # A &= B 와 같습니다.\n",
    "print(\"A.update(B):\", A)"
   ]
  },
  {
   "cell_type": "code",
   "execution_count": 173,
   "id": "3a8be622-7428-48f7-b39e-449edf79ee50",
   "metadata": {},
   "outputs": [
    {
     "name": "stdout",
     "output_type": "stream",
     "text": [
      "A: {0, 1, 2} \n",
      "B: {0, 1, 2}\n",
      "A.issubset(B): True\n"
     ]
    }
   ],
   "source": [
    "A = {_ for _ in range(0,3)}\n",
    "B = {_ for _ in range(0,3)}\n",
    "print(\"A:\", A, \"\\nB:\", B)\n",
    "print(\"A.issubset(B):\", A.issubset(B))"
   ]
  },
  {
   "cell_type": "code",
   "execution_count": 176,
   "id": "be7c9f89-5465-4718-afc7-74edbccbf7ca",
   "metadata": {},
   "outputs": [
    {
     "name": "stdout",
     "output_type": "stream",
     "text": [
      "A: {0, 1, 2} \n",
      "B: {0, 1, 2}\n",
      "A.issuperset(B): True\n"
     ]
    }
   ],
   "source": [
    "A = {_ for _ in range(0,3)}\n",
    "B = {_ for _ in range(0,3)}\n",
    "print(\"A:\", A, \"\\nB:\", B)\n",
    "print(\"A.issuperset(B):\", A.issuperset(B))"
   ]
  },
  {
   "cell_type": "code",
   "execution_count": 177,
   "id": "cb8fa70e-f0f4-46d9-9975-b1c510172252",
   "metadata": {},
   "outputs": [
    {
     "name": "stdout",
     "output_type": "stream",
     "text": [
      "A: {0, 1, 2} \n",
      "B: {0, 1, 2}\n",
      "A > B: False\n",
      "A < B: False\n"
     ]
    }
   ],
   "source": [
    "A = {_ for _ in range(0,3)}\n",
    "B = {_ for _ in range(0,3)}\n",
    "print(\"A:\", A, \"\\nB:\", B)\n",
    "print(\"A > B:\", A>B)\n",
    "print(\"A < B:\", A<B)"
   ]
  },
  {
   "cell_type": "code",
   "execution_count": 179,
   "id": "4143508b-6706-4843-a3d4-d87f1bb37444",
   "metadata": {},
   "outputs": [
    {
     "name": "stdout",
     "output_type": "stream",
     "text": [
      "A: {0, 1, 2} \n",
      "B: {0, 1, 2}\n",
      "A = B: True\n"
     ]
    }
   ],
   "source": [
    "A = {_ for _ in range(0,3)}\n",
    "B = {_ for _ in range(0,3)}\n",
    "print(\"A:\", A, \"\\nB:\", B)\n",
    "print(\"A = B:\", A == B)"
   ]
  },
  {
   "cell_type": "code",
   "execution_count": 180,
   "id": "0f2810f4-fd01-41d4-98f9-fc95e3458a7b",
   "metadata": {},
   "outputs": [
    {
     "name": "stdout",
     "output_type": "stream",
     "text": [
      "A: {0, 1, 2} \n",
      "B: {3, 4, 5}\n",
      "A.isdisjoint(B): True\n"
     ]
    }
   ],
   "source": [
    "A = {_ for _ in range(0,3)}\n",
    "B = {_ for _ in range(3,6)}\n",
    "print(\"A:\", A, \"\\nB:\", B)\n",
    "print(\"A.isdisjoint(B):\", A.isdisjoint(B))"
   ]
  },
  {
   "cell_type": "code",
   "execution_count": 187,
   "id": "69081b34-23e9-434e-8387-54ca56e28108",
   "metadata": {},
   "outputs": [
    {
     "name": "stdout",
     "output_type": "stream",
     "text": [
      "[1, 2, 3, 4]\n"
     ]
    }
   ],
   "source": [
    "list_sample = [1, 2, 2, 3, 3, 3, 4, 4, 4, 4]\n",
    "\n",
    "print(list(set((list_sample))))"
   ]
  },
  {
   "cell_type": "code",
   "execution_count": null,
   "id": "3f8a163b-96aa-43f0-b08a-4c69439059ca",
   "metadata": {},
   "outputs": [],
   "source": []
  }
 ],
 "metadata": {
  "kernelspec": {
   "display_name": "Python 3 (ipykernel)",
   "language": "python",
   "name": "python3"
  },
  "language_info": {
   "codemirror_mode": {
    "name": "ipython",
    "version": 3
   },
   "file_extension": ".py",
   "mimetype": "text/x-python",
   "name": "python",
   "nbconvert_exporter": "python",
   "pygments_lexer": "ipython3",
   "version": "3.9.13"
  }
 },
 "nbformat": 4,
 "nbformat_minor": 5
}
