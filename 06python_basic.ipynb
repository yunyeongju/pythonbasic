{
 "cells": [
  {
   "cell_type": "code",
   "execution_count": 5,
   "id": "a1c8d91d-d459-4f2c-8fbc-7b378d4b459a",
   "metadata": {},
   "outputs": [
    {
     "name": "stdout",
     "output_type": "stream",
     "text": [
      "1 2 3 4 5 6 7 8 9 10 "
     ]
    }
   ],
   "source": [
    "for i in range(1,11):\n",
    "    print(i, end=\" \")"
   ]
  },
  {
   "cell_type": "code",
   "execution_count": 12,
   "id": "b0d63bee-f63b-4578-994d-da091fda60c4",
   "metadata": {},
   "outputs": [
    {
     "name": "stdout",
     "output_type": "stream",
     "text": [
      "1 2 3 4 5 6 7 8 9 10 "
     ]
    }
   ],
   "source": [
    "i = 1\n",
    "while i < 11:\n",
    "    print(i, end=\" \")\n",
    "    i += 1\n"
   ]
  },
  {
   "cell_type": "code",
   "execution_count": 34,
   "id": "4f618bed-4046-49b9-b70b-5770bea6dc9b",
   "metadata": {},
   "outputs": [
    {
     "name": "stdout",
     "output_type": "stream",
     "text": [
      "79.0\n"
     ]
    }
   ],
   "source": [
    "class_a = (70, 60, 55, 75, 95, 90, 80, 80, 85, 100)\n",
    "\n",
    "i = 0\n",
    "sum = 0\n",
    "while i < len(class_a):\n",
    "    sum += class_a[i]\n",
    "    i += 1\n",
    "average = sum / len(class_a)\n",
    "print(average)\n",
    "    "
   ]
  },
  {
   "cell_type": "code",
   "execution_count": 37,
   "id": "ec3c690d-094d-4c03-ad3f-cbb1afb6afc3",
   "metadata": {},
   "outputs": [
    {
     "name": "stdout",
     "output_type": "stream",
     "text": [
      "0\n",
      "1\n",
      "2\n",
      "3\n",
      "4\n",
      "5\n",
      "6\n",
      "7\n",
      "8\n",
      "9\n",
      "10\n"
     ]
    }
   ],
   "source": [
    "# break문 : 반복 그만하고 빠져나감 - for문, while문\n",
    "\n",
    "# 10000회 반복\n",
    "for _ in range(10000):\n",
    "    print(_)\n",
    "    if _ == 10:\n",
    "        break"
   ]
  },
  {
   "cell_type": "code",
   "execution_count": 39,
   "id": "86f19422-af10-4280-8cdc-91b28cc9c50e",
   "metadata": {},
   "outputs": [
    {
     "name": "stdout",
     "output_type": "stream",
     "text": [
      "Hello world\n",
      "Hello world\n",
      "Hello world\n",
      "Hello world\n",
      "Hello world\n",
      "Hello world\n",
      "Hello world\n",
      "Hello world\n",
      "Hello world\n",
      "Hello world\n"
     ]
    }
   ],
   "source": [
    "# while문 - 무한 루프의 활용\n",
    "\n",
    "i = 0\n",
    "while True:\n",
    "    print(\"Hello world\")\n",
    "    i += 1\n",
    "    if i == 10:\n",
    "        break;"
   ]
  },
  {
   "cell_type": "code",
   "execution_count": 49,
   "id": "aee71844-fecd-4f96-a3cf-290017038fbf",
   "metadata": {},
   "outputs": [
    {
     "name": "stdout",
     "output_type": "stream",
     "text": [
      "5050\n"
     ]
    }
   ],
   "source": [
    "i = 0\n",
    "total = 0\n",
    "while True:\n",
    "    i += 1\n",
    "    total += i\n",
    "    if i == 100:  \n",
    "        break\n",
    "print(total)"
   ]
  },
  {
   "cell_type": "code",
   "execution_count": 50,
   "id": "25bdb772-e9de-4f42-ab20-dc4ff1a0ae89",
   "metadata": {},
   "outputs": [
    {
     "name": "stdout",
     "output_type": "stream",
     "text": [
      "5050\n"
     ]
    }
   ],
   "source": [
    "i = 0\n",
    "total = 0\n",
    "while True:\n",
    "    total += i\n",
    "    i = i + 1\n",
    "    if i > 100:  \n",
    "        break\n",
    "print(total)"
   ]
  },
  {
   "cell_type": "code",
   "execution_count": 51,
   "id": "bc5eec2d-f0a8-4c8a-9d1a-3e6f50101a00",
   "metadata": {},
   "outputs": [
    {
     "name": "stdin",
     "output_type": "stream",
     "text": [
      "q를 입력하면 종료됩니다. 푸하하\n",
      "q를 입력하면 종료됩니다. 푸하..\n",
      "q를 입력하면 종료됩니다. q\n"
     ]
    },
    {
     "name": "stdout",
     "output_type": "stream",
     "text": [
      "프로그램을 종료합니다.\n"
     ]
    }
   ],
   "source": [
    "# while문 - 무한 루프의 활용\n",
    "# 원하는 값이 입력됐을 때 종료시키기\n",
    "\n",
    "while True:\n",
    "    input_value = input(\"q를 입력하면 종료됩니다.\")\n",
    "    if input_value == \"q\" : break\n",
    "print(\"프로그램을 종료합니다.\")"
   ]
  },
  {
   "cell_type": "code",
   "execution_count": 53,
   "id": "2d29f20b-cd83-4086-92c4-7207029f0ce2",
   "metadata": {},
   "outputs": [
    {
     "name": "stdout",
     "output_type": "stream",
     "text": [
      "1\t3\t5\t7\t9\t11\t13\t15\t17\t19\t21\t23\t25\t27\t29\t31\t33\t35\t37\t39\t41\t43\t45\t47\t49\t51\t53\t55\t57\t59\t61\t63\t65\t67\t69\t71\t73\t75\t77\t79\t81\t83\t85\t87\t89\t91\t93\t95\t97\t99\t"
     ]
    }
   ],
   "source": [
    "# continue - 딱 1번 빠져나가서 다시 조건문으로 돌아옴\n",
    "\n",
    "for i in range(100):         # 0부터 99까지 증가하면서 100번 반복\n",
    "    if i % 2 == 0:           # i를 2로 나누었을 때 나머지 0이면 짝수\n",
    "        continue             # 홀수면 출력, 짝수면 첫줄로 돌아옴\n",
    "    print(i, end=\"\\t\")"
   ]
  },
  {
   "cell_type": "code",
   "execution_count": 80,
   "id": "5aaa9046-2142-4049-bb53-b68d9ed9865e",
   "metadata": {},
   "outputs": [
    {
     "name": "stdin",
     "output_type": "stream",
     "text": [
      "시작하는 정수 입력 : 1\n",
      "끝나는 정수 입력 : 10\n"
     ]
    },
    {
     "name": "stdout",
     "output_type": "stream",
     "text": [
      "1부터 10까지의 합은 55 입니다.\n"
     ]
    }
   ],
   "source": [
    "n = int(input(\"시작하는 정수 입력 :\"))\n",
    "m = int(input(\"끝나는 정수 입력 :\"))\n",
    "total = 0\n",
    "\n",
    "for i in range(n,m + 1):\n",
    "    total += i\n",
    "    \n",
    "print(n,\"부터 \", m,\"까지의 합은 \", total,\" 입니다.\", sep=\"\")"
   ]
  },
  {
   "cell_type": "code",
   "execution_count": 75,
   "id": "2667027a-a911-466d-887b-5b36b5bede2d",
   "metadata": {},
   "outputs": [
    {
     "name": "stdin",
     "output_type": "stream",
     "text": [
      "시작하는 정수 입력 : 1\n",
      "끝나는 정수 입력 : 10\n"
     ]
    },
    {
     "name": "stdout",
     "output_type": "stream",
     "text": [
      "1 부터 10 까지의 합은 55 입니다.\n"
     ]
    }
   ],
   "source": [
    "n = int(input(\"시작하는 정수 입력 :\"))\n",
    "m = int(input(\"끝나는 정수 입력 :\"))\n",
    "\n",
    "i = n\n",
    "total = 0\n",
    "while i <= m:\n",
    "    total += i\n",
    "    i += 1\n",
    "\n",
    "print(n,\"부터\", m,\"까지의 합은\", total, \"입니다.\")\n",
    "    "
   ]
  },
  {
   "cell_type": "code",
   "execution_count": 81,
   "id": "456b8beb-7e7f-40e6-8ee2-f57ebdc9af61",
   "metadata": {},
   "outputs": [
    {
     "name": "stdout",
     "output_type": "stream",
     "text": [
      "<class 'dict'>\n",
      "{'key': 'value'}\n"
     ]
    }
   ],
   "source": [
    "# 딕셔너리 자료형 (Dictionary Type) - 비 시퀀스 자료형\n",
    "# key = 고유한 값\n",
    "# key : value -> key-value pair ; key 값에 value 하나\n",
    "\n",
    "# 중괄호 ({})를 활용하여 딕셔너리 자료형 생성\n",
    "# dictionary_variable = {key:value, key:value, ...}\n",
    "\n",
    "dic_var = {\"key\": \"value\"}\n",
    "print(type(dic_var))\n",
    "print(dic_var)\n"
   ]
  },
  {
   "cell_type": "code",
   "execution_count": 82,
   "id": "b03c5fb4-757a-4565-8c81-13239222255f",
   "metadata": {},
   "outputs": [],
   "source": [
    "# () -> tuple   -시퀀스\n",
    "# [] -> list    -시퀀스 \n",
    "# {} -> dictionary(key:value), set(key)   -비시퀀스 (v.3.6부터 순서가 보장되겠금 변경됨)"
   ]
  },
  {
   "cell_type": "code",
   "execution_count": 85,
   "id": "b1a0807d-adb1-4ccf-8abd-a69a4844a06c",
   "metadata": {},
   "outputs": [
    {
     "name": "stdout",
     "output_type": "stream",
     "text": [
      "{'key': 'last value'}\n"
     ]
    }
   ],
   "source": [
    "# 키(key)는 중복해서 존재 x, 만약 중복되었다면 가장 최근(마지막)에 넣은 key-value pair만 남음\n",
    "\n",
    "dic_var = {\"key\" : \"value\", \"key\" : \"last value\"}\n",
    "print(dic_var)   # key가 중복됐기 때문에 last value 값만 출력됨"
   ]
  },
  {
   "cell_type": "code",
   "execution_count": 89,
   "id": "885e46e5-e8ea-4b0d-a04c-23dbf90a4e57",
   "metadata": {},
   "outputs": [
    {
     "name": "stdout",
     "output_type": "stream",
     "text": [
      "[<class 'str'>, <class 'int'>, <class 'float'>, <class 'tuple'>]\n"
     ]
    }
   ],
   "source": [
    "# 키(key)는 문자열(str), 정수(int), 실수(float), 불(bool), 튜플(tuple) 사용 o, 섞어도 ok - hashable\n",
    "# 단, 리스트(list), 딕셔너리(dictionary), 집합(set) 사용 x\n",
    "# 키는 고유한 값을 가져야 함! (인덱스에 겹치는 숫자가 없듯이)\n",
    "\n",
    "# 값(value)는 모든 자료형을 사용할 수 있음.\n",
    "\n",
    "dic_var = {\"key\" : \"value\",\n",
    "           1 : \"value2\",\n",
    "           1.1 : \"value3\",\n",
    "           True: \"value4\",\n",
    "           (\"key\", 1, 1.1, True): \"value2\"}\n",
    "print(list(map(type, dic_var.keys())))\n",
    "           \n",
    "    \n"
   ]
  },
  {
   "cell_type": "code",
   "execution_count": 150,
   "id": "eb0dae56-963e-44ca-8586-0c1969cd9cb5",
   "metadata": {},
   "outputs": [
    {
     "name": "stdout",
     "output_type": "stream",
     "text": [
      "[<class 'str'>, <class 'bool'>, <class 'float'>, <class 'tuple'>, <class 'list'>, <class 'dict'>, <class 'set'>]\n"
     ]
    }
   ],
   "source": [
    "dic_var = {\"key\" : \"value\",\n",
    "           1 : 1,\n",
    "           1.1 : 1.1,\n",
    "           True : False,\n",
    "           (\"key\", 1, 1.1, True): (\"key\", 1, 1.1, True),\n",
    "           \"list\" : [1, '가', 1.1, True, (1, '나')],\n",
    "           \"dict\" : {\"key\" : \"value\", \"key2\" : \"value2\"},\n",
    "           \"set\" : {\"key\", \"value\"}\n",
    "          }\n",
    "print(list(map(type, dic_var.values())))\n",
    "\n"
   ]
  },
  {
   "cell_type": "code",
   "execution_count": 152,
   "id": "3bf8874a-e0fa-40e1-8aaf-89a0eae414ae",
   "metadata": {},
   "outputs": [
    {
     "name": "stdout",
     "output_type": "stream",
     "text": [
      "{}\n",
      "<class 'dict'>\n",
      "{}\n",
      "<class 'dict'>\n"
     ]
    }
   ],
   "source": [
    "# 빈 딕셔너리 생성하기 : 중괄호 {} 만 쓰거나 인자없이 dict() 함수 사용\n",
    "# set도 {}를 사용하지만 set()이라는 함수로만 만들 수 있음\n",
    "\n",
    "empty_dict = {}\n",
    "print(empty_dict)\n",
    "print(type(empty_dict))\n",
    "\n",
    "empty_dict = dict()\n",
    "print(empty_dict)\n",
    "print(type(empty_dict))"
   ]
  },
  {
   "cell_type": "code",
   "execution_count": 108,
   "id": "61e06987-1864-4cfb-904d-d765697acdd0",
   "metadata": {},
   "outputs": [
    {
     "name": "stdout",
     "output_type": "stream",
     "text": [
      "{'key': 'value', 'key2': 'value2', 'key3': 'value3'}\n"
     ]
    }
   ],
   "source": [
    "# dict() 함수로 생성하기\n",
    "# 키워드 인자값을 활용하면 딕셔너리를 만들 수 있다! 키워드 부분은 변수명처럼 따옴표를 쓰지 않음\n",
    "\n",
    "dict_a = dict(key=\"value\", key2=\"value2\", key3=\"value3\")\n",
    "print(dict_a)\n",
    "\n"
   ]
  },
  {
   "cell_type": "code",
   "execution_count": 110,
   "id": "d1be425c-4eed-4b65-9c20-bfcccc071bcf",
   "metadata": {},
   "outputs": [
    {
     "data": {
      "text/plain": [
       "{'key': 'value', 'key2': 'value2'}"
      ]
     },
     "execution_count": 110,
     "metadata": {},
     "output_type": "execute_result"
    }
   ],
   "source": [
    "# dic() 함수와 시퀀스 객체로 생성하기\n",
    "\n",
    "dict([(\"key\", \"value\"),(\"key2\", \"value2\")])\n",
    "\n"
   ]
  },
  {
   "cell_type": "code",
   "execution_count": 158,
   "id": "123305ba-bbf4-4b6b-9281-182f8c7e0747",
   "metadata": {},
   "outputs": [
    {
     "name": "stdout",
     "output_type": "stream",
     "text": [
      "{'k': 'v', 'k2': 'v2', 'k3': 'v3'}\n",
      "<zip object at 0x0000020931279400>\n"
     ]
    },
    {
     "data": {
      "text/plain": [
       "[('k', 'v'), ('k2', 'v2'), ('k3', 'v3')]"
      ]
     },
     "execution_count": 158,
     "metadata": {},
     "output_type": "execute_result"
    }
   ],
   "source": [
    "# dict() 함수와 zip() 함수\n",
    "# zip() 함수를 통하여 키와 값 한 쌍을 갖는 튜플을 요소로 갖는 객체로 딕셔너리 자료형을 생성할 수 있음\n",
    "\n",
    "dict_b = dict(zip([\"k\", \"k2\", \"k3\"], [\"v\", \"v2\", \"v3\"]))\n",
    "print(dict_b)\n",
    "\n",
    "print(zip([\"k\", \"k2\", \"k3\"], [\"v\",\"v2\",\"v3\"]))\n",
    "\n",
    "[_ for _ in zip([\"k\", \"k2\", \"k3\"], [\"v\",\"v2\",\"v3\"])]\n",
    "\n"
   ]
  },
  {
   "cell_type": "code",
   "execution_count": 157,
   "id": "09e6def7-9025-458f-908e-b1350a188dfc",
   "metadata": {},
   "outputs": [
    {
     "name": "stdout",
     "output_type": "stream",
     "text": [
      "[('k1', 'v1'), ('k2', 'v2'), ('k3', 'v3')]\n"
     ]
    }
   ],
   "source": [
    "keys = (\"k1\", \"k2\", \"k3\")\n",
    "values = (\"v1\", \"v2\", \"v3\")\n",
    "\n",
    "sam_list = []\n",
    "for index in range(len(keys)):\n",
    "    sam_list.append((keys[index], values[index]))\n",
    "print(sam_list)"
   ]
  },
  {
   "cell_type": "code",
   "execution_count": 104,
   "id": "f966a0e6-583b-4732-8c37-dbcd1b8a294d",
   "metadata": {},
   "outputs": [
    {
     "data": {
      "text/plain": [
       "[('k1', 'v1'), ('k2', 'v2'), ('k3', 'v3')]"
      ]
     },
     "execution_count": 104,
     "metadata": {},
     "output_type": "execute_result"
    }
   ],
   "source": [
    "list(zip(keys, values))"
   ]
  },
  {
   "cell_type": "code",
   "execution_count": 105,
   "id": "080a1de8-5e19-4c3d-8b38-56972b92e8e4",
   "metadata": {},
   "outputs": [
    {
     "data": {
      "text/plain": [
       "{'k1': 'v1', 'k2': 'v2', 'k3': 'v3'}"
      ]
     },
     "execution_count": 105,
     "metadata": {},
     "output_type": "execute_result"
    }
   ],
   "source": [
    "dict(sam_list)"
   ]
  },
  {
   "cell_type": "code",
   "execution_count": 114,
   "id": "de827c25-5cdb-462e-89ab-1804010c8847",
   "metadata": {},
   "outputs": [
    {
     "name": "stdout",
     "output_type": "stream",
     "text": [
      "{'k': 'v', 'k2': 'v2', 'k3': 'v3'}\n",
      "v\n",
      "{'k': 'super value', 'k2': 'v2', 'k3': 'v3'}\n",
      "{'k': 'super value', 'k2': 'v2', 'k3': 'v3', 'new one': 'new value'}\n"
     ]
    }
   ],
   "source": [
    "# 키로 값에 접근하기\n",
    "\n",
    "\n",
    "print(dict_b)\n",
    "print(dict_b['k'])\n",
    "\n",
    "# 키로 값 변경하기\n",
    "dict_b['k'] = \"super value\"\n",
    "print(dict_b)\n",
    "\n",
    "# 키와 값 추가하기\n",
    "dict_b['new one'] = \"new value\"\n",
    "print(dict_b)"
   ]
  },
  {
   "cell_type": "code",
   "execution_count": 115,
   "id": "d9be932a-8009-4124-9793-c8e879ba9210",
   "metadata": {},
   "outputs": [
    {
     "name": "stdout",
     "output_type": "stream",
     "text": [
      "{'k': 'super value', 'k2': 'v2', 'k3': 'v3', 'new one': 'new value'}\n"
     ]
    },
    {
     "ename": "KeyError",
     "evalue": "'없는 키'",
     "output_type": "error",
     "traceback": [
      "\u001b[1;31m---------------------------------------------------------------------------\u001b[0m",
      "\u001b[1;31mKeyError\u001b[0m                                  Traceback (most recent call last)",
      "\u001b[1;32m~\\AppData\\Local\\Temp\\ipykernel_16068\\967690156.py\u001b[0m in \u001b[0;36m<module>\u001b[1;34m\u001b[0m\n\u001b[0;32m      2\u001b[0m \u001b[1;33m\u001b[0m\u001b[0m\n\u001b[0;32m      3\u001b[0m \u001b[0mprint\u001b[0m\u001b[1;33m(\u001b[0m\u001b[0mdict_b\u001b[0m\u001b[1;33m)\u001b[0m\u001b[1;33m\u001b[0m\u001b[1;33m\u001b[0m\u001b[0m\n\u001b[1;32m----> 4\u001b[1;33m \u001b[0mprint\u001b[0m\u001b[1;33m(\u001b[0m\u001b[0mdict_b\u001b[0m\u001b[1;33m[\u001b[0m\u001b[1;34m'없는 키'\u001b[0m\u001b[1;33m]\u001b[0m\u001b[1;33m)\u001b[0m\u001b[1;33m\u001b[0m\u001b[1;33m\u001b[0m\u001b[0m\n\u001b[0m",
      "\u001b[1;31mKeyError\u001b[0m: '없는 키'"
     ]
    }
   ],
   "source": [
    "# 없는 키에 접근하는 경우 - key error 발생\n",
    "\n",
    "print(dict_b)\n",
    "print(dict_b['없는 키'])"
   ]
  },
  {
   "cell_type": "code",
   "execution_count": 119,
   "id": "719886ab-cc77-4a67-98cb-7aef496c4c7e",
   "metadata": {},
   "outputs": [
    {
     "name": "stdout",
     "output_type": "stream",
     "text": [
      "{'k': 'super value', 'k2': 'v2', 'k3': 'v3', 'new one': 'new value'}\n",
      "True\n"
     ]
    }
   ],
   "source": [
    "# 특정 키가 딕셔너리 자료형에 있나 확인 - in 연산자 활용\n",
    "\n",
    "print(dict_b)\n",
    "print('k' in dict_b)\n",
    "\n",
    "# '찾을 값' in dict_b.values()"
   ]
  },
  {
   "cell_type": "code",
   "execution_count": 120,
   "id": "67dbf381-5c12-4747-b896-f5a807bb7c4e",
   "metadata": {},
   "outputs": [
    {
     "name": "stdout",
     "output_type": "stream",
     "text": [
      "{'k': 'super value', 'k2': 'v2', 'k3': 'v3', 'new one': 'new value'}\n",
      "{'k': 'super value', 'k2': 'v2', 'k3': 'v3'}\n"
     ]
    }
   ],
   "source": [
    "# 특정 키와 값의 쌍을 삭제하기\n",
    "\n",
    "print(dict_b)\n",
    "del dict_b['new one']\n",
    "print(dict_b)"
   ]
  },
  {
   "cell_type": "code",
   "execution_count": 121,
   "id": "d7b270e1-3117-49c9-9137-ad80b7fe05e3",
   "metadata": {},
   "outputs": [
    {
     "name": "stdout",
     "output_type": "stream",
     "text": [
      "{'k': 'super value', 'k2': 'v2', 'k3': 'v3'}\n"
     ]
    },
    {
     "data": {
      "text/plain": [
       "3"
      ]
     },
     "execution_count": 121,
     "metadata": {},
     "output_type": "execute_result"
    }
   ],
   "source": [
    "# 키와 값의 쌍 개수 구하기\n",
    "print(dict_b)\n",
    "len(dict_b)"
   ]
  },
  {
   "cell_type": "code",
   "execution_count": 147,
   "id": "613d8b49-2507-4770-9bc8-d56819586412",
   "metadata": {},
   "outputs": [
    {
     "name": "stdin",
     "output_type": "stream",
     "text": [
      "과일의 이름을 입력하세요. 사과\n"
     ]
    },
    {
     "name": "stdout",
     "output_type": "stream",
     "text": [
      "사과 의 가격은 1000 원입니다.\n"
     ]
    }
   ],
   "source": [
    "fruit = dict(zip([\"사과\", \"바나나\", \"오렌지\", \"파인애플\"], [\"1000\", \"700\", \"1500\", \"2000\"]))\n",
    "\n",
    "a = input(\"과일의 이름을 입력하세요.\")\n",
    "print(a, \"의 가격은\", fruit[a], \"원입니다.\")"
   ]
  },
  {
   "cell_type": "code",
   "execution_count": 154,
   "id": "055b78c9-9dfb-480e-aad7-d02dbcbbe591",
   "metadata": {},
   "outputs": [
    {
     "name": "stdin",
     "output_type": "stream",
     "text": [
      "과일 이름을 입력하세요. 사과\n"
     ]
    },
    {
     "name": "stdout",
     "output_type": "stream",
     "text": [
      "사과의 가격은 1000원입니다.\n"
     ]
    }
   ],
   "source": [
    "dict_fruits = {\"사과\" : 1000, \"바나나\" : 700, \"오렌지\" : 1500, \"파인애플\" : 2000}\n",
    "\n",
    "input_fruit = input(\"과일 이름을 입력하세요.\")\n",
    "print(f\"{input_fruit}의 가격은 {dict_fruits[input_fruit]}원입니다.\")"
   ]
  },
  {
   "cell_type": "code",
   "execution_count": 190,
   "id": "a3b8e962-7b1a-4bb2-972d-51167eb5c5b0",
   "metadata": {},
   "outputs": [
    {
     "name": "stdin",
     "output_type": "stream",
     "text": [
      "이름을 기입해주세요. 뽀로로 루피 크롱 스누피 \n",
      "몸무게를 입력해주세요. 20.4 16.2 22.3 5.2\n"
     ]
    },
    {
     "name": "stdout",
     "output_type": "stream",
     "text": [
      "['뽀로로', '루피', '크롱', '스누피']\n",
      "[20.4, 16.2, 22.3, 5.2]\n",
      "{'뽀로로': 20.4, '루피': 16.2, '크롱': 22.3, '스누피': 5.2}\n"
     ]
    }
   ],
   "source": [
    "\n",
    "name = input(\"이름을 기입해주세요.\").split( )\n",
    "weight = list(map(float,input(\"몸무게를 입력해주세요.\").split( )))\n",
    "\n",
    "print(name)\n",
    "print(weight)\n",
    "print(dict(zip(name, weight)))\n",
    "\n",
    "\n",
    "\n"
   ]
  },
  {
   "cell_type": "markdown",
   "id": "4c4dbf2c-c748-48ca-b1d8-8d6e8e4bd1bf",
   "metadata": {},
   "source": [
    "names = input(\"이름을 기입해주세요.\").split( )\n",
    "weights = map(float, input(\"몸무게를 입력해주세요.\").split())\n",
    "\n",
    "\n",
    "dict_info = dict(zip(names, weights))\n",
    "print(dict_info)"
   ]
  },
  {
   "cell_type": "code",
   "execution_count": 194,
   "id": "91f358fa-ed51-42a8-9cf6-ea7adf1b03af",
   "metadata": {},
   "outputs": [
    {
     "name": "stdout",
     "output_type": "stream",
     "text": [
      "<class 'list'>\n",
      "[48, 48, 33, 95]\n"
     ]
    },
    {
     "ename": "AttributeError",
     "evalue": "type object 'object' has no attribute 'method'",
     "output_type": "error",
     "traceback": [
      "\u001b[1;31m---------------------------------------------------------------------------\u001b[0m",
      "\u001b[1;31mAttributeError\u001b[0m                            Traceback (most recent call last)",
      "\u001b[1;32m~\\AppData\\Local\\Temp\\ipykernel_16068\\256640239.py\u001b[0m in \u001b[0;36m<module>\u001b[1;34m\u001b[0m\n\u001b[0;32m      5\u001b[0m \u001b[0mprint\u001b[0m\u001b[1;33m(\u001b[0m\u001b[0mlist_a\u001b[0m\u001b[1;33m)\u001b[0m\u001b[1;33m\u001b[0m\u001b[1;33m\u001b[0m\u001b[0m\n\u001b[0;32m      6\u001b[0m \u001b[1;33m\u001b[0m\u001b[0m\n\u001b[1;32m----> 7\u001b[1;33m \u001b[0mobject\u001b[0m\u001b[1;33m.\u001b[0m\u001b[0mmethod\u001b[0m\u001b[1;33m(\u001b[0m\u001b[1;33m)\u001b[0m   \u001b[1;31m# method -> object (class)\u001b[0m\u001b[1;33m\u001b[0m\u001b[1;33m\u001b[0m\u001b[0m\n\u001b[0m",
      "\u001b[1;31mAttributeError\u001b[0m: type object 'object' has no attribute 'method'"
     ]
    }
   ],
   "source": [
    "# 리스트 생성 방법 - 대괄호 사용 [,로 구분]\n",
    "\n",
    "list_a = [48, 48, 33, 95]\n",
    "print(type(list_a))\n",
    "print(list_a)\n",
    "\n",
    "object.method()   # method -> object (class)"
   ]
  },
  {
   "cell_type": "code",
   "execution_count": 196,
   "id": "7a5740f5-4f92-4fee-aa5c-dfcaf63e7d36",
   "metadata": {},
   "outputs": [
    {
     "name": "stdout",
     "output_type": "stream",
     "text": [
      "[]\n",
      "<class 'list'>\n",
      "[]\n",
      "<class 'list'>\n"
     ]
    }
   ],
   "source": [
    "# 빈 리스트\n",
    "\n",
    "empty_list = []\n",
    "print(empty_list)\n",
    "print(type(empty_list))\n",
    "\n",
    "empty_list = list()\n",
    "print(empty_list)\n",
    "print(type(empty_list))"
   ]
  },
  {
   "cell_type": "code",
   "execution_count": 198,
   "id": "4bb5bb5c-40af-4bef-bcf7-0652972ceda3",
   "metadata": {},
   "outputs": [
    {
     "name": "stdin",
     "output_type": "stream",
     "text": [
      "숫자를 띄어쓰기로 구분하여 여럿 입력해보세요. 52 36 32 19\n"
     ]
    },
    {
     "name": "stdout",
     "output_type": "stream",
     "text": [
      "<class 'list'>\n",
      "[52, 36, 32, 19]\n"
     ]
    }
   ],
   "source": [
    "# 리스트 생성 방법 - 문자열.split()\n",
    "# 리스트는 반복되느 객체인 iterable을 인자로 하는 list()합수를 통해서도 생성 가능\n",
    "\n",
    "list_b = list(map(int, input(\"숫자를 띄어쓰기로 구분하여 여럿 입력해보세요.\").split()))\n",
    "print(type(list_b))\n",
    "print(list_b)\n"
   ]
  },
  {
   "cell_type": "code",
   "execution_count": 200,
   "id": "9f2e655e-b4de-4ffd-a00f-70d8500cfce7",
   "metadata": {},
   "outputs": [],
   "source": [
    "# a = []\n",
    "# for i in list 객체:\n",
    "# a.append(int(i))"
   ]
  },
  {
   "cell_type": "code",
   "execution_count": 203,
   "id": "282093c2-b345-48b3-b2d9-b44abae28e63",
   "metadata": {},
   "outputs": [
    {
     "data": {
      "text/plain": [
       "[0, 1, 4, 9, 16, 25, 36, 49, 64, 81]"
      ]
     },
     "execution_count": 203,
     "metadata": {},
     "output_type": "execute_result"
    }
   ],
   "source": [
    "# 리스트 컴프리헨션 (comprehension)\n",
    "\n",
    "# list_variable = [expression for 변수 in iterable]\n",
    "\n",
    "# list : [0, 1, 2, ..., 9]\n",
    "[i**2 for i in list(range(10))]"
   ]
  },
  {
   "cell_type": "code",
   "execution_count": 206,
   "id": "878e7a33-1c9d-4010-9c9c-35238c115637",
   "metadata": {},
   "outputs": [],
   "source": [
    "# list comprehension 동작 순서\n",
    "\n",
    "# 1. 반복가능한 객체(iterable)로부터 값을 하나 꺼내와서 변수에 담습니다.\n",
    "# 2. 요소를 담은 변수를 활용해서 표현식(expression)을 실행합니다.\n",
    "    # *이때 변수는 활용할 수도 활용하지 않을 수도 있습니다.\n",
    "# 3. 표현식 결과 값을 리스트 요소에 넣습니다.\n",
    "# 4. 반복가능한 객체(iterable)로부터 값이 없을 때까지 1~3 과정을 반복합니다.\n",
    "    "
   ]
  },
  {
   "cell_type": "code",
   "execution_count": 205,
   "id": "63ad1049-3bd8-42b0-ac62-e79286adc2d3",
   "metadata": {},
   "outputs": [
    {
     "name": "stdout",
     "output_type": "stream",
     "text": [
      "[1, 2, 3, 4, 5, 6, 7, 8, 9]\n"
     ]
    }
   ],
   "source": [
    "list_c = [i for i in range(1,10)]\n",
    "print(list_c)"
   ]
  },
  {
   "cell_type": "code",
   "execution_count": 209,
   "id": "ee40fc2d-2a0a-4b2a-97eb-293256cdea52",
   "metadata": {},
   "outputs": [
    {
     "name": "stdout",
     "output_type": "stream",
     "text": [
      "<class 'list'>\n",
      "[1, 4, 9, 16, 25, 36, 49, 64, 81]\n"
     ]
    }
   ],
   "source": [
    "prac_result = [i**2 for i in range(1, 10)]\n",
    "print(type(prac_result))\n",
    "print(prac_result)"
   ]
  },
  {
   "cell_type": "code",
   "execution_count": 218,
   "id": "1241607e-c227-416d-80f6-835dea3adcd0",
   "metadata": {},
   "outputs": [
    {
     "name": "stdout",
     "output_type": "stream",
     "text": [
      "[1, 3, 5, 7, 9]\n"
     ]
    }
   ],
   "source": [
    "prac_result2 = [i for i in range(1, 10, 2)]\n",
    "print(prac_result2)"
   ]
  },
  {
   "cell_type": "code",
   "execution_count": 228,
   "id": "95b51bb4-2598-4846-8ee0-bbd8818364f0",
   "metadata": {},
   "outputs": [
    {
     "name": "stdout",
     "output_type": "stream",
     "text": [
      "['a', 'b', 'c', 'd', 'e', 'f', 'g', 'h', 'i', 'j', 'k', 'l', 'm', 'n', 'o', 'p', 'q', 'r', 's', 't', 'u', 'v', 'w', 'x', 'y', 'z']\n"
     ]
    }
   ],
   "source": [
    "prac_result3 = [i for i in 'abcdefghijklmnopqrstuvwxyz']\n",
    "print(prac_result3)"
   ]
  },
  {
   "cell_type": "code",
   "execution_count": 250,
   "id": "c629e7af-8225-4b28-acff-f0deebde0654",
   "metadata": {},
   "outputs": [
    {
     "name": "stdout",
     "output_type": "stream",
     "text": [
      "['2', '3', '4', '5', '6', '7', '8', '9', '10', 'J', 'Q', 'K', 'A']\n"
     ]
    }
   ],
   "source": [
    "prac_result4 = [str(i) for i in range(2,11)] + [_ for _ in 'JQKA']\n",
    "print(prac_result4)"
   ]
  },
  {
   "cell_type": "code",
   "execution_count": 262,
   "id": "84b42cd4-cbfc-487f-8dbf-858c7dfc6a97",
   "metadata": {},
   "outputs": [
    {
     "name": "stdout",
     "output_type": "stream",
     "text": [
      "[['2', '3', '4', '5', '6', '7', '8', '9', '10', 'J', 'Q', 'K', 'A'], ['2', '3', '4', '5', '6', '7', '8', '9', '10', 'J', 'Q', 'K', 'A'], ['2', '3', '4', '5', '6', '7', '8', '9', '10', 'J', 'Q', 'K', 'A'], ['2', '3', '4', '5', '6', '7', '8', '9', '10', 'J', 'Q', 'K', 'A']]\n"
     ]
    }
   ],
   "source": [
    "prac_result5 = [i for i in [prac_result4]*4]\n",
    "print(prac_result5)"
   ]
  },
  {
   "cell_type": "code",
   "execution_count": 263,
   "id": "4388637c-53ab-4a39-bf08-b9dce3c610d9",
   "metadata": {},
   "outputs": [
    {
     "name": "stdout",
     "output_type": "stream",
     "text": [
      "[['2', '3', '4', '5', '6', '7', '8', '9', '10', 'J', 'Q', 'K', 'A'], ['2', '3', '4', '5', '6', '7', '8', '9', '10', 'J', 'Q', 'K', 'A'], ['2', '3', '4', '5', '6', '7', '8', '9', '10', 'J', 'Q', 'K', 'A'], ['2', '3', '4', '5', '6', '7', '8', '9', '10', 'J', 'Q', 'K', 'A']]\n"
     ]
    }
   ],
   "source": [
    "prac_result5 = [prac_result4 for _ in range(4)]\n",
    "print(prac_result5)"
   ]
  },
  {
   "cell_type": "code",
   "execution_count": 264,
   "id": "79c58289-cf54-4650-adc0-96ac50df04c4",
   "metadata": {},
   "outputs": [
    {
     "name": "stdout",
     "output_type": "stream",
     "text": [
      "['two', '3', '4', '5', '6', '7', '8', '9', '10', 'J', 'Q', 'K', 'A']\n"
     ]
    }
   ],
   "source": [
    "# 객체를 담는 변수의 특징\n",
    "prac_result4[0] = 'two'\n",
    "print(prac_result4)"
   ]
  },
  {
   "cell_type": "code",
   "execution_count": 265,
   "id": "256ec129-4d8e-43d7-a550-04f0d59d2177",
   "metadata": {},
   "outputs": [
    {
     "name": "stdout",
     "output_type": "stream",
     "text": [
      "[['two', '3', '4', '5', '6', '7', '8', '9', '10', 'J', 'Q', 'K', 'A'], ['two', '3', '4', '5', '6', '7', '8', '9', '10', 'J', 'Q', 'K', 'A'], ['two', '3', '4', '5', '6', '7', '8', '9', '10', 'J', 'Q', 'K', 'A'], ['two', '3', '4', '5', '6', '7', '8', '9', '10', 'J', 'Q', 'K', 'A']]\n"
     ]
    }
   ],
   "source": [
    "print(prac_result5)"
   ]
  },
  {
   "cell_type": "code",
   "execution_count": 269,
   "id": "97d9c241-54a0-4701-8da6-35e7156c0f10",
   "metadata": {},
   "outputs": [
    {
     "name": "stdout",
     "output_type": "stream",
     "text": [
      "prac_result4의 id: 2238504394368\n",
      "prac_result5[0] : 2238504394368\n",
      "prac_result5[1] : 2238504394368\n",
      "prac_result5[2] : 2238504394368\n",
      "prac_result5[3] : 2238504394368\n"
     ]
    }
   ],
   "source": [
    "# id() 내장 함수\n",
    "\n",
    "print(\"prac_result4의 id:\", id(prac_result4))\n",
    "\n",
    "for i, v in enumerate(prac_result5):\n",
    "    print(\"prac_result5[\", i, \"] : \", id(v), sep=\"\")"
   ]
  },
  {
   "cell_type": "code",
   "execution_count": 280,
   "id": "2b7bf6e1-f75b-4867-9156-a8d2c9af59ee",
   "metadata": {},
   "outputs": [
    {
     "ename": "TypeError",
     "evalue": "'list' object is not callable",
     "output_type": "error",
     "traceback": [
      "\u001b[1;31m---------------------------------------------------------------------------\u001b[0m",
      "\u001b[1;31mTypeError\u001b[0m                                 Traceback (most recent call last)",
      "\u001b[1;32m~\\AppData\\Local\\Temp\\ipykernel_16068\\3425953680.py\u001b[0m in \u001b[0;36m<module>\u001b[1;34m\u001b[0m\n\u001b[0;32m      1\u001b[0m \u001b[0mprac_result6\u001b[0m \u001b[1;33m=\u001b[0m \u001b[1;33m[\u001b[0m\u001b[0mprac_result4\u001b[0m\u001b[1;33m[\u001b[0m\u001b[1;33m:\u001b[0m\u001b[1;33m]\u001b[0m \u001b[1;32mfor\u001b[0m \u001b[0m_\u001b[0m \u001b[1;32min\u001b[0m \u001b[0mrange\u001b[0m\u001b[1;33m(\u001b[0m\u001b[1;36m4\u001b[0m\u001b[1;33m)\u001b[0m\u001b[1;33m]\u001b[0m\u001b[1;33m\u001b[0m\u001b[1;33m\u001b[0m\u001b[0m\n\u001b[0;32m      2\u001b[0m \u001b[1;33m\u001b[0m\u001b[0m\n\u001b[1;32m----> 3\u001b[1;33m \u001b[0mprint\u001b[0m\u001b[1;33m(\u001b[0m\u001b[1;34m\"prac_result4의 id:\"\u001b[0m\u001b[1;33m,\u001b[0m \u001b[0mid\u001b[0m\u001b[1;33m(\u001b[0m\u001b[0mprac_result\u001b[0m\u001b[1;33m(\u001b[0m\u001b[1;36m4\u001b[0m\u001b[1;33m)\u001b[0m\u001b[1;33m)\u001b[0m\u001b[1;33m)\u001b[0m\u001b[1;33m\u001b[0m\u001b[1;33m\u001b[0m\u001b[0m\n\u001b[0m\u001b[0;32m      4\u001b[0m \u001b[1;32mfor\u001b[0m \u001b[0mi\u001b[0m\u001b[1;33m,\u001b[0m \u001b[0mv\u001b[0m \u001b[1;32min\u001b[0m \u001b[0menumerate\u001b[0m\u001b[1;33m(\u001b[0m\u001b[0mprac_result6\u001b[0m\u001b[1;33m)\u001b[0m\u001b[1;33m:\u001b[0m\u001b[1;33m\u001b[0m\u001b[1;33m\u001b[0m\u001b[0m\n\u001b[0;32m      5\u001b[0m       \u001b[0mprint\u001b[0m\u001b[1;33m(\u001b[0m\u001b[1;34m\"prac_result6[\"\u001b[0m\u001b[1;33m,\u001b[0m \u001b[0mi\u001b[0m\u001b[1;33m,\u001b[0m \u001b[1;34m\"] : \"\u001b[0m\u001b[1;33m,\u001b[0m \u001b[0mid\u001b[0m\u001b[1;33m(\u001b[0m\u001b[0mv\u001b[0m\u001b[1;33m)\u001b[0m\u001b[1;33m,\u001b[0m \u001b[0msep\u001b[0m\u001b[1;33m=\u001b[0m\u001b[1;34m\"\"\u001b[0m\u001b[1;33m)\u001b[0m\u001b[1;33m\u001b[0m\u001b[1;33m\u001b[0m\u001b[0m\n",
      "\u001b[1;31mTypeError\u001b[0m: 'list' object is not callable"
     ]
    }
   ],
   "source": [
    "prac_result6 = [prac_result4[:] for _ in range(4)]\n",
    "\n",
    "print(\"prac_result4의 id:\", id(prac_result(4)))\n",
    "for i, v in enumerate(prac_result6):\n",
    "      print(\"prac_result6[\", i, \"] : \", id(v), sep=\"\")"
   ]
  },
  {
   "cell_type": "code",
   "execution_count": 274,
   "id": "9c8970df-589f-493a-91d5-1eba00093ee5",
   "metadata": {},
   "outputs": [
    {
     "name": "stdout",
     "output_type": "stream",
     "text": [
      "2238501151680\n",
      "2238502406848\n",
      "False\n",
      "True\n"
     ]
    }
   ],
   "source": [
    "# [1, 2, 3, 4, 5, 6, 7, 8, 9]\n",
    "old_list = list(range(10))\n",
    "new_list = old_list[:]\n",
    "\n",
    "print(id(old_list))\n",
    "print(id(new_list))\n",
    "print(old_list is new_list)\n",
    "print(old_list == new_list)"
   ]
  },
  {
   "cell_type": "code",
   "execution_count": null,
   "id": "1b47915c-18d8-49a6-af1c-70bf8a07f454",
   "metadata": {},
   "outputs": [],
   "source": []
  }
 ],
 "metadata": {
  "kernelspec": {
   "display_name": "Python 3 (ipykernel)",
   "language": "python",
   "name": "python3"
  },
  "language_info": {
   "codemirror_mode": {
    "name": "ipython",
    "version": 3
   },
   "file_extension": ".py",
   "mimetype": "text/x-python",
   "name": "python",
   "nbconvert_exporter": "python",
   "pygments_lexer": "ipython3",
   "version": "3.9.13"
  }
 },
 "nbformat": 4,
 "nbformat_minor": 5
}
